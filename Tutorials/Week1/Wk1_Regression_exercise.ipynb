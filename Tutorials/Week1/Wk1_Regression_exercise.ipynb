{
 "cells": [
  {
   "cell_type": "markdown",
   "metadata": {},
   "source": [
    "# Week 1: Introduction to Machine Learning for Smart Buildings\n",
    "\n",
    "## Exercise\n",
    "Using the methods introduced in the tutorial, explore the Week 1 Boston housing dataset ('wk1_boston.csv'). Identify some highly correlated features and build a multiple linear regression model:\n",
    "\n",
    "1) Investigate what features are present and their characteristics\n",
    "\n",
    "2) Identify and account for missing and outlier data. To do this, create a single function which identifies outliers and creates the outlier dataframe we created in the tutorial.\n",
    "\n",
    "3) Identify the highly correlated features\n",
    "\n",
    "4) Build and evaluate a multiple linear regression model with a subset of the available input features.\n",
    "\n",
    "5) Build and evaluate a model which includes all of the potential input features.\n",
    "\n",
    "## 1) Investigate what features are present and their characteristics."
   ]
  },
  {
   "cell_type": "code",
   "execution_count": 8,
   "metadata": {},
   "outputs": [],
   "source": [
    "# Import libraries\n",
    "import pandas as pd\n",
    "import numpy as np\n",
    "import seaborn as sns\n",
    "import matplotlib.pyplot as plt\n",
    "%matplotlib inline\n",
    "\n",
    "import statsmodels.api as sm\n",
    "from scipy import stats\n",
    "from sklearn.metrics import mean_squared_error\n",
    "\n",
    "# Read in data\n",
    "\n",
    "DATA_DIR = \"../data/\"\n",
    "# read data with pandas and take a first look"
   ]
  },
  {
   "cell_type": "code",
   "execution_count": 9,
   "metadata": {},
   "outputs": [],
   "source": [
    "# Calculate Summary statistics and plot distributions\n",
    "\n"
   ]
  },
  {
   "cell_type": "markdown",
   "metadata": {},
   "source": [
    "## 2) Identify and account for missing and outlier data. \n",
    "To do this, create a single function which identifies outliers and creates the outlier dataframe."
   ]
  },
  {
   "cell_type": "code",
   "execution_count": 2,
   "metadata": {},
   "outputs": [],
   "source": [
    "def whats_missing(df: pd.DataFrame):\n",
    "    # Replicate the function from the tutorial!\n",
    "    return None\n",
    "\n",
    "def id_outliers(df: pd.DataFrame, threshold: int = 3):\n",
    "    # Build a new function for identifying outliers and extracting as a dataframe\n",
    "\n",
    "    return outlier_df\n",
    "\n",
    "whats_missing()"
   ]
  },
  {
   "cell_type": "code",
   "execution_count": 12,
   "metadata": {},
   "outputs": [],
   "source": [
    "# Remove identified outliers\n"
   ]
  },
  {
   "cell_type": "markdown",
   "metadata": {},
   "source": [
    "## Question\n",
    "\n",
    "* Should you remove any of these outliers? Are there any columns you don't think should have outliers removed?"
   ]
  },
  {
   "cell_type": "markdown",
   "metadata": {},
   "source": [
    "## 3) Identify the highly correlated features\n"
   ]
  },
  {
   "cell_type": "code",
   "execution_count": 13,
   "metadata": {},
   "outputs": [],
   "source": [
    "# Use the Seaborn heatmap\n"
   ]
  },
  {
   "cell_type": "markdown",
   "metadata": {},
   "source": [
    "## 4) Build and evaluate a multiple linear regression model with a subset of the available input features."
   ]
  },
  {
   "cell_type": "code",
   "execution_count": 1,
   "metadata": {},
   "outputs": [],
   "source": [
    "# Step 1: Select variables to use in regression\n",
    "X = df[[]]\n",
    "\n",
    "# choose the output variable\n",
    "\n",
    "# Step 2: fit (train) the OLS model using statsmodels\n",
    "\n",
    "# print the model summary\n"
   ]
  },
  {
   "cell_type": "code",
   "execution_count": 1,
   "metadata": {},
   "outputs": [],
   "source": [
    "# Step 3: Evaluate the performance of the model\n",
    "\n",
    "#use the model to make predictions using the inputs\n",
    "\n",
    "#plot the model predictions vs true values\n"
   ]
  },
  {
   "cell_type": "code",
   "execution_count": 15,
   "metadata": {},
   "outputs": [],
   "source": [
    "# Calculate RMSE and Adjusted R^2 and print\n"
   ]
  },
  {
   "cell_type": "markdown",
   "metadata": {},
   "source": [
    "## 5) Build a model which includes all of the features."
   ]
  },
  {
   "cell_type": "code",
   "execution_count": 2,
   "metadata": {},
   "outputs": [],
   "source": [
    "# Build the model and print summary"
   ]
  },
  {
   "cell_type": "code",
   "execution_count": 3,
   "metadata": {},
   "outputs": [],
   "source": [
    "# Calculate RMSE and R^2"
   ]
  },
  {
   "cell_type": "markdown",
   "metadata": {},
   "source": [
    "## *Questions*\n",
    "* Does the Adjusted R^2 improve? \n",
    "\n",
    "* Is this an acceptable model? Why might you not want to use this model compared to one with fewer input features? Hint: pay attention to the Warnings raised in the model summary. \n",
    "\n",
    "* What other methods might you use to choose what input features to include?\n",
    "\n"
   ]
  },
  {
   "cell_type": "code",
   "execution_count": null,
   "metadata": {},
   "outputs": [],
   "source": []
  }
 ],
 "metadata": {
  "kernelspec": {
   "display_name": "Python 3.7.7 64-bit ('Data-Science': conda)",
   "language": "python",
   "name": "python37764bitdatasciencecondace1a0a67d841473fa45ec38847d687e7"
  },
  "language_info": {
   "codemirror_mode": {
    "name": "ipython",
    "version": 3
   },
   "file_extension": ".py",
   "mimetype": "text/x-python",
   "name": "python",
   "nbconvert_exporter": "python",
   "pygments_lexer": "ipython3",
   "version": "3.7.9-final"
  }
 },
 "nbformat": 4,
 "nbformat_minor": 4
}
