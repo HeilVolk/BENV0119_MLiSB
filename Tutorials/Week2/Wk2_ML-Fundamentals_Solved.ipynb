{
 "cells": [
  {
   "cell_type": "markdown",
   "metadata": {},
   "source": [
    "# Week 2: Machine Learning Fundamentals\n",
    "\n",
    "## Tutorial Outline\n",
    "\n",
    " 1. Introduction to Scikit learn\n",
    "   * The sklearn framework\n",
    "   * Training and test splits\n",
    "   * Normalization\n",
    " 2. Model testing and hyper-parameter tuning\n",
    "   * Train-test-split\n",
    "   *  Cross-validation\n",
    "\n",
    "## Exercise\n",
    "Using the Sklearn framework, fit 3 other types of regression models to the EnergyPlus data. Some options include:\n",
    "* Ridge regression\n",
    "* LARS LASSO\n",
    "* Polynomial regression\n",
    "* Support Vector Regression\n",
    "* Decision Trees Regression \n",
    "* And more! See: https://scikit-learn.org/stable/supervised_learning.html\n",
    "\n",
    "We will discuss these in more detail through the course (particularly with Nahid), so for now just focus on getting sklearn to work with them. You don't necessarily need to understand how they are working. \n",
    "\n",
    "I suggest going to the sklearn link above and referring to the documentation for whichever model you choose to fit. \n",
    "\n",
    "For all three, start with a train-test-split, calculating the scoring metric on the test set. Then, cross validation for the hyper parameter tuning for one of the poorly performing models to improve it.\n",
    "\n",
    "### Optional\n",
    "* Fit a Multi-output Regression.\n",
    "* Apply PCA on the input features and build a linear regression with the principle componenets\n",
    "\n",
    "## Scikit-learn Framework\n",
    "For this tutorial and exercise, we're again going to work with the EnergyPlus dataset."
   ]
  },
  {
   "cell_type": "code",
   "execution_count": 5,
   "metadata": {},
   "outputs": [
    {
     "name": "stdout",
     "output_type": "stream",
     "text": [
      "(300, 11)\n"
     ]
    },
    {
     "data": {
      "text/html": [
       "<div>\n",
       "<style scoped>\n",
       "    .dataframe tbody tr th:only-of-type {\n",
       "        vertical-align: middle;\n",
       "    }\n",
       "\n",
       "    .dataframe tbody tr th {\n",
       "        vertical-align: top;\n",
       "    }\n",
       "\n",
       "    .dataframe thead th {\n",
       "        text-align: right;\n",
       "    }\n",
       "</style>\n",
       "<table border=\"1\" class=\"dataframe\">\n",
       "  <thead>\n",
       "    <tr style=\"text-align: right;\">\n",
       "      <th></th>\n",
       "      <th>#</th>\n",
       "      <th>@@ORI@@</th>\n",
       "      <th>@@WINS@@</th>\n",
       "      <th>@@RSA@@</th>\n",
       "      <th>@@OVER@@</th>\n",
       "      <th>@@HS@@</th>\n",
       "      <th>@@LIGHTS@@</th>\n",
       "      <th>Electricity:Facility [J](RunPeriod)</th>\n",
       "      <th>DistrictHeating:Facility [J](RunPeriod)</th>\n",
       "      <th>DistrictCooling:Facility [J](RunPeriod)</th>\n",
       "      <th>ZONE ONE: Thermal Comfort</th>\n",
       "    </tr>\n",
       "  </thead>\n",
       "  <tbody>\n",
       "    <tr>\n",
       "      <th>0</th>\n",
       "      <td>0</td>\n",
       "      <td>78.163820</td>\n",
       "      <td>0.053802</td>\n",
       "      <td>0.418632</td>\n",
       "      <td>1.637014</td>\n",
       "      <td>17.195533</td>\n",
       "      <td>888.799227</td>\n",
       "      <td>9404491280</td>\n",
       "      <td>30747395742</td>\n",
       "      <td>178490805.8</td>\n",
       "      <td>6898.00</td>\n",
       "    </tr>\n",
       "    <tr>\n",
       "      <th>1</th>\n",
       "      <td>1</td>\n",
       "      <td>23.607704</td>\n",
       "      <td>0.064955</td>\n",
       "      <td>0.555359</td>\n",
       "      <td>0.132123</td>\n",
       "      <td>16.913773</td>\n",
       "      <td>958.359145</td>\n",
       "      <td>10140513118</td>\n",
       "      <td>29147949673</td>\n",
       "      <td>561839853.9</td>\n",
       "      <td>6807.00</td>\n",
       "    </tr>\n",
       "    <tr>\n",
       "      <th>2</th>\n",
       "      <td>2</td>\n",
       "      <td>85.610326</td>\n",
       "      <td>0.083691</td>\n",
       "      <td>0.649926</td>\n",
       "      <td>1.753641</td>\n",
       "      <td>19.757729</td>\n",
       "      <td>893.258468</td>\n",
       "      <td>9451675042</td>\n",
       "      <td>55906456798</td>\n",
       "      <td>264190321.3</td>\n",
       "      <td>6643.50</td>\n",
       "    </tr>\n",
       "    <tr>\n",
       "      <th>3</th>\n",
       "      <td>3</td>\n",
       "      <td>69.434576</td>\n",
       "      <td>0.050434</td>\n",
       "      <td>0.552010</td>\n",
       "      <td>0.276761</td>\n",
       "      <td>19.630274</td>\n",
       "      <td>1167.045742</td>\n",
       "      <td>12348651047</td>\n",
       "      <td>49637586712</td>\n",
       "      <td>504282183.7</td>\n",
       "      <td>6417.75</td>\n",
       "    </tr>\n",
       "    <tr>\n",
       "      <th>4</th>\n",
       "      <td>4</td>\n",
       "      <td>36.637364</td>\n",
       "      <td>0.069938</td>\n",
       "      <td>0.802213</td>\n",
       "      <td>1.631944</td>\n",
       "      <td>17.901530</td>\n",
       "      <td>976.628502</td>\n",
       "      <td>10333823375</td>\n",
       "      <td>37432515190</td>\n",
       "      <td>345733198.1</td>\n",
       "      <td>6845.00</td>\n",
       "    </tr>\n",
       "  </tbody>\n",
       "</table>\n",
       "</div>"
      ],
      "text/plain": [
       "   #    @@ORI@@  @@WINS@@   @@RSA@@  @@OVER@@     @@HS@@   @@LIGHTS@@  \\\n",
       "0  0  78.163820  0.053802  0.418632  1.637014  17.195533   888.799227   \n",
       "1  1  23.607704  0.064955  0.555359  0.132123  16.913773   958.359145   \n",
       "2  2  85.610326  0.083691  0.649926  1.753641  19.757729   893.258468   \n",
       "3  3  69.434576  0.050434  0.552010  0.276761  19.630274  1167.045742   \n",
       "4  4  36.637364  0.069938  0.802213  1.631944  17.901530   976.628502   \n",
       "\n",
       "   Electricity:Facility [J](RunPeriod)  \\\n",
       "0                           9404491280   \n",
       "1                          10140513118   \n",
       "2                           9451675042   \n",
       "3                          12348651047   \n",
       "4                          10333823375   \n",
       "\n",
       "   DistrictHeating:Facility [J](RunPeriod)  \\\n",
       "0                              30747395742   \n",
       "1                              29147949673   \n",
       "2                              55906456798   \n",
       "3                              49637586712   \n",
       "4                              37432515190   \n",
       "\n",
       "   DistrictCooling:Facility [J](RunPeriod)  ZONE ONE: Thermal Comfort  \n",
       "0                              178490805.8                    6898.00  \n",
       "1                              561839853.9                    6807.00  \n",
       "2                              264190321.3                    6643.50  \n",
       "3                              504282183.7                    6417.75  \n",
       "4                              345733198.1                    6845.00  "
      ]
     },
     "execution_count": 5,
     "metadata": {},
     "output_type": "execute_result"
    }
   ],
   "source": [
    "# Load data into pandas\n",
    "import pandas as pd\n",
    "import numpy as np\n",
    "import matplotlib.pyplot as plt\n",
    "import seaborn as sns\n",
    "%matplotlib inline\n",
    "sns.set_context('notebook')\n",
    "sns.set_style('ticks')\n",
    "np.random.seed()\n",
    "\n",
    "\n",
    "# Load data\n",
    "DATA_DIR = \"data//\"\n",
    "df = pd.read_csv(DATA_DIR + \"Week2_EnergyPlus_data.csv\")\n",
    "df = df.rename(columns={\"ZONE ONE:Zone Thermal Comfort ASHRAE 55 Simple Model Summer or Winter Clothes Not Comfortable Time [hr](RunPeriod)\": \"ZONE ONE: Thermal Comfort\"}) # Rename for convenience\n",
    "# Note: I already know this is a clean dataset with no missing data.\n",
    "\n",
    "print(df.shape)\n",
    "df.head()"
   ]
  },
  {
   "cell_type": "markdown",
   "metadata": {},
   "source": [
    "## Models with Scikit-Learn\n",
    "\n",
    "All models in sklearn follow a consistent API. This tutorial is closely adapted from the following by Jake VanderPlas: https://jakevdp.github.io/PythonDataScienceHandbook/05.02-introducing-scikit-learn.html I encourage everyone to refer to that for a more in depth discussion of each part of the API and for more great examples.\n",
    "\n",
    "\n",
    "### the sklearn framework\n",
    "\n",
    "Most commonly, the steps in using the sklearn estimator API are:\n",
    "\n",
    "1. Choose a class of model by importing the appropriate estimator class from sklearn.\n",
    "2. Choose model hyperparameters by instantiating this class with the desired values.\n",
    "3. Arrange data into a features matrix and target vector. \n",
    "4. Fit the model to your data by calling the fit() method of the model instance. \n",
    "5. Apply the Model to new data:\n",
    "    * For supervised learning, often we predict labels for unknown data using the `predict()` method.\n",
    "    * For unsupervised learning, we often transform or infer properties of the data using the `transform()` or `predict()` method.\n",
    "\n",
    "We'll first demonstrate this process by replicating the multiple linear regression we did last week in `statsmodels`.\n",
    "\n",
    "#### 1. Choose a class of model\n",
    "\n",
    "In sklearn, every class of model is represented by a Python class. "
   ]
  },
  {
   "cell_type": "code",
   "execution_count": 6,
   "metadata": {},
   "outputs": [],
   "source": [
    "from sklearn.linear_model import LinearRegression"
   ]
  },
  {
   "cell_type": "markdown",
   "metadata": {},
   "source": [
    "#### 2. Choose model hyperparameters\n",
    "Once we have decided on our model class, we need to create an instance of the model, with our chosen options. Depending on the model class we are working with, we might need to answer one or more questions like the following:\n",
    "\n",
    "* Would we like to fit for the offset (i.e. y-intercept)? (In this case, yes)\n",
    "* Would we like the model to be normalized?\n",
    "* Would we like to preprocess our features to add model flexibility?\n",
    "* What degree of regularization would we like to use in our model?\n",
    "* How many model components would we like to use?\n",
    "\n",
    "These are all choices which need to be made *once the model class is selected*. \n",
    "\n",
    "For our example, we can instantiate the `LinearRegression` class and specify that we would like to fit the intercept using the `fit_intercept`  hyperparameter.\n"
   ]
  },
  {
   "cell_type": "code",
   "execution_count": 7,
   "metadata": {},
   "outputs": [
    {
     "data": {
      "text/plain": [
       "LinearRegression()"
      ]
     },
     "execution_count": 7,
     "metadata": {},
     "output_type": "execute_result"
    }
   ],
   "source": [
    "model = LinearRegression(fit_intercept=True)\n",
    "model"
   ]
  },
  {
   "cell_type": "markdown",
   "metadata": {},
   "source": [
    "At this point, the only action is the storing of the hyperparameters, but we have not yet applied the model to any data. \"the Scikit-Learn API makes very clear the distinction between *choice of model* and *application of model to data*.\n",
    "\n",
    "#### 3. Arrange data inta a features matrix and target vector. \n",
    "sklearn does not deal directly with the full pandas Dataframe, instead we split it up based on what our ML task is. We will extract the features matrix and target array from the `DataFrame`. For the Boston dataset, `MV` (the median value) is our target feature, and everything else goes into our inputs.\n",
    "\n",
    "The samples (i.e. rows) always refer to the individual objects described by the dataset. The features (i.e. columns) always refer to the distinct observations that describe each sample in a quantitative manner (this is a principle of tidy data, see [Hadley Wickham for more](https://vita.had.co.nz/papers/tidy-data.pdf))\n",
    "\n",
    "For use in sklearn, we will extract the features matrix and target array from the `DataFrame`. For the Boston dataset, `MV` (the median value) is our target feature and, to replicate what we did last week, we'll use `LSTAT` and `RM` as the inputs."
   ]
  },
  {
   "cell_type": "code",
   "execution_count": 8,
   "metadata": {},
   "outputs": [
    {
     "data": {
      "text/plain": [
       "((300, 6), (300,))"
      ]
     },
     "execution_count": 8,
     "metadata": {},
     "output_type": "execute_result"
    }
   ],
   "source": [
    "# X = df.drop('MV', axis=1)\n",
    "X = df[[\"@@ORI@@\", \"@@WINS@@\", \"@@RSA@@\", \"@@OVER@@\", \"@@HS@@\", \"@@LIGHTS@@\"]]\n",
    "y = df['DistrictHeating:Facility [J](RunPeriod)']\n",
    "X.shape, y.shape"
   ]
  },
  {
   "cell_type": "markdown",
   "metadata": {},
   "source": [
    "To summarize, the expected layout of features and target values is visualised in the following diagram:\n",
    "\n",
    "![title](https://jakevdp.github.io/PythonDataScienceHandbook/figures/05.02-samples-features.png)"
   ]
  },
  {
   "cell_type": "markdown",
   "metadata": {},
   "source": [
    "#### 4. Fit the model to your data\n",
    "Now it is time to apply our model to data. This can be done with the `fit()` method of the model."
   ]
  },
  {
   "cell_type": "code",
   "execution_count": 9,
   "metadata": {},
   "outputs": [
    {
     "data": {
      "text/plain": [
       "LinearRegression()"
      ]
     },
     "execution_count": 9,
     "metadata": {},
     "output_type": "execute_result"
    }
   ],
   "source": [
    "model.fit(X, y)"
   ]
  },
  {
   "cell_type": "markdown",
   "metadata": {},
   "source": [
    "The `fit()` command causes a number of model-dependent internal computations to take place, and the results of these computations are stored in model-specific attributes that the user can explore. In Scikit-learn, by convention, all model parameters that were learned during the `fit()` process have trailing underscores; For example, in this linear model, we have the following:"
   ]
  },
  {
   "cell_type": "code",
   "execution_count": 10,
   "metadata": {},
   "outputs": [
    {
     "data": {
      "text/plain": [
       "array([ 6.76724396e+05,  1.12972832e+11, -1.33656651e+09,  1.97349728e+08,\n",
       "        8.91706300e+09, -4.08926860e+06])"
      ]
     },
     "execution_count": 10,
     "metadata": {},
     "output_type": "execute_result"
    }
   ],
   "source": [
    "model.coef_"
   ]
  },
  {
   "cell_type": "code",
   "execution_count": 11,
   "metadata": {},
   "outputs": [
    {
     "data": {
      "text/plain": [
       "-125015314943.2562"
      ]
     },
     "execution_count": 11,
     "metadata": {},
     "output_type": "execute_result"
    }
   ],
   "source": [
    "model.intercept_"
   ]
  },
  {
   "cell_type": "markdown",
   "metadata": {},
   "source": [
    "These two parameters represent the slopes and intercept of the multiple linear fit to the data. Comparing to the model generated by `statsmodels` last week, we can see that these parameters are all the same as last weeks (which we would expect, since it's just an alternative package for fiting the same model). "
   ]
  },
  {
   "cell_type": "markdown",
   "metadata": {},
   "source": [
    "#### 5. Apply the Model to the data\n",
    "Once the model is trained, the main task of supervised machine learning is to evaluate it based on what it says about new data that was not part of the training set. In Scikit-Learn, this can be done using the `predict()` method. For the purposes of demonstration at the moment, we'll just predict on the initial data. Typically, we should split the data into training and test sets, we'll go over this later."
   ]
  },
  {
   "cell_type": "code",
   "execution_count": 12,
   "metadata": {},
   "outputs": [
    {
     "name": "stdout",
     "output_type": "stream",
     "text": [
      "R^2 score:  0.9847591018190575\n"
     ]
    }
   ],
   "source": [
    "yfit = model.predict(X)\n",
    "print(\"R^2 score: \", model.score(X, y))"
   ]
  },
  {
   "cell_type": "markdown",
   "metadata": {},
   "source": [
    "Finally, let's visualise the results by plotting the raw data and this model fit:"
   ]
  },
  {
   "cell_type": "code",
   "execution_count": 13,
   "metadata": {},
   "outputs": [
    {
     "data": {
      "text/plain": [
       "Text(0.5, 0, 'Predicted values')"
      ]
     },
     "execution_count": 13,
     "metadata": {},
     "output_type": "execute_result"
    },
    {
     "data": {
      "image/png": "[encoded data removed]",
      "text/plain": [
       "<Figure size 432x432 with 1 Axes>"
      ]
     },
     "metadata": {},
     "output_type": "display_data"
    }
   ],
   "source": [
    "fig, ax = plt.subplots(1, 1, figsize=(6,6))\n",
    "ax.scatter(yfit, y)\n",
    "ax.set_ylabel('DistrictHeating:Facility [J](RunPeriod)')\n",
    "ax.set_xlabel(\"Predicted values\")"
   ]
  },
  {
   "cell_type": "markdown",
   "metadata": {},
   "source": [
    "### Normalization\n",
    "\n",
    "Standardize features by removing the mean and scaling to unit variance\n",
    "\n",
    "Standardization of a dataset is a common requirement for many machine learning estimators: they might behave badly if the individual features do not more or less look like standard normally distributed data (e.g. Gaussian with 0 mean and unit variance)."
   ]
  },
  {
   "cell_type": "code",
   "execution_count": 14,
   "metadata": {},
   "outputs": [
    {
     "name": "stdout",
     "output_type": "stream",
     "text": [
      "StandardScaler()\n"
     ]
    }
   ],
   "source": [
    "from sklearn.preprocessing import StandardScaler\n",
    "\n",
    "scaler = StandardScaler()\n",
    "print(scaler.fit(df))\n"
   ]
  },
  {
   "cell_type": "code",
   "execution_count": 15,
   "metadata": {},
   "outputs": [
    {
     "name": "stdout",
     "output_type": "stream",
     "text": [
      "[1.49500000e+02 4.50008252e+01 5.99936388e-02 5.99979983e-01\n",
      " 1.10004645e+00 1.90022498e+01 9.99968039e+02 1.05807818e+10\n",
      " 4.65630906e+10 3.58011252e+08 6.08350333e+03]\n"
     ]
    }
   ],
   "source": [
    "print(scaler.mean_)\n"
   ]
  },
  {
   "cell_type": "code",
   "execution_count": 16,
   "metadata": {},
   "outputs": [
    {
     "data": {
      "text/html": [
       "<div>\n",
       "<style scoped>\n",
       "    .dataframe tbody tr th:only-of-type {\n",
       "        vertical-align: middle;\n",
       "    }\n",
       "\n",
       "    .dataframe tbody tr th {\n",
       "        vertical-align: top;\n",
       "    }\n",
       "\n",
       "    .dataframe thead th {\n",
       "        text-align: right;\n",
       "    }\n",
       "</style>\n",
       "<table border=\"1\" class=\"dataframe\">\n",
       "  <thead>\n",
       "    <tr style=\"text-align: right;\">\n",
       "      <th></th>\n",
       "      <th>#</th>\n",
       "      <th>@@ORI@@</th>\n",
       "      <th>@@WINS@@</th>\n",
       "      <th>@@RSA@@</th>\n",
       "      <th>@@OVER@@</th>\n",
       "      <th>@@HS@@</th>\n",
       "      <th>@@LIGHTS@@</th>\n",
       "      <th>Electricity:Facility [J](RunPeriod)</th>\n",
       "      <th>DistrictHeating:Facility [J](RunPeriod)</th>\n",
       "      <th>DistrictCooling:Facility [J](RunPeriod)</th>\n",
       "      <th>ZONE ONE: Thermal Comfort</th>\n",
       "    </tr>\n",
       "  </thead>\n",
       "  <tbody>\n",
       "    <tr>\n",
       "      <th>0</th>\n",
       "      <td>-1.726287</td>\n",
       "      <td>1.276292</td>\n",
       "      <td>-0.414338</td>\n",
       "      <td>-1.480467</td>\n",
       "      <td>0.929729</td>\n",
       "      <td>-1.207046</td>\n",
       "      <td>-1.088719</td>\n",
       "      <td>-1.088719</td>\n",
       "      <td>-1.177710</td>\n",
       "      <td>-1.639190</td>\n",
       "      <td>0.585279</td>\n",
       "    </tr>\n",
       "    <tr>\n",
       "      <th>1</th>\n",
       "      <td>-1.714740</td>\n",
       "      <td>-0.823323</td>\n",
       "      <td>0.332017</td>\n",
       "      <td>-0.364270</td>\n",
       "      <td>-1.675904</td>\n",
       "      <td>-1.395287</td>\n",
       "      <td>-0.407492</td>\n",
       "      <td>-0.407492</td>\n",
       "      <td>-1.296812</td>\n",
       "      <td>1.861146</td>\n",
       "      <td>0.519888</td>\n",
       "    </tr>\n",
       "    <tr>\n",
       "      <th>2</th>\n",
       "      <td>-1.703193</td>\n",
       "      <td>1.562873</td>\n",
       "      <td>1.585828</td>\n",
       "      <td>0.407747</td>\n",
       "      <td>1.131661</td>\n",
       "      <td>0.504727</td>\n",
       "      <td>-1.045048</td>\n",
       "      <td>-1.045048</td>\n",
       "      <td>0.695750</td>\n",
       "      <td>-0.856673</td>\n",
       "      <td>0.402401</td>\n",
       "    </tr>\n",
       "    <tr>\n",
       "      <th>3</th>\n",
       "      <td>-1.691646</td>\n",
       "      <td>0.940343</td>\n",
       "      <td>-0.639721</td>\n",
       "      <td>-0.391609</td>\n",
       "      <td>-1.425472</td>\n",
       "      <td>0.419576</td>\n",
       "      <td>1.636256</td>\n",
       "      <td>1.636256</td>\n",
       "      <td>0.228941</td>\n",
       "      <td>1.335591</td>\n",
       "      <td>0.240182</td>\n",
       "    </tr>\n",
       "    <tr>\n",
       "      <th>4</th>\n",
       "      <td>-1.680099</td>\n",
       "      <td>-0.321871</td>\n",
       "      <td>0.665498</td>\n",
       "      <td>1.650973</td>\n",
       "      <td>0.920951</td>\n",
       "      <td>-0.735378</td>\n",
       "      <td>-0.228573</td>\n",
       "      <td>-0.228573</td>\n",
       "      <td>-0.679905</td>\n",
       "      <td>-0.112110</td>\n",
       "      <td>0.547194</td>\n",
       "    </tr>\n",
       "    <tr>\n",
       "      <th>...</th>\n",
       "      <td>...</td>\n",
       "      <td>...</td>\n",
       "      <td>...</td>\n",
       "      <td>...</td>\n",
       "      <td>...</td>\n",
       "      <td>...</td>\n",
       "      <td>...</td>\n",
       "      <td>...</td>\n",
       "      <td>...</td>\n",
       "      <td>...</td>\n",
       "      <td>...</td>\n",
       "    </tr>\n",
       "    <tr>\n",
       "      <th>295</th>\n",
       "      <td>1.680099</td>\n",
       "      <td>-1.291850</td>\n",
       "      <td>-0.511445</td>\n",
       "      <td>-1.606234</td>\n",
       "      <td>-0.363322</td>\n",
       "      <td>1.043596</td>\n",
       "      <td>-1.629293</td>\n",
       "      <td>-1.629293</td>\n",
       "      <td>1.058827</td>\n",
       "      <td>-0.589663</td>\n",
       "      <td>-0.828522</td>\n",
       "    </tr>\n",
       "    <tr>\n",
       "      <th>296</th>\n",
       "      <td>1.691646</td>\n",
       "      <td>-0.620000</td>\n",
       "      <td>-0.389380</td>\n",
       "      <td>-1.189542</td>\n",
       "      <td>0.406577</td>\n",
       "      <td>0.483921</td>\n",
       "      <td>2.294132</td>\n",
       "      <td>2.294132</td>\n",
       "      <td>0.353818</td>\n",
       "      <td>-0.087824</td>\n",
       "      <td>0.229403</td>\n",
       "    </tr>\n",
       "    <tr>\n",
       "      <th>297</th>\n",
       "      <td>1.703193</td>\n",
       "      <td>1.235038</td>\n",
       "      <td>-0.836656</td>\n",
       "      <td>-1.868564</td>\n",
       "      <td>1.014857</td>\n",
       "      <td>-0.486845</td>\n",
       "      <td>0.105383</td>\n",
       "      <td>0.105383</td>\n",
       "      <td>-0.604480</td>\n",
       "      <td>-1.594844</td>\n",
       "      <td>0.546475</td>\n",
       "    </tr>\n",
       "    <tr>\n",
       "      <th>298</th>\n",
       "      <td>1.714740</td>\n",
       "      <td>0.917118</td>\n",
       "      <td>-0.334677</td>\n",
       "      <td>-0.370950</td>\n",
       "      <td>-1.536809</td>\n",
       "      <td>1.441374</td>\n",
       "      <td>0.434853</td>\n",
       "      <td>0.434853</td>\n",
       "      <td>1.413719</td>\n",
       "      <td>1.207310</td>\n",
       "      <td>-1.748480</td>\n",
       "    </tr>\n",
       "    <tr>\n",
       "      <th>299</th>\n",
       "      <td>1.726287</td>\n",
       "      <td>0.242450</td>\n",
       "      <td>-1.230160</td>\n",
       "      <td>-0.231855</td>\n",
       "      <td>1.529244</td>\n",
       "      <td>0.394228</td>\n",
       "      <td>0.576320</td>\n",
       "      <td>0.576320</td>\n",
       "      <td>0.199853</td>\n",
       "      <td>-1.143779</td>\n",
       "      <td>0.345633</td>\n",
       "    </tr>\n",
       "  </tbody>\n",
       "</table>\n",
       "<p>300 rows × 11 columns</p>\n",
       "</div>"
      ],
      "text/plain": [
       "            #   @@ORI@@  @@WINS@@   @@RSA@@  @@OVER@@    @@HS@@  @@LIGHTS@@  \\\n",
       "0   -1.726287  1.276292 -0.414338 -1.480467  0.929729 -1.207046   -1.088719   \n",
       "1   -1.714740 -0.823323  0.332017 -0.364270 -1.675904 -1.395287   -0.407492   \n",
       "2   -1.703193  1.562873  1.585828  0.407747  1.131661  0.504727   -1.045048   \n",
       "3   -1.691646  0.940343 -0.639721 -0.391609 -1.425472  0.419576    1.636256   \n",
       "4   -1.680099 -0.321871  0.665498  1.650973  0.920951 -0.735378   -0.228573   \n",
       "..        ...       ...       ...       ...       ...       ...         ...   \n",
       "295  1.680099 -1.291850 -0.511445 -1.606234 -0.363322  1.043596   -1.629293   \n",
       "296  1.691646 -0.620000 -0.389380 -1.189542  0.406577  0.483921    2.294132   \n",
       "297  1.703193  1.235038 -0.836656 -1.868564  1.014857 -0.486845    0.105383   \n",
       "298  1.714740  0.917118 -0.334677 -0.370950 -1.536809  1.441374    0.434853   \n",
       "299  1.726287  0.242450 -1.230160 -0.231855  1.529244  0.394228    0.576320   \n",
       "\n",
       "     Electricity:Facility [J](RunPeriod)  \\\n",
       "0                              -1.088719   \n",
       "1                              -0.407492   \n",
       "2                              -1.045048   \n",
       "3                               1.636256   \n",
       "4                              -0.228573   \n",
       "..                                   ...   \n",
       "295                            -1.629293   \n",
       "296                             2.294132   \n",
       "297                             0.105383   \n",
       "298                             0.434853   \n",
       "299                             0.576320   \n",
       "\n",
       "     DistrictHeating:Facility [J](RunPeriod)  \\\n",
       "0                                  -1.177710   \n",
       "1                                  -1.296812   \n",
       "2                                   0.695750   \n",
       "3                                   0.228941   \n",
       "4                                  -0.679905   \n",
       "..                                       ...   \n",
       "295                                 1.058827   \n",
       "296                                 0.353818   \n",
       "297                                -0.604480   \n",
       "298                                 1.413719   \n",
       "299                                 0.199853   \n",
       "\n",
       "     DistrictCooling:Facility [J](RunPeriod)  ZONE ONE: Thermal Comfort  \n",
       "0                                  -1.639190                   0.585279  \n",
       "1                                   1.861146                   0.519888  \n",
       "2                                  -0.856673                   0.402401  \n",
       "3                                   1.335591                   0.240182  \n",
       "4                                  -0.112110                   0.547194  \n",
       "..                                       ...                        ...  \n",
       "295                                -0.589663                  -0.828522  \n",
       "296                                -0.087824                   0.229403  \n",
       "297                                -1.594844                   0.546475  \n",
       "298                                 1.207310                  -1.748480  \n",
       "299                                -1.143779                   0.345633  \n",
       "\n",
       "[300 rows x 11 columns]"
      ]
     },
     "execution_count": 16,
     "metadata": {},
     "output_type": "execute_result"
    }
   ],
   "source": [
    "df_norm = df.copy()\n",
    "df_norm[df_norm.columns] = scaler.transform(df)\n",
    "df_norm"
   ]
  },
  {
   "cell_type": "code",
   "execution_count": 17,
   "metadata": {},
   "outputs": [
    {
     "data": {
      "text/plain": [
       "array([ 0.00130938,  0.12570758, -0.0121914 ,  0.00848747,  0.99388907,\n",
       "       -0.03109301])"
      ]
     },
     "execution_count": 17,
     "metadata": {},
     "output_type": "execute_result"
    }
   ],
   "source": [
    "model_2 = LinearRegression()\n",
    "\n",
    "X = df_norm[[\"@@ORI@@\", \"@@WINS@@\", \"@@RSA@@\", \"@@OVER@@\", \"@@HS@@\", \"@@LIGHTS@@\"]]\n",
    "y = df_norm['DistrictHeating:Facility [J](RunPeriod)']\n",
    "\n",
    "model_2.fit(X, y)\n",
    "model_2.coef_"
   ]
  },
  {
   "cell_type": "code",
   "execution_count": 18,
   "metadata": {},
   "outputs": [
    {
     "data": {
      "text/plain": [
       "array([ 6.76724396e+05,  1.12972832e+11, -1.33656651e+09,  1.97349728e+08,\n",
       "        8.91706300e+09, -4.08926860e+06])"
      ]
     },
     "execution_count": 18,
     "metadata": {},
     "output_type": "execute_result"
    }
   ],
   "source": [
    "model.coef_"
   ]
  },
  {
   "cell_type": "code",
   "execution_count": 19,
   "metadata": {},
   "outputs": [
    {
     "data": {
      "text/plain": [
       "Text(0.5, 0, 'Predicted values')"
      ]
     },
     "execution_count": 19,
     "metadata": {},
     "output_type": "execute_result"
    },
    {
     "data": {
      "image/png": "[encoded data removed]",
      "text/plain": [
       "<Figure size 432x432 with 1 Axes>"
      ]
     },
     "metadata": {},
     "output_type": "display_data"
    }
   ],
   "source": [
    "yfit = model_2.predict(X)\n",
    "fig, ax = plt.subplots(1, 1, figsize=(6,6))\n",
    "ax.scatter(yfit, y)\n",
    "ax.set_ylabel('DistrictHeating:Facility [J](RunPeriod)')\n",
    "ax.set_xlabel(\"Predicted values\")"
   ]
  },
  {
   "cell_type": "markdown",
   "metadata": {},
   "source": [
    "**We're going to use the normalized dataset throughout the rest of the tutorial and exercise.**"
   ]
  },
  {
   "cell_type": "markdown",
   "metadata": {},
   "source": [
    "### Training and test splits\n",
    "Resources: [sklearn documentation on cross-validation and model selection.](https://scikit-learn.org/stable/modules/cross_validation.html#cross-validation)\n",
    "\n",
    "Particularly when we are focused on prediction (as opposed to inferential statistics) we would like to evaluate the model on data it has not seen before, so we will split the data into a *training set* and a *testing set*. This could be done by hand, but it is more convenient to use the `train_test_split` utility function."
   ]
  },
  {
   "cell_type": "code",
   "execution_count": 20,
   "metadata": {},
   "outputs": [
    {
     "name": "stdout",
     "output_type": "stream",
     "text": [
      "Xtrain:  (210, 6)\n",
      "ytrain:  (210,)\n",
      "Xtest:  (90, 6)\n",
      "ytest:  (90,)\n"
     ]
    }
   ],
   "source": [
    "from sklearn.model_selection import train_test_split\n",
    "\n",
    "X = df_norm[[\"@@ORI@@\", \"@@WINS@@\", \"@@RSA@@\", \"@@OVER@@\", \"@@HS@@\", \"@@LIGHTS@@\"]]\n",
    "y = df_norm['DistrictHeating:Facility [J](RunPeriod)']\n",
    "\n",
    "Xtrain, Xtest, ytrain, ytest = train_test_split(X, y, test_size=0.3, random_state=42)\n",
    "\n",
    "print('Xtrain: ', Xtrain.shape)\n",
    "print('ytrain: ', ytrain.shape)\n",
    "print('Xtest: ', Xtest.shape)\n",
    "print('ytest: ', ytest.shape)"
   ]
  },
  {
   "cell_type": "markdown",
   "metadata": {},
   "source": [
    "The `test_size` variable sets what proportion of the dataset to include in the test split. In this case we've done a 70% train, 30% test split. `random_state` controls the random shuffling applied to the data before applying the split. We want to randomly sample the data splits, rather than e.g. just taking the first 70% for the training set. The `random_state` sets the random seed for reproducible output across multiple function calls.\n",
    "\n",
    "Now, we `fit` the model to the training sets, and `predict` on the testing sets to evaluate the model."
   ]
  },
  {
   "cell_type": "code",
   "execution_count": 21,
   "metadata": {},
   "outputs": [
    {
     "name": "stdout",
     "output_type": "stream",
     "text": [
      "R^2:  0.9927841894272559\n"
     ]
    }
   ],
   "source": [
    "model.fit(Xtrain, ytrain)\n",
    "test_fit = model.predict(Xtest)\n",
    "\n",
    "print(\"R^2: \", model.score(Xtest, ytest))"
   ]
  },
  {
   "cell_type": "code",
   "execution_count": 22,
   "metadata": {},
   "outputs": [
    {
     "data": {
      "text/plain": [
       "Text(0.5, 0, 'Predicted values')"
      ]
     },
     "execution_count": 22,
     "metadata": {},
     "output_type": "execute_result"
    },
    {
     "data": {
      "image/png": "[encoded data removed]",
      "text/plain": [
       "<Figure size 432x432 with 1 Axes>"
      ]
     },
     "metadata": {},
     "output_type": "display_data"
    }
   ],
   "source": [
    "train_fit = model.predict(Xtrain)\n",
    "\n",
    "fig, ax = plt.subplots(1, 1, figsize=(6,6))\n",
    "ax.scatter(train_fit, ytrain, alpha=0.7, label='Train Set')\n",
    "ax.scatter(test_fit, ytest, alpha=0.7, label='Test Set')\n",
    "ax.legend()\n",
    "ax.set_ylabel('DistrictHeating:Facility [J](RunPeriod)')\n",
    "ax.set_xlabel(\"Predicted values\")"
   ]
  },
  {
   "cell_type": "markdown",
   "metadata": {},
   "source": [
    "By splitting into training and testing sets, we see how our model actually might perform on real-life new data. If we don't do this, we don't really know how good our model is at predicting, we only know how good it is at explaining the data we already have. "
   ]
  },
  {
   "cell_type": "markdown",
   "metadata": {},
   "source": [
    "### Cross-validation\n",
    "I recommend going to the sklearn [documentation](https://scikit-learn.org/stable/modules/cross_validation.html#cross-validation) on cross-validation for a justification and in-depth explanation of k-fold cross validation\n",
    "\n",
    "I also recommend this in depth tutorial from [Jason Brownlee](https://machinelearningmastery.com/k-fold-cross-validation/)) on Machine Learning Mastery\n",
    "\n",
    "When fitting parameters or hyperparameters for estimators, there is a risk of overfitting *on the test set* because the parameters can be tweaked until the estimator performs optimally. This way, knowledge about the test set can \"leak\" into the model and evaluation metrics no longer report on generalization performance. To solve this problem, yet another part of the dataset can be held out as a so-called 'validation set': training proceeds on the training set, after which evaluation is done on the validation set (and parameters can be tweaked), and when the experiment seems to be successful, final evaluation can be done on the test set. \n",
    "\n",
    "However, by partitioning the available data into three sets, we drastically reduce the number of samples which can be used for learning the model, and the results can depend on a particular random choice for the pair of (train, validation) sets.\n",
    "\n",
    "The solution to this is a procedure called cross-validation (CV). In the basic approach, called *k*-fold CV, the training set is split into *k* smaller sets. A model is trained using *k*-1 of the folds as training data, and tested on the remaining fold. This is then repeated *k* times such that each fold is used once as the testing set. This *k*-fold split is shown in the image below:\n",
    "\n",
    "![title](https://scikit-learn.org/stable/_images/grid_search_cross_validation.png)\n",
    "\n",
    "The final performance of the CV model is then the average of the calculated performance metric for each fold test set. \n",
    "\n",
    "#### Cross validation with sklearn\n"
   ]
  },
  {
   "cell_type": "code",
   "execution_count": 23,
   "metadata": {},
   "outputs": [
    {
     "name": "stdout",
     "output_type": "stream",
     "text": [
      "train index: [  0   2   3   4   5   7   8   9  10  15  17  20  21  22  23  25  26  27\n",
      "  28  29  30  31  32  34  35  36  37  38  40  41  44  49  50  51  52  53\n",
      "  54  56  57  58  59  60  62  65  67  72  73  74  75  76  77  78  79  81\n",
      "  85  86  87  89  90  94  95  96  97  98 102 104 105 107 108 109 110 114\n",
      " 115 117 118 119 120 121 122 125 126 127 130 131 132 135 136 138 139 140\n",
      " 141 143 144 145 146 148 149 150 151 156 158 159 161 162 164 165 167 168\n",
      " 169 170 171 174 175 176 177 181 182 183 185 186 187 188 189 190 193 194\n",
      " 195 196 197 198 199 201 204 205 206 207 208 209 210 214 215 217 219 221\n",
      " 222 223 225 227 228 229 231 232 234 235 236 237 238 240 242 243 246 248\n",
      " 249 250 251 252 253 254 255 256 257 258 259 260 261 262 263 265 266 267\n",
      " 268 270 271 272 273 274 275 276 277 280 281 282 283 285 286 287 288 289\n",
      " 290 298], test index: [  1   6  11  12  13  14  16  18  19  24  33  39  42  43  45  46  47  48\n",
      "  55  61  63  64  66  68  69  70  71  80  82  83  84  88  91  92  93  99\n",
      " 100 101 103 106 111 112 113 116 123 124 128 129 133 134 137 142 147 152\n",
      " 153 154 155 157 160 163 166 172 173 178 179 180 184 191 192 200 202 203\n",
      " 211 212 213 216 218 220 224 226 230 233 239 241 244 245 247 264 269 278\n",
      " 279 284 291 292 293 294 295 296 297 299]\n",
      "train index: [  0   1   3   4   6   8   9  11  12  13  14  16  17  18  19  21  22  23\n",
      "  24  30  31  33  36  39  40  42  43  44  45  46  47  48  49  50  51  52\n",
      "  53  54  55  56  58  59  61  63  64  66  67  68  69  70  71  72  73  75\n",
      "  78  79  80  82  83  84  85  87  88  91  92  93  94  95  96  98  99 100\n",
      " 101 103 106 107 109 111 112 113 114 116 122 123 124 125 126 128 129 131\n",
      " 132 133 134 136 137 142 145 147 149 150 151 152 153 154 155 157 158 160\n",
      " 161 163 164 165 166 167 168 172 173 174 176 178 179 180 181 183 184 187\n",
      " 190 191 192 194 196 197 198 199 200 201 202 203 207 210 211 212 213 216\n",
      " 217 218 219 220 222 223 224 226 227 228 229 230 231 232 233 234 236 237\n",
      " 239 240 241 242 243 244 245 247 250 251 252 254 255 256 258 259 262 264\n",
      " 265 266 268 269 278 279 282 283 284 286 289 291 292 293 294 295 296 297\n",
      " 298 299], test index: [  2   5   7  10  15  20  25  26  27  28  29  32  34  35  37  38  41  57\n",
      "  60  62  65  74  76  77  81  86  89  90  97 102 104 105 108 110 115 117\n",
      " 118 119 120 121 127 130 135 138 139 140 141 143 144 146 148 156 159 162\n",
      " 169 170 171 175 177 182 185 186 188 189 193 195 204 205 206 208 209 214\n",
      " 215 221 225 235 238 246 248 249 253 257 260 261 263 267 270 271 272 273\n",
      " 274 275 276 277 280 281 285 287 288 290]\n",
      "train index: [  1   2   5   6   7  10  11  12  13  14  15  16  18  19  20  24  25  26\n",
      "  27  28  29  32  33  34  35  37  38  39  41  42  43  45  46  47  48  55\n",
      "  57  60  61  62  63  64  65  66  68  69  70  71  74  76  77  80  81  82\n",
      "  83  84  86  88  89  90  91  92  93  97  99 100 101 102 103 104 105 106\n",
      " 108 110 111 112 113 115 116 117 118 119 120 121 123 124 127 128 129 130\n",
      " 133 134 135 137 138 139 140 141 142 143 144 146 147 148 152 153 154 155\n",
      " 156 157 159 160 162 163 166 169 170 171 172 173 175 177 178 179 180 182\n",
      " 184 185 186 188 189 191 192 193 195 200 202 203 204 205 206 208 209 211\n",
      " 212 213 214 215 216 218 220 221 224 225 226 230 233 235 238 239 241 244\n",
      " 245 246 247 248 249 253 257 260 261 263 264 267 269 270 271 272 273 274\n",
      " 275 276 277 278 279 280 281 284 285 287 288 290 291 292 293 294 295 296\n",
      " 297 299], test index: [  0   3   4   8   9  17  21  22  23  30  31  36  40  44  49  50  51  52\n",
      "  53  54  56  58  59  67  72  73  75  78  79  85  87  94  95  96  98 107\n",
      " 109 114 122 125 126 131 132 136 145 149 150 151 158 161 164 165 167 168\n",
      " 174 176 181 183 187 190 194 196 197 198 199 201 207 210 217 219 222 223\n",
      " 227 228 229 231 232 234 236 237 240 242 243 250 251 252 254 255 256 258\n",
      " 259 262 265 266 268 282 283 286 289 298]\n"
     ]
    },
    {
     "name": "stderr",
     "output_type": "stream",
     "text": [
      "C:\\Users\\mitch\\miniconda3\\envs\\GenDataSci\\lib\\site-packages\\sklearn\\utils\\validation.py:70: FutureWarning: Pass shuffle=True as keyword args. From version 1.0 (renaming of 0.25) passing these as positional arguments will result in an error\n",
      "  warnings.warn(f\"Pass {args_msg} as keyword args. From version \"\n"
     ]
    }
   ],
   "source": [
    "from sklearn.model_selection import KFold\n",
    "cv = KFold(3, True, random_state=4)  # k = 10 folds; shuffle=True prior to the split; seed random number generator with 42\n",
    "for train, test in cv.split(df_norm):\n",
    "    print(f\"train index: {train}, test index: {test}\")"
   ]
  },
  {
   "cell_type": "markdown",
   "metadata": {},
   "source": [
    "Essentially, the train-test-split method is just a *k*=2 fold cross validation. This is one extreme, on the other extreme, we can set *k* = *n* (number of samples). This is called leave-one-out cross validation as, in this case, the test fold is just one sample point. The computational cost will increase with *k*. "
   ]
  },
  {
   "cell_type": "code",
   "execution_count": 24,
   "metadata": {},
   "outputs": [
    {
     "name": "stdout",
     "output_type": "stream",
     "text": [
      "[0.9928454134412366, 0.9916250259820498, 0.99282272808096, 0.944206375418892, 0.9934673920596061, 0.9945238466882724, 0.9955537618894169, 0.9410883925778807, 0.9969744631826639, 0.990391355382642]\n",
      "0.9833498754703619\n"
     ]
    }
   ],
   "source": [
    "# X = df.drop('MV', axis=1)\n",
    "X = df_norm[[\"@@ORI@@\", \"@@WINS@@\", \"@@RSA@@\", \"@@OVER@@\", \"@@HS@@\", \"@@LIGHTS@@\"]]\n",
    "y = df_norm['DistrictHeating:Facility [J](RunPeriod)']\n",
    "\n",
    "scores = []\n",
    "model = LinearRegression(fit_intercept=True)\n",
    "cv = KFold(10, True, random_state=42)  # k = 10 folds; shuffle=True prior to the split; seed random number generator with 42\n",
    "\n",
    "for train_index, test_index in cv.split(df_norm):\n",
    "    X_train, X_test, y_train, y_test = X.iloc[train_index], X.iloc[test_index], y.iloc[train_index], y.iloc[test_index]\n",
    "    model.fit(X_train, y_train)\n",
    "    scores.append(model.score(X_test, y_test))\n",
    "\n",
    "print(scores)\n",
    "print(np.mean(scores))"
   ]
  },
  {
   "cell_type": "markdown",
   "metadata": {},
   "source": []
  },
  {
   "cell_type": "markdown",
   "metadata": {},
   "source": [
    "### Parameter estimation tuning with cross validation grid search\n",
    "See here for options on scoring: https://scikit-learn.org/stable/modules/model_evaluation.html"
   ]
  },
  {
   "cell_type": "code",
   "execution_count": 25,
   "metadata": {},
   "outputs": [
    {
     "name": "stdout",
     "output_type": "stream",
     "text": [
      "Fitting 5 folds for each of 4 candidates, totalling 20 fits\n"
     ]
    },
    {
     "data": {
      "text/plain": [
       "{'mean_fit_time': array([0.02019653, 0.0179996 , 0.01320333, 0.00620317]),\n",
       " 'std_fit_time': array([0.00549   , 0.00141769, 0.00116627, 0.00255872]),\n",
       " 'mean_score_time': array([0.00280418, 0.00300241, 0.00280042, 0.00260243]),\n",
       " 'std_score_time': array([0.00040003, 0.00089746, 0.00075011, 0.00048515]),\n",
       " 'param_fit_intercept': masked_array(data=[True, True, False, False],\n",
       "              mask=[False, False, False, False],\n",
       "        fill_value='?',\n",
       "             dtype=object),\n",
       " 'param_normalize': masked_array(data=[True, False, True, False],\n",
       "              mask=[False, False, False, False],\n",
       "        fill_value='?',\n",
       "             dtype=object),\n",
       " 'params': [{'fit_intercept': True, 'normalize': True},\n",
       "  {'fit_intercept': True, 'normalize': False},\n",
       "  {'fit_intercept': False, 'normalize': True},\n",
       "  {'fit_intercept': False, 'normalize': False}],\n",
       " 'split0_test_score': array([0.99526784, 0.99526784, 0.99531318, 0.99531318]),\n",
       " 'split1_test_score': array([0.99601814, 0.99601814, 0.99614821, 0.99614821]),\n",
       " 'split2_test_score': array([0.99260187, 0.99260187, 0.99260225, 0.99260225]),\n",
       " 'split3_test_score': array([0.99193046, 0.99193046, 0.99211875, 0.99211875]),\n",
       " 'split4_test_score': array([0.94649759, 0.94649759, 0.94649831, 0.94649831]),\n",
       " 'mean_test_score': array([0.98446318, 0.98446318, 0.98453614, 0.98453614]),\n",
       " 'std_test_score': array([0.01904543, 0.01904543, 0.01908098, 0.01908098]),\n",
       " 'rank_test_score': array([3, 3, 1, 1])}"
      ]
     },
     "execution_count": 25,
     "metadata": {},
     "output_type": "execute_result"
    }
   ],
   "source": [
    "from sklearn.linear_model import LinearRegression\n",
    "from sklearn.model_selection import GridSearchCV\n",
    "\n",
    "# Grid Search works pretty much just like any other estimator!\n",
    "# Instantiate with its own hyperparameters\n",
    "gsc = GridSearchCV(\n",
    "    estimator=LinearRegression(),  # Define your estimator\n",
    "    param_grid={                   # Create a grid of hyperparameter options to go through\n",
    "        'fit_intercept': [True, False],\n",
    "        'normalize': [True, False],\n",
    "    },\n",
    "    cv=5, scoring='r2', verbose=1, n_jobs=-1  # Define how many cross validations and what scoring metric to use\n",
    ")\n",
    "\n",
    "# Fit the grid search\n",
    "grid_result = gsc.fit(X, y)\n",
    "\n",
    "grid_result.cv_results_"
   ]
  },
  {
   "cell_type": "code",
   "execution_count": 26,
   "metadata": {},
   "outputs": [
    {
     "data": {
      "text/plain": [
       "0.984536141973441"
      ]
     },
     "execution_count": 26,
     "metadata": {},
     "output_type": "execute_result"
    }
   ],
   "source": [
    "grid_result.best_score_"
   ]
  },
  {
   "cell_type": "code",
   "execution_count": 27,
   "metadata": {},
   "outputs": [
    {
     "name": "stdout",
     "output_type": "stream",
     "text": [
      "Best params:  {'fit_intercept': False, 'normalize': True}\n",
      "R^2:  0.9847591018190575\n"
     ]
    },
    {
     "data": {
      "text/plain": [
       "Text(0.5, 0, 'Predicted values')"
      ]
     },
     "execution_count": 27,
     "metadata": {},
     "output_type": "execute_result"
    },
    {
     "data": {
      "image/png": "[encoded data removed]",
      "text/plain": [
       "<Figure size 360x360 with 1 Axes>"
      ]
     },
     "metadata": {},
     "output_type": "display_data"
    }
   ],
   "source": [
    "\n",
    "# Extract the identified best parameters from the options you gave\n",
    "best_params = grid_result.best_params_\n",
    "\n",
    "# Instantiate the final model using the best hyperparameters\n",
    "best_model = LinearRegression(\n",
    "    fit_intercept=best_params['fit_intercept'],\n",
    "    normalize=best_params['normalize']\n",
    ")\n",
    "\n",
    "# Fit the model\n",
    "best_model.fit(X, y)\n",
    "\n",
    "# Predict on the data to look at how it did\n",
    "model_fit = best_model.predict(X)\n",
    "\n",
    "print(\"Best params: \", best_params)\n",
    "print(\"R^2: \", best_model.score(X, y))\n",
    "\n",
    "fig, ax = plt.subplots(1, 1, figsize=(5, 5))\n",
    "ax.scatter(model_fit, y)\n",
    "ax.set_ylabel('DistrictHeating:Facility [J](RunPeriod)')\n",
    "ax.set_xlabel(\"Predicted values\")\n"
   ]
  },
  {
   "cell_type": "markdown",
   "metadata": {},
   "source": [
    "## Exercise\n",
    "Using the Sklearn framework, fit 3 other types of regression models to the EnergyPlus data. Some options include:\n",
    "* Ridge regression\n",
    "* LARS LASSO\n",
    "* Polynomial regression\n",
    "* Support Vector Regression\n",
    "* Decision Trees Regression \n",
    "* And more! See: https://scikit-learn.org/stable/supervised_learning.html\n",
    "\n",
    "We will discuss these algorithms in more detail through the course (particularly with Nahid), so for now just focus on getting sklearn to work with them. You don't necessarily need to understand how they are working. \n",
    "\n",
    "I suggest going to the sklearn link above and referring to the documentation for whichever model you choose to fit. \n",
    "\n",
    "For all three, start with a train-test-split, calculating the scoring metric on the test set. Then, cross validation for the hyper parameter tuning for one of the poorly performing models to improve it.\n",
    "\n",
    "### Optional\n",
    "Fit a Multi-output Regression\n",
    "\n",
    "## Solution\n"
   ]
  },
  {
   "cell_type": "code",
   "execution_count": 28,
   "metadata": {},
   "outputs": [
    {
     "name": "stdout",
     "output_type": "stream",
     "text": [
      "Xtrain:  (210, 6)\n",
      "ytrain:  (210,)\n",
      "Xtest:  (90, 6)\n",
      "ytest:  (90,)\n"
     ]
    }
   ],
   "source": [
    "# Split normalized dataset into X and y\n",
    "X = df_norm[[\"@@ORI@@\", \"@@WINS@@\", \"@@RSA@@\", \"@@OVER@@\", \"@@HS@@\", \"@@LIGHTS@@\"]]\n",
    "y = df_norm['DistrictHeating:Facility [J](RunPeriod)']\n",
    "\n",
    "# Create the training and testing splits\n",
    "Xtrain, Xtest, ytrain, ytest = train_test_split(X, y, test_size=0.3, random_state=42)\n",
    "\n",
    "print('Xtrain: ', Xtrain.shape)\n",
    "print('ytrain: ', ytrain.shape)\n",
    "print('Xtest: ', Xtest.shape)\n",
    "print('ytest: ', ytest.shape)"
   ]
  },
  {
   "cell_type": "markdown",
   "metadata": {},
   "source": [
    "### Regression Algorithm 1 - Decision Trees Regression\n",
    "\n",
    "1. Choose a class of model by importing the appropriate estimator class from sklearn.\n",
    "2. Choose model hyperparameters by instantiating this class with the desired values.\n",
    "3. Arrange data into a features matrix and target vector. \n",
    "4. Fit the model to your data by calling the fit() method of the model instance. \n",
    "5. Apply the Model to new data:\n",
    "    * For supervised learning, often we predict labels for unknown data using the `predict()` method.\n",
    "    * For unsupervised learning, we often transform or infer properties of the data using the `transform()` or `predict()` method."
   ]
  },
  {
   "cell_type": "code",
   "execution_count": 29,
   "metadata": {},
   "outputs": [
    {
     "name": "stdout",
     "output_type": "stream",
     "text": [
      "R^2:  0.9706859238047177\n"
     ]
    },
    {
     "data": {
      "text/plain": [
       "Text(0.5, 0, 'Predicted values')"
      ]
     },
     "execution_count": 29,
     "metadata": {},
     "output_type": "execute_result"
    },
    {
     "data": {
      "image/png": "[encoded data removed]",
      "text/plain": [
       "<Figure size 360x360 with 1 Axes>"
      ]
     },
     "metadata": {},
     "output_type": "display_data"
    }
   ],
   "source": [
    "# Step 1: import the estimator function from sklearn\n",
    "from sklearn import tree\n",
    "\n",
    "# Step 2: Instantiate class with hyperparameters\n",
    "clf = tree.DecisionTreeRegressor(max_depth=4)\n",
    "\n",
    "# Step 3: Already done above!\n",
    "# Step 4: Fit the model (to training data)\n",
    "clf.fit(Xtrain, ytrain)\n",
    "\n",
    "# Step 5: Apply to new data to predict\n",
    "clf_fit = clf.predict(Xtest)\n",
    "\n",
    "# See how it did!\n",
    "print(\"R^2: \", clf.score(Xtest, ytest))\n",
    "\n",
    "fig, ax = plt.subplots(1, 1, figsize=(5, 5))\n",
    "ax.scatter(clf_fit, ytest)\n",
    "ax.set_ylabel('DistrictHeating:Facility [J](RunPeriod)')\n",
    "ax.set_xlabel(\"Predicted values\")"
   ]
  },
  {
   "cell_type": "markdown",
   "metadata": {},
   "source": [
    "**Hyperparameter Tuning**"
   ]
  },
  {
   "cell_type": "code",
   "execution_count": 30,
   "metadata": {},
   "outputs": [
    {
     "name": "stdout",
     "output_type": "stream",
     "text": [
      "Max depth:  5\n",
      "R^2:  0.9907423169292469\n"
     ]
    },
    {
     "data": {
      "text/plain": [
       "Text(0.5, 0, 'Predicted values')"
      ]
     },
     "execution_count": 30,
     "metadata": {},
     "output_type": "execute_result"
    },
    {
     "data": {
      "image/png": "[encoded data removed]",
      "text/plain": [
       "<Figure size 360x360 with 1 Axes>"
      ]
     },
     "metadata": {},
     "output_type": "display_data"
    }
   ],
   "source": [
    "from sklearn.tree import DecisionTreeRegressor\n",
    "from sklearn.model_selection import GridSearchCV\n",
    "\n",
    "# Instantiate GridSearchCV with the list of parameters\n",
    "gsc = GridSearchCV(\n",
    "    estimator=DecisionTreeRegressor(),\n",
    "    param_grid={\n",
    "        'max_depth': [2, 5, 8, 10],\n",
    "    },\n",
    "    cv=5, scoring='neg_mean_squared_error', verbose=0, n_jobs=-1\n",
    ")\n",
    "\n",
    "# Fit the grid search\n",
    "grid_result = gsc.fit(X, y)\n",
    "\n",
    "# Extract the identified best parameters from the options you gave\n",
    "best_params = grid_result.best_params_\n",
    "\n",
    "# Instantiate the final model using the best hyperparameters\n",
    "best_tree = DecisionTreeRegressor(max_depth = best_params['max_depth'])\n",
    "\n",
    "# Fit the model\n",
    "best_tree.fit(X, y)\n",
    "\n",
    "# Predict on the data to look at how it did\n",
    "tree_fit = best_tree.predict(X)\n",
    "\n",
    "print(\"Max depth: \", best_params['max_depth'])\n",
    "print(\"R^2: \", best_tree.score(X, y))\n",
    "\n",
    "fig, ax = plt.subplots(1, 1, figsize=(5, 5))\n",
    "ax.scatter(tree_fit, y)\n",
    "ax.set_ylabel('DistrictHeating:Facility [J](RunPeriod)')\n",
    "ax.set_xlabel(\"Predicted values\")"
   ]
  },
  {
   "cell_type": "markdown",
   "metadata": {},
   "source": [
    "### Support Vector Regression\n"
   ]
  },
  {
   "cell_type": "code",
   "execution_count": 31,
   "metadata": {},
   "outputs": [
    {
     "name": "stdout",
     "output_type": "stream",
     "text": [
      "R^2:  0.9923618124819393\n"
     ]
    },
    {
     "data": {
      "text/plain": [
       "Text(0.5, 0, 'Predicted values')"
      ]
     },
     "execution_count": 31,
     "metadata": {},
     "output_type": "execute_result"
    },
    {
     "data": {
      "image/png": "[encoded data removed]",
      "text/plain": [
       "<Figure size 360x360 with 1 Axes>"
      ]
     },
     "metadata": {},
     "output_type": "display_data"
    }
   ],
   "source": [
    "from sklearn.svm import SVR\n",
    "regr = SVR(kernel='linear')\n",
    "regr.fit(Xtrain, ytrain)\n",
    "\n",
    "regr_fit = regr.predict(Xtest)\n",
    "\n",
    "print(\"R^2: \", regr.score(Xtest, ytest))\n",
    "\n",
    "fig, ax = plt.subplots(1, 1, figsize=(5, 5))\n",
    "ax.scatter(regr_fit, ytest)\n",
    "ax.set_ylabel('DistrictHeating:Facility [J](RunPeriod)')\n",
    "ax.set_xlabel(\"Predicted values\")"
   ]
  },
  {
   "cell_type": "code",
   "execution_count": 32,
   "metadata": {},
   "outputs": [
    {
     "name": "stdout",
     "output_type": "stream",
     "text": [
      "Fitting 5 folds for each of 240 candidates, totalling 1200 fits\n",
      "Best Params {'C': 1000, 'epsilon': 0.001, 'gamma': 0.005, 'kernel': 'rbf'}\n",
      "R^2:  0.9886491613183256\n"
     ]
    },
    {
     "data": {
      "text/plain": [
       "Text(0.5, 0, 'Predicted values')"
      ]
     },
     "execution_count": 32,
     "metadata": {},
     "output_type": "execute_result"
    },
    {
     "data": {
      "image/png": "[encoded data removed]",
      "text/plain": [
       "<Figure size 360x360 with 1 Axes>"
      ]
     },
     "metadata": {},
     "output_type": "display_data"
    }
   ],
   "source": [
    "gsc = GridSearchCV(\n",
    "    estimator=SVR(),\n",
    "    param_grid={\n",
    "        'kernel': ['rbf', 'linear'],\n",
    "        'C': [0.1, 1, 100, 1000],\n",
    "        'epsilon': [0.001, 0.01, 0.1, 1, 5, 10],\n",
    "        'gamma': [0.005, 0.1, 1, 3, 5]\n",
    "    },\n",
    "    cv=5, scoring='r2', verbose=1, n_jobs=-1\n",
    ")\n",
    "\n",
    "grid_result = gsc.fit(X, y)\n",
    "best_params = grid_result.best_params_\n",
    "\n",
    "best_svr = SVR(kernel=best_params['kernel'], C=best_params[\"C\"], epsilon=best_params[\"epsilon\"], gamma=best_params[\"gamma\"],\n",
    "                   coef0=0.1, shrinking=True,\n",
    "                   tol=0.001, cache_size=200, verbose=False, max_iter=-1)\n",
    "\n",
    "best_svr.fit(X, y)\n",
    "\n",
    "svr_fit = best_svr.predict(X)\n",
    "\n",
    "print(\"Best Params\", best_params)\n",
    "print(\"R^2: \", best_svr.score(X, y))\n",
    "\n",
    "fig, ax = plt.subplots(1, 1, figsize=(5, 5))\n",
    "ax.scatter(svr_fit, y)\n",
    "ax.set_ylabel('DistrictHeating:Facility [J](RunPeriod)')\n",
    "ax.set_xlabel(\"Predicted values\")"
   ]
  },
  {
   "cell_type": "markdown",
   "metadata": {},
   "source": [
    "### Multi-layer Perceptron regressor.\n",
    "\n",
    "(I actually have no idea how this algorithm works. To some extent, that's the power of the sklearn framework, it's possible to make use of the methods without needing to know everything about how it's working under the hood.) But, you should be extra careful when using something you're not completely familiar with, it's easy to do something ridiculous."
   ]
  },
  {
   "cell_type": "code",
   "execution_count": 33,
   "metadata": {},
   "outputs": [
    {
     "name": "stdout",
     "output_type": "stream",
     "text": [
      "R^2:  0.9896765723300252\n"
     ]
    },
    {
     "data": {
      "text/plain": [
       "Text(0.5, 0, 'Predicted values')"
      ]
     },
     "execution_count": 33,
     "metadata": {},
     "output_type": "execute_result"
    },
    {
     "data": {
      "image/png": "[encoded data removed]",
      "text/plain": [
       "<Figure size 360x360 with 1 Axes>"
      ]
     },
     "metadata": {},
     "output_type": "display_data"
    }
   ],
   "source": [
    "from sklearn.neural_network import MLPRegressor\n",
    "\n",
    "ml_regr = MLPRegressor(random_state=42, max_iter=500)\n",
    "ml_regr.fit(Xtrain, ytrain)\n",
    "ml_regr_fit = ml_regr.predict(Xtest)\n",
    "\n",
    "print(\"R^2: \", ml_regr.score(Xtest, ytest))\n",
    "\n",
    "fig, ax = plt.subplots(1, 1, figsize=(5, 5))\n",
    "ax.scatter(regr_fit, ytest)\n",
    "ax.set_ylabel('DistrictHeating:Facility [J](RunPeriod)')\n",
    "ax.set_xlabel(\"Predicted values\")"
   ]
  },
  {
   "cell_type": "markdown",
   "metadata": {},
   "source": [
    "### Bayesian Ridge Regression"
   ]
  },
  {
   "cell_type": "code",
   "execution_count": 34,
   "metadata": {},
   "outputs": [
    {
     "name": "stdout",
     "output_type": "stream",
     "text": [
      "R^2:  0.9927769026426949\n"
     ]
    },
    {
     "data": {
      "text/plain": [
       "Text(0.5, 0, 'Predicted values')"
      ]
     },
     "execution_count": 34,
     "metadata": {},
     "output_type": "execute_result"
    },
    {
     "data": {
      "image/png": "[encoded data removed]",
      "text/plain": [
       "<Figure size 360x360 with 1 Axes>"
      ]
     },
     "metadata": {},
     "output_type": "display_data"
    }
   ],
   "source": [
    "from sklearn.linear_model import BayesianRidge\n",
    "\n",
    "br_regr = BayesianRidge()\n",
    "br_regr.fit(Xtrain, ytrain)\n",
    "test_fit = br_regr.predict(Xtest)\n",
    "\n",
    "print(\"R^2: \", br_regr.score(Xtest, ytest))\n",
    "\n",
    "fig, ax = plt.subplots(1, 1, figsize=(5, 5))\n",
    "ax.scatter(test_fit, ytest)\n",
    "ax.set_ylabel('DistrictHeating:Facility [J](RunPeriod)')\n",
    "ax.set_xlabel(\"Predicted values\")"
   ]
  },
  {
   "cell_type": "markdown",
   "metadata": {},
   "source": [
    "## Optional - Solution\n",
    "\n",
    "**Multi-output Decision Tree Regressor**"
   ]
  },
  {
   "cell_type": "code",
   "execution_count": 35,
   "metadata": {},
   "outputs": [
    {
     "name": "stdout",
     "output_type": "stream",
     "text": [
      "Fitting 10 folds for each of 10 candidates, totalling 100 fits\n",
      "Max depth:  8\n",
      "R^2:  0.9992917279539798\n"
     ]
    },
    {
     "name": "stderr",
     "output_type": "stream",
     "text": [
      "C:\\Users\\mitch\\miniconda3\\envs\\GenDataSci\\lib\\site-packages\\sklearn\\model_selection\\_search.py:918: UserWarning: One or more of the test scores are non-finite: [        nan -0.4347974  -0.27536858 -0.17995818 -0.15301396 -0.13278766\n",
      " -0.1307221  -0.12132716 -0.11064067 -0.12886784]\n",
      "  warnings.warn(\n"
     ]
    },
    {
     "data": {
      "text/plain": [
       "Text(0.5, 1.0, 'Multi-output Decision Tree Regression')"
      ]
     },
     "execution_count": 35,
     "metadata": {},
     "output_type": "execute_result"
    },
    {
     "data": {
      "image/png": "[encoded data removed]",
      "text/plain": [
       "<Figure size 432x288 with 1 Axes>"
      ]
     },
     "metadata": {},
     "output_type": "display_data"
    }
   ],
   "source": [
    "y = df_norm[[\"DistrictHeating:Facility [J](RunPeriod)\", \"ZONE ONE: Thermal Comfort\"]]\n",
    "\n",
    "# Instantiate GridSearchCV with the list of parameters\n",
    "gsc = GridSearchCV(\n",
    "    estimator=DecisionTreeRegressor(random_state=42),\n",
    "    param_grid={\n",
    "        'max_depth': range(10),\n",
    "    },\n",
    "    cv=10, scoring='neg_mean_absolute_error', verbose=1, n_jobs=-1\n",
    ")\n",
    "\n",
    "# Fit the grid search\n",
    "grid_result = gsc.fit(X, y)\n",
    "\n",
    "# Extract the identified best parameters from the options you gave\n",
    "best_params = grid_result.best_params_\n",
    "\n",
    "# Instantiate the final model using the best hyperparameters\n",
    "best_tree = DecisionTreeRegressor(max_depth = best_params['max_depth'])\n",
    "\n",
    "# Fit the model\n",
    "best_tree.fit(X, y)\n",
    "\n",
    "# Predict on the data to look at how it did\n",
    "tree_fit = best_tree.predict(X)\n",
    "\n",
    "print(\"Max depth: \", best_params['max_depth'])\n",
    "print(\"R^2: \", best_tree.score(X, y))\n",
    "\n",
    "plt.figure()\n",
    "s=25\n",
    "plt.scatter(y.iloc[:, 0], y.iloc[:, 1], s=s,\n",
    "            edgecolor=\"black\", label=\"Actual\", alpha=0.7)\n",
    "plt.scatter(tree_fit[:, 0], tree_fit[:, 1], s=s,\n",
    "            edgecolor=\"black\", label=\"Predicted\", alpha=0.7)\n",
    "plt.legend()\n",
    "plt.xlabel(\"DistrictHeating\")\n",
    "plt.ylabel(\"ZONE ONE: Thermal Comfort\")\n",
    "plt.title(\"Multi-output Decision Tree Regression\")"
   ]
  },
  {
   "cell_type": "code",
   "execution_count": null,
   "metadata": {},
   "outputs": [],
   "source": []
  }
 ],
 "metadata": {
  "interpreter": {
   "hash": "5a092f0247496fb7ad9711effe7f5f54a0d4214ae043f7dd152124073c5f9856"
  },
  "kernelspec": {
   "display_name": "benv0119",
   "language": "python",
   "name": "python3"
  },
  "language_info": {
   "codemirror_mode": {
    "name": "ipython",
    "version": 3
   },
   "file_extension": ".py",
   "mimetype": "text/x-python",
   "name": "python",
   "nbconvert_exporter": "python",
   "pygments_lexer": "ipython3",
   "version": "3.9.2"
  }
 },
 "nbformat": 4,
 "nbformat_minor": 4
}
