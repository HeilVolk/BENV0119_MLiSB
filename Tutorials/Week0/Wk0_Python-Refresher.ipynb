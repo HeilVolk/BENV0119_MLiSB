{
 "cells": [
  {
   "cell_type": "markdown",
   "metadata": {
    "slideshow": {
     "slide_type": "slide"
    }
   },
   "source": [
    "# Preface\n",
    "- Python is one of the most popular programming languages\n",
    "- Programming enables:\n",
    "    - In-depth statistical analysis\n",
    "    - Automation\n",
    "- Resources (free):\n",
    "    - [Whirlwind Tour Of Python](https://nbviewer.jupyter.org/github/jakevdp/WhirlwindTourOfPython/tree/master/)\n",
    "    - [Learn Python - Full Course for Beginners](https://www.youtube.com/watch?v=rfscVS0vtbw)\n",
    "    - [Python Data Science Handbook](https://jakevdp.github.io/PythonDataScienceHandbook/)\n"
   ]
  },
  {
   "cell_type": "markdown",
   "metadata": {
    "slideshow": {
     "slide_type": "slide"
    }
   },
   "source": [
    "\n",
    "# Python Introduction\n",
    "\n",
    "## Syntax\n",
    "- Comments Are Marked by #\n",
    "- End-of-Line Terminates a Statement\n",
    "- Semicolon Can Optionally Terminate a Statement\n",
    "- Indentation: Whitespace Matters!\n",
    "- Whitespace Within Lines Does Not Matter\n",
    "- Parentheses Are for Grouping or Calling\n",
    "- Everything in python is an object"
   ]
  },
  {
   "cell_type": "markdown",
   "metadata": {},
   "source": [
    "## Variables\n",
    "- Assigning a simple variable can be done with the \"=\" sign\n",
    "- You can call a variable through by its name"
   ]
  },
  {
   "cell_type": "code",
   "execution_count": 1,
   "metadata": {},
   "outputs": [
    {
     "data": {
      "text/plain": [
       "1"
      ]
     },
     "execution_count": 1,
     "metadata": {},
     "output_type": "execute_result"
    }
   ],
   "source": [
    "# This is a comment\n",
    "x = 1 # Assigning a variable\n",
    "x # Calling the variable"
   ]
  },
  {
   "cell_type": "code",
   "execution_count": 2,
   "metadata": {},
   "outputs": [
    {
     "data": {
      "text/plain": [
       "2"
      ]
     },
     "execution_count": 2,
     "metadata": {},
     "output_type": "execute_result"
    }
   ],
   "source": [
    "x = 2 # Assigning a new value to the variable x. Note: White space doesn't matter within lines\n",
    "x # Calling the variable"
   ]
  },
  {
   "cell_type": "code",
   "execution_count": null,
   "metadata": {},
   "outputs": [],
   "source": [
    "del x # Deleting the variable\n",
    "x"
   ]
  },
  {
   "cell_type": "markdown",
   "metadata": {},
   "source": [
    "## Date Types\n",
    "Variables have a type\n",
    "- x = 1         # x is an integer\n",
    "- x = 1.23      # now x is an float\n",
    "- x = 'hello'   # now x is a string - I could have also used \"\"\n",
    "- x = True      # Logical operator"
   ]
  },
  {
   "cell_type": "code",
   "execution_count": 3,
   "metadata": {},
   "outputs": [
    {
     "data": {
      "text/plain": [
       "float"
      ]
     },
     "execution_count": 3,
     "metadata": {},
     "output_type": "execute_result"
    }
   ],
   "source": [
    "x = 1.23 #Define the variable\n",
    "type(x) #You can check the type using type()"
   ]
  },
  {
   "cell_type": "code",
   "execution_count": 5,
   "metadata": {},
   "outputs": [
    {
     "data": {
      "text/plain": [
       "1"
      ]
     },
     "execution_count": 5,
     "metadata": {},
     "output_type": "execute_result"
    }
   ],
   "source": [
    "int(x)"
   ]
  },
  {
   "cell_type": "markdown",
   "metadata": {},
   "source": [
    "## Mathematical Operators\n",
    "Operator |\tName\t|Description\n",
    "--|---|--\n",
    "a + b\t|Addition\t|Sum of a and b\n",
    "a - b\t|Subtraction\t|Difference of a and b\n",
    "a * b\t|Multiplication\t|Product of a and b\n",
    "a / b\t|True division\t|Quotient of a and b\n",
    "a // b\t|Floor division\t|Quotient of a and b, removing fractional parts\n",
    "a % b\t|Modulus\t|Integer remainder after division of a by b\n",
    "a ** b\t|Exponentiation\t|a raised to the power of b\n",
    "-a\t|Negation\t|The negative of a\n",
    "+a\t|Unary |plus\ta unchanged (rarely used)"
   ]
  },
  {
   "cell_type": "code",
   "execution_count": 6,
   "metadata": {},
   "outputs": [
    {
     "data": {
      "text/plain": [
       "8"
      ]
     },
     "execution_count": 6,
     "metadata": {},
     "output_type": "execute_result"
    }
   ],
   "source": [
    "3 + 5"
   ]
  },
  {
   "cell_type": "markdown",
   "metadata": {},
   "source": [
    "## Comparison Operations\n",
    "Operation\t| Description | \t\tOperation | \tDescription\n",
    "--|---|---|--\n",
    "a == b\t| a equal to b\t | \ta != b| \ta not equal to b\n",
    "a < b\t| a less than b\t| \ta > b\t| a greater than b\n",
    "a <= b\t| a less than or equal to b\t| \ta >= b\t| a greater than or equal to b"
   ]
  },
  {
   "cell_type": "code",
   "execution_count": 7,
   "metadata": {},
   "outputs": [
    {
     "data": {
      "text/plain": [
       "True"
      ]
     },
     "execution_count": 7,
     "metadata": {},
     "output_type": "execute_result"
    }
   ],
   "source": [
    "2 == 4/2"
   ]
  },
  {
   "cell_type": "code",
   "execution_count": 8,
   "metadata": {},
   "outputs": [
    {
     "data": {
      "text/plain": [
       "False"
      ]
     },
     "execution_count": 8,
     "metadata": {},
     "output_type": "execute_result"
    }
   ],
   "source": [
    "3 == 2*2"
   ]
  },
  {
   "cell_type": "markdown",
   "metadata": {},
   "source": [
    "## Boolean Operators - Combining Operators\n",
    "When working with Boolean values, Python provides operators to combine the values using the standard concepts of \"and\", \"or\", and \"not\".\n",
    "\n",
    "Operator|\tDescription\n",
    "--|--\n",
    "A *and* B| Operation A and B must be true\n",
    "A *or* B | Operation A or B must be true\t\n",
    "*not* B | Operation B must not be true\t"
   ]
  },
  {
   "cell_type": "code",
   "execution_count": 10,
   "metadata": {},
   "outputs": [
    {
     "data": {
      "text/plain": [
       "True"
      ]
     },
     "execution_count": 10,
     "metadata": {},
     "output_type": "execute_result"
    }
   ],
   "source": [
    "# Combinations using and\n",
    "a = 9\n",
    "(3**2 == a) and (10 -1 ==  a)"
   ]
  },
  {
   "cell_type": "code",
   "execution_count": 11,
   "metadata": {},
   "outputs": [
    {
     "data": {
      "text/plain": [
       "True"
      ]
     },
     "execution_count": 11,
     "metadata": {},
     "output_type": "execute_result"
    }
   ],
   "source": [
    "# Combinations using or\n",
    "(3**2 == a) or (10  ==  a)"
   ]
  },
  {
   "cell_type": "code",
   "execution_count": 12,
   "metadata": {},
   "outputs": [
    {
     "data": {
      "text/plain": [
       "True"
      ]
     },
     "execution_count": 12,
     "metadata": {},
     "output_type": "execute_result"
    }
   ],
   "source": [
    "# Combinations using not\n",
    "not(3**2 -1 == a) "
   ]
  },
  {
   "cell_type": "markdown",
   "metadata": {},
   "source": [
    "### Exercise 1:\n",
    "#### Wait! Don't start testing before you take a guess.\n",
    "- a) What is the result of: 10 == \"10\"?\n",
    "- b) What is the result of: \"bag\" == \"apple\"?\n",
    "- c) What is the result of: 10/3 == 10//3?\n",
    "- d) What is the result of: not(10/3 == 10//3)"
   ]
  },
  {
   "cell_type": "code",
   "execution_count": 14,
   "metadata": {},
   "outputs": [
    {
     "data": {
      "text/plain": [
       "False"
      ]
     },
     "execution_count": 14,
     "metadata": {},
     "output_type": "execute_result"
    }
   ],
   "source": [
    "# Exercise 1 solution\n",
    "10/3 == 10//3"
   ]
  },
  {
   "cell_type": "markdown",
   "metadata": {},
   "source": [
    "# Your first script\n",
    "- In pretty much any programming languange, the first script taught is usually the \"Hello World\" - Get your computer to *talk to you* (programmers are notoriously **nerdy**)"
   ]
  },
  {
   "cell_type": "code",
   "execution_count": 15,
   "metadata": {},
   "outputs": [
    {
     "name": "stdout",
     "output_type": "stream",
     "text": [
      "Hello World\n"
     ]
    }
   ],
   "source": [
    "# Hello World Script\n",
    "\n",
    "print(\"Hello World\")"
   ]
  },
  {
   "cell_type": "markdown",
   "metadata": {},
   "source": [
    "### Exercise 2:\n",
    "- a) Ask your computer to print *Hello World*\n",
    "- b) Ask your computer to print your name"
   ]
  },
  {
   "cell_type": "code",
   "execution_count": null,
   "metadata": {},
   "outputs": [],
   "source": [
    "# Exercise 2 solution"
   ]
  },
  {
   "cell_type": "markdown",
   "metadata": {},
   "source": [
    "# Built-In Data Structures\n",
    "\n",
    "Type Name |\tExample |\tDescription\n",
    "--|---|--\n",
    "list |\t[1, 2, 3] |\tOrdered collection\n",
    "tuple |\t(1, 2, 3) |\tImmutable ordered collection\n",
    "dict |\t{'a':1, 'b':2, 'c':3} |\tUnordered (key,value) mapping\n",
    "set |\t{1, 2, 3} |\tUnordered collection of unique values"
   ]
  },
  {
   "cell_type": "markdown",
   "metadata": {},
   "source": [
    "## Lists\n",
    "- Lists are the basic ordered and mutable data collection type in Python."
   ]
  },
  {
   "cell_type": "code",
   "execution_count": 16,
   "metadata": {},
   "outputs": [
    {
     "data": {
      "text/plain": [
       "['World', 'Earth', 'Class']"
      ]
     },
     "execution_count": 16,
     "metadata": {},
     "output_type": "execute_result"
    }
   ],
   "source": [
    "names = [\"World\",\"Earth\",\"Class\"] # Defining a list\n",
    "names # Calling the entire list\n",
    "\n",
    "\n"
   ]
  },
  {
   "cell_type": "code",
   "execution_count": 17,
   "metadata": {},
   "outputs": [
    {
     "data": {
      "text/plain": [
       "['World', 'Earth', 'Class', 'Everyone']"
      ]
     },
     "execution_count": 17,
     "metadata": {},
     "output_type": "execute_result"
    }
   ],
   "source": [
    "names.append(\"Everyone\") # Adding another item at the end\n",
    "names # Calling the entire list\n"
   ]
  },
  {
   "cell_type": "markdown",
   "metadata": {},
   "source": [
    "## Indexing\n",
    "- One of the most important aspects of programming.\n",
    "- Data structures allow us to store information. However, this is of little use if we can't access the information.\n",
    "- **Note**: Indexing starts at 0 not 1\n"
   ]
  },
  {
   "cell_type": "code",
   "execution_count": 19,
   "metadata": {},
   "outputs": [
    {
     "data": {
      "text/plain": [
       "'World'"
      ]
     },
     "execution_count": 19,
     "metadata": {},
     "output_type": "execute_result"
    }
   ],
   "source": [
    "names[0] # Calling an individual item\n"
   ]
  },
  {
   "cell_type": "code",
   "execution_count": 21,
   "metadata": {},
   "outputs": [
    {
     "name": "stdout",
     "output_type": "stream",
     "text": [
      "Hello World\n",
      "Hello Earth\n",
      "Hello Class\n",
      "Hello Everyone\n"
     ]
    }
   ],
   "source": [
    "#print(\"Hello\",names[0:3])\n",
    "print(\"Hello\",names[0]) # Calling an individual item within the print function\n",
    "print(\"Hello\",names[1]); print(\"Hello\",names[2])\n",
    "print(\"Hello\",names[3])"
   ]
  },
  {
   "cell_type": "markdown",
   "metadata": {},
   "source": [
    "### Exercise 3\n",
    "- a) Create a list with five names\n",
    "- b) Ask your computer to say hello to every single name, individually."
   ]
  },
  {
   "cell_type": "code",
   "execution_count": null,
   "metadata": {},
   "outputs": [],
   "source": [
    "#Exercise 3 Solution"
   ]
  },
  {
   "cell_type": "markdown",
   "metadata": {},
   "source": [
    "# Control Flow\n",
    "If you find yourself repeating statements when coding, you are probably doing it wrong - enter **automation**\n",
    "\n",
    "- Two basic categories:\n",
    "    - **Conditional Statements**\n",
    "    - **Loop Statements**"
   ]
  },
  {
   "cell_type": "markdown",
   "metadata": {},
   "source": [
    "## Conditional Statements\n",
    "- Allow the execution of code depending on some Boolean condition"
   ]
  },
  {
   "cell_type": "code",
   "execution_count": 22,
   "metadata": {},
   "outputs": [
    {
     "name": "stdout",
     "output_type": "stream",
     "text": [
      "-15 is negative\n"
     ]
    }
   ],
   "source": [
    "x = -15\n",
    "\n",
    "if x == 0:\n",
    "    print(x, \"is zero\") # Remember: Indentation matters!\n",
    "elif x > 0:\n",
    "    print(x, \"is positive\")\n",
    "elif x < 0:\n",
    "    print(x, \"is negative\")\n",
    "else:\n",
    "    print(x, \"is unlike anything I've ever seen...\")"
   ]
  },
  {
   "cell_type": "markdown",
   "metadata": {},
   "source": [
    "## Loop Statements\n",
    "- Repeatedly execute some for as long as specified\n",
    "- Includes: *for* loops, *while* loops"
   ]
  },
  {
   "cell_type": "code",
   "execution_count": 23,
   "metadata": {},
   "outputs": [
    {
     "name": "stdout",
     "output_type": "stream",
     "text": [
      "Hello World\n",
      "Hello Earth\n",
      "Hello Class\n",
      "Hello Everyone\n"
     ]
    }
   ],
   "source": [
    "n = len(names) # len() when used on a list will provide the number of items within the list\n",
    "\n",
    "for i in range(n-1): # range() in this case will provide a set of integers starting at 0 and ending at n\n",
    "    print(\"Hello\",names[i])"
   ]
  },
  {
   "cell_type": "code",
   "execution_count": 24,
   "metadata": {},
   "outputs": [
    {
     "name": "stdout",
     "output_type": "stream",
     "text": [
      "Hello World\n",
      "Hello Earth\n",
      "Hello Class\n"
     ]
    }
   ],
   "source": [
    "i = 0\n",
    "while i < 3:\n",
    "    print(\"Hello\",names[i])\n",
    "    i += 1 # += Is an assignment operator equivalent to: i = i + 1"
   ]
  },
  {
   "cell_type": "code",
   "execution_count": 25,
   "metadata": {},
   "outputs": [
    {
     "name": "stdout",
     "output_type": "stream",
     "text": [
      "Hello World\n",
      "Hello Earth\n"
     ]
    }
   ],
   "source": [
    "n = len(names)\n",
    "\n",
    "for i in range(n):\n",
    "    print(\"Hello\",names[i])\n",
    "    if names[i] == \"Earth\": # You can combine conditional statements\n",
    "        break # This line breaks \n",
    "    "
   ]
  },
  {
   "cell_type": "code",
   "execution_count": 26,
   "metadata": {},
   "outputs": [
    {
     "ename": "IndentationError",
     "evalue": "expected an indented block (<ipython-input-26-54002b8d06ca>, line 5)",
     "output_type": "error",
     "traceback": [
      "\u001b[1;36m  File \u001b[1;32m\"<ipython-input-26-54002b8d06ca>\"\u001b[1;36m, line \u001b[1;32m5\u001b[0m\n\u001b[1;33m    print(\"Hello\",names[i]) # What happens when you skip the indentation?\u001b[0m\n\u001b[1;37m        ^\u001b[0m\n\u001b[1;31mIndentationError\u001b[0m\u001b[1;31m:\u001b[0m expected an indented block\n"
     ]
    }
   ],
   "source": [
    "# Note: Indentation matters\n",
    "n = len(names)\n",
    "\n",
    "for i in range(n): \n",
    "print(\"Hello\",names[i]) # What happens when you skip the indentation?"
   ]
  },
  {
   "cell_type": "code",
   "execution_count": 27,
   "metadata": {},
   "outputs": [
    {
     "data": {
      "text/plain": [
       "range(0, 4)"
      ]
     },
     "execution_count": 27,
     "metadata": {},
     "output_type": "execute_result"
    }
   ],
   "source": [
    "#What is range?\n",
    "range(n)"
   ]
  },
  {
   "cell_type": "markdown",
   "metadata": {},
   "source": [
    "### Exercise 4\n",
    "- a) Write a loop (while or for) that prints out the names in your list\n",
    "- b) Write a loop that prints out all the names in your list except one"
   ]
  },
  {
   "cell_type": "code",
   "execution_count": null,
   "metadata": {},
   "outputs": [],
   "source": [
    "#Exercise 4 solution"
   ]
  },
  {
   "cell_type": "markdown",
   "metadata": {},
   "source": [
    "# Functions & Modules\n",
    "\n",
    "## Functions\n",
    "- Allows you to factor-out useful code-blocks\n",
    "- Example of a function?\n",
    "\n",
    "## Modules\n",
    "- A collection of functions"
   ]
  },
  {
   "cell_type": "code",
   "execution_count": 28,
   "metadata": {},
   "outputs": [],
   "source": [
    "def hi_function(anyone):\n",
    "    print(\"Hello \" + anyone)"
   ]
  },
  {
   "cell_type": "code",
   "execution_count": 29,
   "metadata": {},
   "outputs": [
    {
     "name": "stdout",
     "output_type": "stream",
     "text": [
      "Hello World\n"
     ]
    }
   ],
   "source": [
    "hi_function(\"World\")"
   ]
  },
  {
   "cell_type": "code",
   "execution_count": 30,
   "metadata": {},
   "outputs": [],
   "source": [
    "from random import randint #Importing a function from a module explicitly\n",
    "\n",
    "def hi_bye_function(name,a):\n",
    "    n = randint(1,10) # Choose a random number between 1 and 10\n",
    "    if a > n:\n",
    "        print(\"Hello \" + name)\n",
    "    else:\n",
    "        print(\"Bye \" + name)"
   ]
  },
  {
   "cell_type": "code",
   "execution_count": null,
   "metadata": {},
   "outputs": [],
   "source": [
    "#Alternative way of importing a module\n",
    "import random #Importing a module\n",
    "\n",
    "def hi_bye_function(name,a):\n",
    "    n = random.randint(1,10) # Now specify the function called from the random module using the \".\"\n",
    "    if a > n:\n",
    "        print(\"Hello \" + name)\n",
    "    else:\n",
    "        print(\"Bye \" + name)"
   ]
  },
  {
   "cell_type": "code",
   "execution_count": 31,
   "metadata": {},
   "outputs": [
    {
     "name": "stdout",
     "output_type": "stream",
     "text": [
      "Hello World\n"
     ]
    }
   ],
   "source": [
    "hi_bye_function(\"World\",5)"
   ]
  },
  {
   "cell_type": "code",
   "execution_count": 34,
   "metadata": {},
   "outputs": [
    {
     "name": "stdout",
     "output_type": "stream",
     "text": [
      "Bye World\n",
      "Bye World\n",
      "Bye World\n",
      "Bye World\n",
      "Bye World\n",
      "Bye World\n",
      "Bye World\n",
      "Hello World\n",
      "Hello World\n",
      "Bye World\n"
     ]
    }
   ],
   "source": [
    "for i in range(10):\n",
    "    hi_bye_function(\"World\",i)"
   ]
  },
  {
   "cell_type": "markdown",
   "metadata": {},
   "source": [
    "### Exercise 5\n",
    "- a)Write a function called fizz_buzz that takes a number.\n",
    "    - If the number is divisible by 3, it should return “Fizz”.\n",
    "    - If it is divisible by 5, it should return “Buzz”.\n",
    "    - If it is divisible by both 3 and 5, it should return “FizzBuzz”.\n",
    "    - Otherwise, it should return the same number.\n"
   ]
  },
  {
   "cell_type": "code",
   "execution_count": null,
   "metadata": {},
   "outputs": [],
   "source": [
    "#Exercise 5 Solution"
   ]
  }
 ],
 "metadata": {
  "kernelspec": {
   "display_name": "Python 3",
   "language": "python",
   "name": "python3"
  },
  "language_info": {
   "codemirror_mode": {
    "name": "ipython",
    "version": 3
   },
   "file_extension": ".py",
   "mimetype": "text/x-python",
   "name": "python",
   "nbconvert_exporter": "python",
   "pygments_lexer": "ipython3",
   "version": "3.6.5"
  }
 },
 "nbformat": 4,
 "nbformat_minor": 2
}
