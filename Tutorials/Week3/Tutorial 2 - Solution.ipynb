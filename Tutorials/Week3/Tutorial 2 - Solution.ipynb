{
 "cells": [
  {
   "cell_type": "markdown",
   "metadata": {},
   "source": [
    "# Tutorial 2 - SOLUTION"
   ]
  },
  {
   "cell_type": "markdown",
   "metadata": {},
   "source": [
    "# Part 1: Data revisited"
   ]
  },
  {
   "cell_type": "markdown",
   "metadata": {},
   "source": [
    "## Step 1.1 - Load packages and data\n",
    "As in the previous tutorials, we start by loading the packages and data:"
   ]
  },
  {
   "cell_type": "code",
   "execution_count": 1,
   "metadata": {},
   "outputs": [],
   "source": [
    "# Import the necessary packages to read the data\n",
    "import pandas as pd\n",
    "import numpy  as np # numpy is always useful\n",
    "import os           # Loads the functions related to the operating system "
   ]
  },
  {
   "cell_type": "code",
   "execution_count": 2,
   "metadata": {},
   "outputs": [],
   "source": [
    "# SOLUTION\n",
    "# Read the csv file with the training data - the index, i.e. the identifier of the roofs, is the first column (DF_UID)\n",
    "data = pd.read_csv( 'training_sample.csv' , index_col = 0 )"
   ]
  },
  {
   "cell_type": "markdown",
   "metadata": {},
   "source": [
    "## Step 1.2 - Correlation between variables"
   ]
  },
  {
   "cell_type": "markdown",
   "metadata": {},
   "source": [
    "Using `pandas`, we can compute the correlation between each pair of variables. To improve the readability of the resulting table, we will style the table with red colors for positive values, and blue colors for negative values:"
   ]
  },
  {
   "cell_type": "code",
   "execution_count": 3,
   "metadata": {},
   "outputs": [
    {
     "data": {
      "text/html": [
       "<style  type=\"text/css\" >\n",
       "#T_529a5_row0_col0,#T_529a5_row1_col1,#T_529a5_row2_col2,#T_529a5_row3_col3,#T_529a5_row4_col4,#T_529a5_row5_col5,#T_529a5_row6_col6,#T_529a5_row7_col7,#T_529a5_row8_col8,#T_529a5_row9_col9,#T_529a5_row10_col10,#T_529a5_row11_col11,#T_529a5_row12_col12,#T_529a5_row13_col13,#T_529a5_row14_col14,#T_529a5_row15_col15,#T_529a5_row16_col16,#T_529a5_row17_col17{\n",
       "            background-color:  #b40426;\n",
       "            color:  #f1f1f1;\n",
       "        }#T_529a5_row0_col1,#T_529a5_row0_col14,#T_529a5_row0_col16,#T_529a5_row1_col0,#T_529a5_row2_col6,#T_529a5_row2_col17,#T_529a5_row6_col2,#T_529a5_row14_col0,#T_529a5_row16_col0,#T_529a5_row17_col2{\n",
       "            background-color:  #e0dbd8;\n",
       "            color:  #000000;\n",
       "        }#T_529a5_row0_col2,#T_529a5_row2_col0,#T_529a5_row3_col6,#T_529a5_row6_col3{\n",
       "            background-color:  #cdd9ec;\n",
       "            color:  #000000;\n",
       "        }#T_529a5_row0_col3,#T_529a5_row3_col0,#T_529a5_row6_col13,#T_529a5_row13_col6{\n",
       "            background-color:  #d5dbe5;\n",
       "            color:  #000000;\n",
       "        }#T_529a5_row0_col4,#T_529a5_row4_col0{\n",
       "            background-color:  #ecd3c5;\n",
       "            color:  #000000;\n",
       "        }#T_529a5_row0_col5,#T_529a5_row3_col16,#T_529a5_row5_col0,#T_529a5_row16_col3{\n",
       "            background-color:  #ccd9ed;\n",
       "            color:  #000000;\n",
       "        }#T_529a5_row0_col6,#T_529a5_row4_col17,#T_529a5_row6_col0,#T_529a5_row17_col4{\n",
       "            background-color:  #c9d7f0;\n",
       "            color:  #000000;\n",
       "        }#T_529a5_row0_col7,#T_529a5_row7_col0{\n",
       "            background-color:  #e2dad5;\n",
       "            color:  #000000;\n",
       "        }#T_529a5_row0_col8,#T_529a5_row8_col0{\n",
       "            background-color:  #ead4c8;\n",
       "            color:  #000000;\n",
       "        }#T_529a5_row0_col9,#T_529a5_row5_col12,#T_529a5_row9_col0,#T_529a5_row12_col5{\n",
       "            background-color:  #e4d9d2;\n",
       "            color:  #000000;\n",
       "        }#T_529a5_row0_col10,#T_529a5_row1_col8,#T_529a5_row2_col15,#T_529a5_row4_col11,#T_529a5_row8_col1,#T_529a5_row10_col0,#T_529a5_row11_col4,#T_529a5_row15_col2{\n",
       "            background-color:  #dcdddd;\n",
       "            color:  #000000;\n",
       "        }#T_529a5_row0_col11,#T_529a5_row1_col17,#T_529a5_row2_col12,#T_529a5_row5_col14,#T_529a5_row7_col14,#T_529a5_row11_col0,#T_529a5_row12_col2,#T_529a5_row14_col5,#T_529a5_row14_col7,#T_529a5_row17_col1{\n",
       "            background-color:  #d8dce2;\n",
       "            color:  #000000;\n",
       "        }#T_529a5_row0_col12,#T_529a5_row9_col16,#T_529a5_row12_col0,#T_529a5_row16_col9{\n",
       "            background-color:  #cfdaea;\n",
       "            color:  #000000;\n",
       "        }#T_529a5_row0_col13,#T_529a5_row13_col0{\n",
       "            background-color:  #ead5c9;\n",
       "            color:  #000000;\n",
       "        }#T_529a5_row0_col15,#T_529a5_row1_col7,#T_529a5_row1_col13,#T_529a5_row4_col9,#T_529a5_row7_col1,#T_529a5_row9_col4,#T_529a5_row13_col1,#T_529a5_row15_col0{\n",
       "            background-color:  #e3d9d3;\n",
       "            color:  #000000;\n",
       "        }#T_529a5_row0_col17,#T_529a5_row17_col0{\n",
       "            background-color:  #c4d5f3;\n",
       "            color:  #000000;\n",
       "        }#T_529a5_row1_col2,#T_529a5_row1_col5,#T_529a5_row2_col1,#T_529a5_row4_col10,#T_529a5_row5_col1,#T_529a5_row5_col10,#T_529a5_row5_col15,#T_529a5_row10_col4,#T_529a5_row10_col5,#T_529a5_row15_col5{\n",
       "            background-color:  #dddcdc;\n",
       "            color:  #000000;\n",
       "        }#T_529a5_row1_col3,#T_529a5_row2_col10,#T_529a5_row2_col11,#T_529a5_row3_col1,#T_529a5_row4_col15,#T_529a5_row7_col8,#T_529a5_row8_col7,#T_529a5_row10_col2,#T_529a5_row11_col2,#T_529a5_row15_col4{\n",
       "            background-color:  #d7dce3;\n",
       "            color:  #000000;\n",
       "        }#T_529a5_row1_col4,#T_529a5_row3_col10,#T_529a5_row3_col12,#T_529a5_row4_col1,#T_529a5_row6_col12,#T_529a5_row10_col3,#T_529a5_row12_col3,#T_529a5_row12_col6{\n",
       "            background-color:  #dfdbd9;\n",
       "            color:  #000000;\n",
       "        }#T_529a5_row1_col6,#T_529a5_row2_col8,#T_529a5_row2_col9,#T_529a5_row2_col16,#T_529a5_row4_col16,#T_529a5_row5_col16,#T_529a5_row6_col1,#T_529a5_row6_col10,#T_529a5_row8_col2,#T_529a5_row9_col2,#T_529a5_row10_col6,#T_529a5_row16_col2,#T_529a5_row16_col4,#T_529a5_row16_col5{\n",
       "            background-color:  #dadce0;\n",
       "            color:  #000000;\n",
       "        }#T_529a5_row1_col9,#T_529a5_row9_col1{\n",
       "            background-color:  #bed2f6;\n",
       "            color:  #000000;\n",
       "        }#T_529a5_row1_col10,#T_529a5_row10_col1{\n",
       "            background-color:  #b1cbfc;\n",
       "            color:  #000000;\n",
       "        }#T_529a5_row1_col11,#T_529a5_row11_col1{\n",
       "            background-color:  #b6cefa;\n",
       "            color:  #000000;\n",
       "        }#T_529a5_row1_col12,#T_529a5_row3_col13,#T_529a5_row12_col1,#T_529a5_row13_col3,#T_529a5_row15_col17,#T_529a5_row17_col15{\n",
       "            background-color:  #cbd8ee;\n",
       "            color:  #000000;\n",
       "        }#T_529a5_row1_col14,#T_529a5_row13_col15,#T_529a5_row14_col1,#T_529a5_row15_col13{\n",
       "            background-color:  #f7bca1;\n",
       "            color:  #000000;\n",
       "        }#T_529a5_row1_col15,#T_529a5_row15_col1{\n",
       "            background-color:  #f7b194;\n",
       "            color:  #000000;\n",
       "        }#T_529a5_row1_col16,#T_529a5_row16_col1{\n",
       "            background-color:  #f7b599;\n",
       "            color:  #000000;\n",
       "        }#T_529a5_row2_col3,#T_529a5_row3_col2,#T_529a5_row6_col9,#T_529a5_row7_col13,#T_529a5_row9_col6,#T_529a5_row13_col7{\n",
       "            background-color:  #d4dbe6;\n",
       "            color:  #000000;\n",
       "        }#T_529a5_row2_col4,#T_529a5_row2_col7,#T_529a5_row3_col9,#T_529a5_row4_col2,#T_529a5_row6_col11,#T_529a5_row7_col2,#T_529a5_row7_col16,#T_529a5_row9_col3,#T_529a5_row11_col6,#T_529a5_row16_col7{\n",
       "            background-color:  #d9dce1;\n",
       "            color:  #000000;\n",
       "        }#T_529a5_row2_col5,#T_529a5_row2_col14,#T_529a5_row3_col11,#T_529a5_row3_col17,#T_529a5_row5_col2,#T_529a5_row5_col11,#T_529a5_row6_col15,#T_529a5_row11_col3,#T_529a5_row11_col5,#T_529a5_row14_col2,#T_529a5_row15_col6,#T_529a5_row17_col3{\n",
       "            background-color:  #dedcdb;\n",
       "            color:  #000000;\n",
       "        }#T_529a5_row2_col13,#T_529a5_row4_col14,#T_529a5_row6_col14,#T_529a5_row6_col16,#T_529a5_row7_col9,#T_529a5_row7_col15,#T_529a5_row9_col7,#T_529a5_row12_col17,#T_529a5_row13_col2,#T_529a5_row14_col4,#T_529a5_row14_col6,#T_529a5_row15_col7,#T_529a5_row16_col6,#T_529a5_row17_col12{\n",
       "            background-color:  #dbdcde;\n",
       "            color:  #000000;\n",
       "        }#T_529a5_row3_col4,#T_529a5_row4_col3,#T_529a5_row13_col16,#T_529a5_row16_col13{\n",
       "            background-color:  #f3c7b1;\n",
       "            color:  #000000;\n",
       "        }#T_529a5_row3_col5,#T_529a5_row4_col8,#T_529a5_row5_col3,#T_529a5_row7_col10,#T_529a5_row8_col4,#T_529a5_row10_col7{\n",
       "            background-color:  #e5d8d1;\n",
       "            color:  #000000;\n",
       "        }#T_529a5_row3_col7,#T_529a5_row7_col3{\n",
       "            background-color:  #f7ad90;\n",
       "            color:  #000000;\n",
       "        }#T_529a5_row3_col8,#T_529a5_row3_col14,#T_529a5_row3_col15,#T_529a5_row5_col8,#T_529a5_row8_col3,#T_529a5_row8_col5,#T_529a5_row10_col14,#T_529a5_row14_col3,#T_529a5_row14_col10,#T_529a5_row15_col3{\n",
       "            background-color:  #cedaeb;\n",
       "            color:  #000000;\n",
       "        }#T_529a5_row4_col5,#T_529a5_row5_col4{\n",
       "            background-color:  #5f7fe8;\n",
       "            color:  #000000;\n",
       "        }#T_529a5_row4_col6,#T_529a5_row6_col4{\n",
       "            background-color:  #5673e0;\n",
       "            color:  #000000;\n",
       "        }#T_529a5_row4_col7,#T_529a5_row7_col4,#T_529a5_row8_col16,#T_529a5_row16_col8{\n",
       "            background-color:  #edd1c2;\n",
       "            color:  #000000;\n",
       "        }#T_529a5_row4_col12,#T_529a5_row12_col4{\n",
       "            background-color:  #d6dce4;\n",
       "            color:  #000000;\n",
       "        }#T_529a5_row4_col13,#T_529a5_row7_col17,#T_529a5_row13_col4,#T_529a5_row17_col7{\n",
       "            background-color:  #e1dad6;\n",
       "            color:  #000000;\n",
       "        }#T_529a5_row5_col6,#T_529a5_row6_col5,#T_529a5_row8_col13,#T_529a5_row13_col8{\n",
       "            background-color:  #c53334;\n",
       "            color:  #f1f1f1;\n",
       "        }#T_529a5_row5_col7,#T_529a5_row6_col17,#T_529a5_row7_col5,#T_529a5_row8_col15,#T_529a5_row15_col8,#T_529a5_row17_col6{\n",
       "            background-color:  #f2cbb7;\n",
       "            color:  #000000;\n",
       "        }#T_529a5_row5_col9,#T_529a5_row8_col12,#T_529a5_row9_col5,#T_529a5_row12_col8{\n",
       "            background-color:  #d3dbe7;\n",
       "            color:  #000000;\n",
       "        }#T_529a5_row5_col13,#T_529a5_row6_col8,#T_529a5_row8_col6,#T_529a5_row9_col15,#T_529a5_row13_col5,#T_529a5_row15_col9,#T_529a5_row16_col17,#T_529a5_row17_col16{\n",
       "            background-color:  #d1dae9;\n",
       "            color:  #000000;\n",
       "        }#T_529a5_row5_col17,#T_529a5_row17_col5{\n",
       "            background-color:  #f3c8b2;\n",
       "            color:  #000000;\n",
       "        }#T_529a5_row6_col7,#T_529a5_row7_col6,#T_529a5_row10_col17,#T_529a5_row17_col10{\n",
       "            background-color:  #b9d0f9;\n",
       "            color:  #000000;\n",
       "        }#T_529a5_row7_col11,#T_529a5_row11_col7{\n",
       "            background-color:  #e9d5cb;\n",
       "            color:  #000000;\n",
       "        }#T_529a5_row7_col12,#T_529a5_row12_col7{\n",
       "            background-color:  #e7d7ce;\n",
       "            color:  #000000;\n",
       "        }#T_529a5_row8_col9,#T_529a5_row9_col8{\n",
       "            background-color:  #e36b54;\n",
       "            color:  #000000;\n",
       "        }#T_529a5_row8_col10,#T_529a5_row10_col8{\n",
       "            background-color:  #f6bda2;\n",
       "            color:  #000000;\n",
       "        }#T_529a5_row8_col11,#T_529a5_row11_col8{\n",
       "            background-color:  #f0cdbb;\n",
       "            color:  #000000;\n",
       "        }#T_529a5_row8_col14,#T_529a5_row14_col8{\n",
       "            background-color:  #f18f71;\n",
       "            color:  #000000;\n",
       "        }#T_529a5_row8_col17,#T_529a5_row17_col8{\n",
       "            background-color:  #7ea1fa;\n",
       "            color:  #000000;\n",
       "        }#T_529a5_row9_col10,#T_529a5_row10_col9,#T_529a5_row13_col14,#T_529a5_row14_col13{\n",
       "            background-color:  #e36c55;\n",
       "            color:  #000000;\n",
       "        }#T_529a5_row9_col11,#T_529a5_row11_col9{\n",
       "            background-color:  #f39475;\n",
       "            color:  #000000;\n",
       "        }#T_529a5_row9_col12,#T_529a5_row9_col14,#T_529a5_row12_col9,#T_529a5_row14_col9{\n",
       "            background-color:  #efcebd;\n",
       "            color:  #000000;\n",
       "        }#T_529a5_row9_col13,#T_529a5_row13_col9{\n",
       "            background-color:  #f08b6e;\n",
       "            color:  #000000;\n",
       "        }#T_529a5_row9_col17,#T_529a5_row17_col9{\n",
       "            background-color:  #92b4fe;\n",
       "            color:  #000000;\n",
       "        }#T_529a5_row10_col11,#T_529a5_row11_col10{\n",
       "            background-color:  #cb3e38;\n",
       "            color:  #f1f1f1;\n",
       "        }#T_529a5_row10_col12,#T_529a5_row12_col10{\n",
       "            background-color:  #f18d6f;\n",
       "            color:  #000000;\n",
       "        }#T_529a5_row10_col13,#T_529a5_row13_col10{\n",
       "            background-color:  #f1cdba;\n",
       "            color:  #000000;\n",
       "        }#T_529a5_row10_col15,#T_529a5_row11_col15,#T_529a5_row15_col10,#T_529a5_row15_col11{\n",
       "            background-color:  #bad0f8;\n",
       "            color:  #000000;\n",
       "        }#T_529a5_row10_col16,#T_529a5_row16_col10{\n",
       "            background-color:  #bcd2f7;\n",
       "            color:  #000000;\n",
       "        }#T_529a5_row11_col12,#T_529a5_row12_col11{\n",
       "            background-color:  #e26952;\n",
       "            color:  #000000;\n",
       "        }#T_529a5_row11_col13,#T_529a5_row13_col11{\n",
       "            background-color:  #e6d7cf;\n",
       "            color:  #000000;\n",
       "        }#T_529a5_row11_col14,#T_529a5_row14_col11{\n",
       "            background-color:  #c6d6f1;\n",
       "            color:  #000000;\n",
       "        }#T_529a5_row11_col16,#T_529a5_row16_col11{\n",
       "            background-color:  #bfd3f6;\n",
       "            color:  #000000;\n",
       "        }#T_529a5_row11_col17,#T_529a5_row17_col11{\n",
       "            background-color:  #c1d4f4;\n",
       "            color:  #000000;\n",
       "        }#T_529a5_row12_col13,#T_529a5_row13_col12{\n",
       "            background-color:  #cad8ef;\n",
       "            color:  #000000;\n",
       "        }#T_529a5_row12_col14,#T_529a5_row14_col12{\n",
       "            background-color:  #c0d4f5;\n",
       "            color:  #000000;\n",
       "        }#T_529a5_row12_col15,#T_529a5_row15_col12{\n",
       "            background-color:  #c7d7f0;\n",
       "            color:  #000000;\n",
       "        }#T_529a5_row12_col16,#T_529a5_row16_col12{\n",
       "            background-color:  #d2dbe8;\n",
       "            color:  #000000;\n",
       "        }#T_529a5_row13_col17,#T_529a5_row17_col13{\n",
       "            background-color:  #81a4fb;\n",
       "            color:  #000000;\n",
       "        }#T_529a5_row14_col15,#T_529a5_row15_col14{\n",
       "            background-color:  #de614d;\n",
       "            color:  #000000;\n",
       "        }#T_529a5_row14_col16,#T_529a5_row16_col14{\n",
       "            background-color:  #ec7f63;\n",
       "            color:  #000000;\n",
       "        }#T_529a5_row14_col17,#T_529a5_row17_col14{\n",
       "            background-color:  #a1c0ff;\n",
       "            color:  #000000;\n",
       "        }#T_529a5_row15_col16,#T_529a5_row16_col15{\n",
       "            background-color:  #c83836;\n",
       "            color:  #f1f1f1;\n",
       "        }</style><table id=\"T_529a5_\" ><thead>    <tr>        <th class=\"blank level0\" ></th>        <th class=\"col_heading level0 col0\" >roof_tilt</th>        <th class=\"col_heading level0 col1\" >roof_aspect</th>        <th class=\"col_heading level0 col2\" >roof_area</th>        <th class=\"col_heading level0 col3\" >roof_x</th>        <th class=\"col_heading level0 col4\" >roof_y</th>        <th class=\"col_heading level0 col5\" >SIS</th>        <th class=\"col_heading level0 col6\" >SISDIR</th>        <th class=\"col_heading level0 col7\" >DHI</th>        <th class=\"col_heading level0 col8\" >horizon_S</th>        <th class=\"col_heading level0 col9\" >horizon_SSW</th>        <th class=\"col_heading level0 col10\" >horizon_SWW</th>        <th class=\"col_heading level0 col11\" >horizon_W</th>        <th class=\"col_heading level0 col12\" >horizon_NWW</th>        <th class=\"col_heading level0 col13\" >horizon_SSE</th>        <th class=\"col_heading level0 col14\" >horizon_SEE</th>        <th class=\"col_heading level0 col15\" >horizon_E</th>        <th class=\"col_heading level0 col16\" >horizon_NEE</th>        <th class=\"col_heading level0 col17\" >tilted_radiation</th>    </tr></thead><tbody>\n",
       "                <tr>\n",
       "                        <th id=\"T_529a5_level0_row0\" class=\"row_heading level0 row0\" >roof_tilt</th>\n",
       "                        <td id=\"T_529a5_row0_col0\" class=\"data row0 col0\" >1.0</td>\n",
       "                        <td id=\"T_529a5_row0_col1\" class=\"data row0 col1\" >0.025</td>\n",
       "                        <td id=\"T_529a5_row0_col2\" class=\"data row0 col2\" >-0.11</td>\n",
       "                        <td id=\"T_529a5_row0_col3\" class=\"data row0 col3\" >-0.056</td>\n",
       "                        <td id=\"T_529a5_row0_col4\" class=\"data row0 col4\" >0.13</td>\n",
       "                        <td id=\"T_529a5_row0_col5\" class=\"data row0 col5\" >-0.12</td>\n",
       "                        <td id=\"T_529a5_row0_col6\" class=\"data row0 col6\" >-0.14</td>\n",
       "                        <td id=\"T_529a5_row0_col7\" class=\"data row0 col7\" >0.044</td>\n",
       "                        <td id=\"T_529a5_row0_col8\" class=\"data row0 col8\" >0.11</td>\n",
       "                        <td id=\"T_529a5_row0_col9\" class=\"data row0 col9\" >0.061</td>\n",
       "                        <td id=\"T_529a5_row0_col10\" class=\"data row0 col10\" >-0.0059</td>\n",
       "                        <td id=\"T_529a5_row0_col11\" class=\"data row0 col11\" >-0.036</td>\n",
       "                        <td id=\"T_529a5_row0_col12\" class=\"data row0 col12\" >-0.097</td>\n",
       "                        <td id=\"T_529a5_row0_col13\" class=\"data row0 col13\" >0.1</td>\n",
       "                        <td id=\"T_529a5_row0_col14\" class=\"data row0 col14\" >0.031</td>\n",
       "                        <td id=\"T_529a5_row0_col15\" class=\"data row0 col15\" >0.047</td>\n",
       "                        <td id=\"T_529a5_row0_col16\" class=\"data row0 col16\" >0.031</td>\n",
       "                        <td id=\"T_529a5_row0_col17\" class=\"data row0 col17\" >-0.17</td>\n",
       "            </tr>\n",
       "            <tr>\n",
       "                        <th id=\"T_529a5_level0_row1\" class=\"row_heading level0 row1\" >roof_aspect</th>\n",
       "                        <td id=\"T_529a5_row1_col0\" class=\"data row1 col0\" >0.025</td>\n",
       "                        <td id=\"T_529a5_row1_col1\" class=\"data row1 col1\" >1.0</td>\n",
       "                        <td id=\"T_529a5_row1_col2\" class=\"data row1 col2\" >0.0052</td>\n",
       "                        <td id=\"T_529a5_row1_col3\" class=\"data row1 col3\" >-0.045</td>\n",
       "                        <td id=\"T_529a5_row1_col4\" class=\"data row1 col4\" >0.016</td>\n",
       "                        <td id=\"T_529a5_row1_col5\" class=\"data row1 col5\" >0.0007</td>\n",
       "                        <td id=\"T_529a5_row1_col6\" class=\"data row1 col6\" >-0.021</td>\n",
       "                        <td id=\"T_529a5_row1_col7\" class=\"data row1 col7\" >0.048</td>\n",
       "                        <td id=\"T_529a5_row1_col8\" class=\"data row1 col8\" >-0.0016</td>\n",
       "                        <td id=\"T_529a5_row1_col9\" class=\"data row1 col9\" >-0.22</td>\n",
       "                        <td id=\"T_529a5_row1_col10\" class=\"data row1 col10\" >-0.29</td>\n",
       "                        <td id=\"T_529a5_row1_col11\" class=\"data row1 col11\" >-0.26</td>\n",
       "                        <td id=\"T_529a5_row1_col12\" class=\"data row1 col12\" >-0.13</td>\n",
       "                        <td id=\"T_529a5_row1_col13\" class=\"data row1 col13\" >0.052</td>\n",
       "                        <td id=\"T_529a5_row1_col14\" class=\"data row1 col14\" >0.31</td>\n",
       "                        <td id=\"T_529a5_row1_col15\" class=\"data row1 col15\" >0.37</td>\n",
       "                        <td id=\"T_529a5_row1_col16\" class=\"data row1 col16\" >0.35</td>\n",
       "                        <td id=\"T_529a5_row1_col17\" class=\"data row1 col17\" >-0.036</td>\n",
       "            </tr>\n",
       "            <tr>\n",
       "                        <th id=\"T_529a5_level0_row2\" class=\"row_heading level0 row2\" >roof_area</th>\n",
       "                        <td id=\"T_529a5_row2_col0\" class=\"data row2 col0\" >-0.11</td>\n",
       "                        <td id=\"T_529a5_row2_col1\" class=\"data row2 col1\" >0.0052</td>\n",
       "                        <td id=\"T_529a5_row2_col2\" class=\"data row2 col2\" >1.0</td>\n",
       "                        <td id=\"T_529a5_row2_col3\" class=\"data row2 col3\" >-0.065</td>\n",
       "                        <td id=\"T_529a5_row2_col4\" class=\"data row2 col4\" >-0.028</td>\n",
       "                        <td id=\"T_529a5_row2_col5\" class=\"data row2 col5\" >0.011</td>\n",
       "                        <td id=\"T_529a5_row2_col6\" class=\"data row2 col6\" >0.025</td>\n",
       "                        <td id=\"T_529a5_row2_col7\" class=\"data row2 col7\" >-0.031</td>\n",
       "                        <td id=\"T_529a5_row2_col8\" class=\"data row2 col8\" >-0.021</td>\n",
       "                        <td id=\"T_529a5_row2_col9\" class=\"data row2 col9\" >-0.023</td>\n",
       "                        <td id=\"T_529a5_row2_col10\" class=\"data row2 col10\" >-0.043</td>\n",
       "                        <td id=\"T_529a5_row2_col11\" class=\"data row2 col11\" >-0.039</td>\n",
       "                        <td id=\"T_529a5_row2_col12\" class=\"data row2 col12\" >-0.034</td>\n",
       "                        <td id=\"T_529a5_row2_col13\" class=\"data row2 col13\" >-0.01</td>\n",
       "                        <td id=\"T_529a5_row2_col14\" class=\"data row2 col14\" >0.01</td>\n",
       "                        <td id=\"T_529a5_row2_col15\" class=\"data row2 col15\" >-0.0064</td>\n",
       "                        <td id=\"T_529a5_row2_col16\" class=\"data row2 col16\" >-0.017</td>\n",
       "                        <td id=\"T_529a5_row2_col17\" class=\"data row2 col17\" >0.028</td>\n",
       "            </tr>\n",
       "            <tr>\n",
       "                        <th id=\"T_529a5_level0_row3\" class=\"row_heading level0 row3\" >roof_x</th>\n",
       "                        <td id=\"T_529a5_row3_col0\" class=\"data row3 col0\" >-0.056</td>\n",
       "                        <td id=\"T_529a5_row3_col1\" class=\"data row3 col1\" >-0.045</td>\n",
       "                        <td id=\"T_529a5_row3_col2\" class=\"data row3 col2\" >-0.065</td>\n",
       "                        <td id=\"T_529a5_row3_col3\" class=\"data row3 col3\" >1.0</td>\n",
       "                        <td id=\"T_529a5_row3_col4\" class=\"data row3 col4\" >0.23</td>\n",
       "                        <td id=\"T_529a5_row3_col5\" class=\"data row3 col5\" >0.065</td>\n",
       "                        <td id=\"T_529a5_row3_col6\" class=\"data row3 col6\" >-0.11</td>\n",
       "                        <td id=\"T_529a5_row3_col7\" class=\"data row3 col7\" >0.4</td>\n",
       "                        <td id=\"T_529a5_row3_col8\" class=\"data row3 col8\" >-0.11</td>\n",
       "                        <td id=\"T_529a5_row3_col9\" class=\"data row3 col9\" >-0.028</td>\n",
       "                        <td id=\"T_529a5_row3_col10\" class=\"data row3 col10\" >0.02</td>\n",
       "                        <td id=\"T_529a5_row3_col11\" class=\"data row3 col11\" >0.0083</td>\n",
       "                        <td id=\"T_529a5_row3_col12\" class=\"data row3 col12\" >0.02</td>\n",
       "                        <td id=\"T_529a5_row3_col13\" class=\"data row3 col13\" >-0.13</td>\n",
       "                        <td id=\"T_529a5_row3_col14\" class=\"data row3 col14\" >-0.11</td>\n",
       "                        <td id=\"T_529a5_row3_col15\" class=\"data row3 col15\" >-0.11</td>\n",
       "                        <td id=\"T_529a5_row3_col16\" class=\"data row3 col16\" >-0.12</td>\n",
       "                        <td id=\"T_529a5_row3_col17\" class=\"data row3 col17\" >0.0088</td>\n",
       "            </tr>\n",
       "            <tr>\n",
       "                        <th id=\"T_529a5_level0_row4\" class=\"row_heading level0 row4\" >roof_y</th>\n",
       "                        <td id=\"T_529a5_row4_col0\" class=\"data row4 col0\" >0.13</td>\n",
       "                        <td id=\"T_529a5_row4_col1\" class=\"data row4 col1\" >0.016</td>\n",
       "                        <td id=\"T_529a5_row4_col2\" class=\"data row4 col2\" >-0.028</td>\n",
       "                        <td id=\"T_529a5_row4_col3\" class=\"data row4 col3\" >0.23</td>\n",
       "                        <td id=\"T_529a5_row4_col4\" class=\"data row4 col4\" >1.0</td>\n",
       "                        <td id=\"T_529a5_row4_col5\" class=\"data row4 col5\" >-0.76</td>\n",
       "                        <td id=\"T_529a5_row4_col6\" class=\"data row4 col6\" >-0.82</td>\n",
       "                        <td id=\"T_529a5_row4_col7\" class=\"data row4 col7\" >0.14</td>\n",
       "                        <td id=\"T_529a5_row4_col8\" class=\"data row4 col8\" >0.066</td>\n",
       "                        <td id=\"T_529a5_row4_col9\" class=\"data row4 col9\" >0.051</td>\n",
       "                        <td id=\"T_529a5_row4_col10\" class=\"data row4 col10\" >0.0053</td>\n",
       "                        <td id=\"T_529a5_row4_col11\" class=\"data row4 col11\" >-0.0051</td>\n",
       "                        <td id=\"T_529a5_row4_col12\" class=\"data row4 col12\" >-0.05</td>\n",
       "                        <td id=\"T_529a5_row4_col13\" class=\"data row4 col13\" >0.038</td>\n",
       "                        <td id=\"T_529a5_row4_col14\" class=\"data row4 col14\" >-0.012</td>\n",
       "                        <td id=\"T_529a5_row4_col15\" class=\"data row4 col15\" >-0.043</td>\n",
       "                        <td id=\"T_529a5_row4_col16\" class=\"data row4 col16\" >-0.022</td>\n",
       "                        <td id=\"T_529a5_row4_col17\" class=\"data row4 col17\" >-0.14</td>\n",
       "            </tr>\n",
       "            <tr>\n",
       "                        <th id=\"T_529a5_level0_row5\" class=\"row_heading level0 row5\" >SIS</th>\n",
       "                        <td id=\"T_529a5_row5_col0\" class=\"data row5 col0\" >-0.12</td>\n",
       "                        <td id=\"T_529a5_row5_col1\" class=\"data row5 col1\" >0.0007</td>\n",
       "                        <td id=\"T_529a5_row5_col2\" class=\"data row5 col2\" >0.011</td>\n",
       "                        <td id=\"T_529a5_row5_col3\" class=\"data row5 col3\" >0.065</td>\n",
       "                        <td id=\"T_529a5_row5_col4\" class=\"data row5 col4\" >-0.76</td>\n",
       "                        <td id=\"T_529a5_row5_col5\" class=\"data row5 col5\" >1.0</td>\n",
       "                        <td id=\"T_529a5_row5_col6\" class=\"data row5 col6\" >0.9</td>\n",
       "                        <td id=\"T_529a5_row5_col7\" class=\"data row5 col7\" >0.2</td>\n",
       "                        <td id=\"T_529a5_row5_col8\" class=\"data row5 col8\" >-0.11</td>\n",
       "                        <td id=\"T_529a5_row5_col9\" class=\"data row5 col9\" >-0.072</td>\n",
       "                        <td id=\"T_529a5_row5_col10\" class=\"data row5 col10\" >0.005</td>\n",
       "                        <td id=\"T_529a5_row5_col11\" class=\"data row5 col11\" >0.011</td>\n",
       "                        <td id=\"T_529a5_row5_col12\" class=\"data row5 col12\" >0.059</td>\n",
       "                        <td id=\"T_529a5_row5_col13\" class=\"data row5 col13\" >-0.089</td>\n",
       "                        <td id=\"T_529a5_row5_col14\" class=\"data row5 col14\" >-0.032</td>\n",
       "                        <td id=\"T_529a5_row5_col15\" class=\"data row5 col15\" >0.0046</td>\n",
       "                        <td id=\"T_529a5_row5_col16\" class=\"data row5 col16\" >-0.023</td>\n",
       "                        <td id=\"T_529a5_row5_col17\" class=\"data row5 col17\" >0.22</td>\n",
       "            </tr>\n",
       "            <tr>\n",
       "                        <th id=\"T_529a5_level0_row6\" class=\"row_heading level0 row6\" >SISDIR</th>\n",
       "                        <td id=\"T_529a5_row6_col0\" class=\"data row6 col0\" >-0.14</td>\n",
       "                        <td id=\"T_529a5_row6_col1\" class=\"data row6 col1\" >-0.021</td>\n",
       "                        <td id=\"T_529a5_row6_col2\" class=\"data row6 col2\" >0.025</td>\n",
       "                        <td id=\"T_529a5_row6_col3\" class=\"data row6 col3\" >-0.11</td>\n",
       "                        <td id=\"T_529a5_row6_col4\" class=\"data row6 col4\" >-0.82</td>\n",
       "                        <td id=\"T_529a5_row6_col5\" class=\"data row6 col5\" >0.9</td>\n",
       "                        <td id=\"T_529a5_row6_col6\" class=\"data row6 col6\" >1.0</td>\n",
       "                        <td id=\"T_529a5_row6_col7\" class=\"data row6 col7\" >-0.25</td>\n",
       "                        <td id=\"T_529a5_row6_col8\" class=\"data row6 col8\" >-0.087</td>\n",
       "                        <td id=\"T_529a5_row6_col9\" class=\"data row6 col9\" >-0.068</td>\n",
       "                        <td id=\"T_529a5_row6_col10\" class=\"data row6 col10\" >-0.023</td>\n",
       "                        <td id=\"T_529a5_row6_col11\" class=\"data row6 col11\" >-0.031</td>\n",
       "                        <td id=\"T_529a5_row6_col12\" class=\"data row6 col12\" >0.021</td>\n",
       "                        <td id=\"T_529a5_row6_col13\" class=\"data row6 col13\" >-0.059</td>\n",
       "                        <td id=\"T_529a5_row6_col14\" class=\"data row6 col14\" >-0.015</td>\n",
       "                        <td id=\"T_529a5_row6_col15\" class=\"data row6 col15\" >0.0087</td>\n",
       "                        <td id=\"T_529a5_row6_col16\" class=\"data row6 col16\" >-0.01</td>\n",
       "                        <td id=\"T_529a5_row6_col17\" class=\"data row6 col17\" >0.2</td>\n",
       "            </tr>\n",
       "            <tr>\n",
       "                        <th id=\"T_529a5_level0_row7\" class=\"row_heading level0 row7\" >DHI</th>\n",
       "                        <td id=\"T_529a5_row7_col0\" class=\"data row7 col0\" >0.044</td>\n",
       "                        <td id=\"T_529a5_row7_col1\" class=\"data row7 col1\" >0.048</td>\n",
       "                        <td id=\"T_529a5_row7_col2\" class=\"data row7 col2\" >-0.031</td>\n",
       "                        <td id=\"T_529a5_row7_col3\" class=\"data row7 col3\" >0.4</td>\n",
       "                        <td id=\"T_529a5_row7_col4\" class=\"data row7 col4\" >0.14</td>\n",
       "                        <td id=\"T_529a5_row7_col5\" class=\"data row7 col5\" >0.2</td>\n",
       "                        <td id=\"T_529a5_row7_col6\" class=\"data row7 col6\" >-0.25</td>\n",
       "                        <td id=\"T_529a5_row7_col7\" class=\"data row7 col7\" >1.0</td>\n",
       "                        <td id=\"T_529a5_row7_col8\" class=\"data row7 col8\" >-0.042</td>\n",
       "                        <td id=\"T_529a5_row7_col9\" class=\"data row7 col9\" >-0.008</td>\n",
       "                        <td id=\"T_529a5_row7_col10\" class=\"data row7 col10\" >0.064</td>\n",
       "                        <td id=\"T_529a5_row7_col11\" class=\"data row7 col11\" >0.094</td>\n",
       "                        <td id=\"T_529a5_row7_col12\" class=\"data row7 col12\" >0.083</td>\n",
       "                        <td id=\"T_529a5_row7_col13\" class=\"data row7 col13\" >-0.066</td>\n",
       "                        <td id=\"T_529a5_row7_col14\" class=\"data row7 col14\" >-0.036</td>\n",
       "                        <td id=\"T_529a5_row7_col15\" class=\"data row7 col15\" >-0.0093</td>\n",
       "                        <td id=\"T_529a5_row7_col16\" class=\"data row7 col16\" >-0.027</td>\n",
       "                        <td id=\"T_529a5_row7_col17\" class=\"data row7 col17\" >0.033</td>\n",
       "            </tr>\n",
       "            <tr>\n",
       "                        <th id=\"T_529a5_level0_row8\" class=\"row_heading level0 row8\" >horizon_S</th>\n",
       "                        <td id=\"T_529a5_row8_col0\" class=\"data row8 col0\" >0.11</td>\n",
       "                        <td id=\"T_529a5_row8_col1\" class=\"data row8 col1\" >-0.0016</td>\n",
       "                        <td id=\"T_529a5_row8_col2\" class=\"data row8 col2\" >-0.021</td>\n",
       "                        <td id=\"T_529a5_row8_col3\" class=\"data row8 col3\" >-0.11</td>\n",
       "                        <td id=\"T_529a5_row8_col4\" class=\"data row8 col4\" >0.066</td>\n",
       "                        <td id=\"T_529a5_row8_col5\" class=\"data row8 col5\" >-0.11</td>\n",
       "                        <td id=\"T_529a5_row8_col6\" class=\"data row8 col6\" >-0.087</td>\n",
       "                        <td id=\"T_529a5_row8_col7\" class=\"data row8 col7\" >-0.042</td>\n",
       "                        <td id=\"T_529a5_row8_col8\" class=\"data row8 col8\" >1.0</td>\n",
       "                        <td id=\"T_529a5_row8_col9\" class=\"data row8 col9\" >0.71</td>\n",
       "                        <td id=\"T_529a5_row8_col10\" class=\"data row8 col10\" >0.3</td>\n",
       "                        <td id=\"T_529a5_row8_col11\" class=\"data row8 col11\" >0.17</td>\n",
       "                        <td id=\"T_529a5_row8_col12\" class=\"data row8 col12\" >-0.073</td>\n",
       "                        <td id=\"T_529a5_row8_col13\" class=\"data row8 col13\" >0.9</td>\n",
       "                        <td id=\"T_529a5_row8_col14\" class=\"data row8 col14\" >0.55</td>\n",
       "                        <td id=\"T_529a5_row8_col15\" class=\"data row8 col15\" >0.2</td>\n",
       "                        <td id=\"T_529a5_row8_col16\" class=\"data row8 col16\" >0.14</td>\n",
       "                        <td id=\"T_529a5_row8_col17\" class=\"data row8 col17\" >-0.58</td>\n",
       "            </tr>\n",
       "            <tr>\n",
       "                        <th id=\"T_529a5_level0_row9\" class=\"row_heading level0 row9\" >horizon_SSW</th>\n",
       "                        <td id=\"T_529a5_row9_col0\" class=\"data row9 col0\" >0.061</td>\n",
       "                        <td id=\"T_529a5_row9_col1\" class=\"data row9 col1\" >-0.22</td>\n",
       "                        <td id=\"T_529a5_row9_col2\" class=\"data row9 col2\" >-0.023</td>\n",
       "                        <td id=\"T_529a5_row9_col3\" class=\"data row9 col3\" >-0.028</td>\n",
       "                        <td id=\"T_529a5_row9_col4\" class=\"data row9 col4\" >0.051</td>\n",
       "                        <td id=\"T_529a5_row9_col5\" class=\"data row9 col5\" >-0.072</td>\n",
       "                        <td id=\"T_529a5_row9_col6\" class=\"data row9 col6\" >-0.068</td>\n",
       "                        <td id=\"T_529a5_row9_col7\" class=\"data row9 col7\" >-0.008</td>\n",
       "                        <td id=\"T_529a5_row9_col8\" class=\"data row9 col8\" >0.71</td>\n",
       "                        <td id=\"T_529a5_row9_col9\" class=\"data row9 col9\" >1.0</td>\n",
       "                        <td id=\"T_529a5_row9_col10\" class=\"data row9 col10\" >0.7</td>\n",
       "                        <td id=\"T_529a5_row9_col11\" class=\"data row9 col11\" >0.53</td>\n",
       "                        <td id=\"T_529a5_row9_col12\" class=\"data row9 col12\" >0.17</td>\n",
       "                        <td id=\"T_529a5_row9_col13\" class=\"data row9 col13\" >0.57</td>\n",
       "                        <td id=\"T_529a5_row9_col14\" class=\"data row9 col14\" >0.17</td>\n",
       "                        <td id=\"T_529a5_row9_col15\" class=\"data row9 col15\" >-0.086</td>\n",
       "                        <td id=\"T_529a5_row9_col16\" class=\"data row9 col16\" >-0.096</td>\n",
       "                        <td id=\"T_529a5_row9_col17\" class=\"data row9 col17\" >-0.48</td>\n",
       "            </tr>\n",
       "            <tr>\n",
       "                        <th id=\"T_529a5_level0_row10\" class=\"row_heading level0 row10\" >horizon_SWW</th>\n",
       "                        <td id=\"T_529a5_row10_col0\" class=\"data row10 col0\" >-0.0059</td>\n",
       "                        <td id=\"T_529a5_row10_col1\" class=\"data row10 col1\" >-0.29</td>\n",
       "                        <td id=\"T_529a5_row10_col2\" class=\"data row10 col2\" >-0.043</td>\n",
       "                        <td id=\"T_529a5_row10_col3\" class=\"data row10 col3\" >0.02</td>\n",
       "                        <td id=\"T_529a5_row10_col4\" class=\"data row10 col4\" >0.0053</td>\n",
       "                        <td id=\"T_529a5_row10_col5\" class=\"data row10 col5\" >0.005</td>\n",
       "                        <td id=\"T_529a5_row10_col6\" class=\"data row10 col6\" >-0.023</td>\n",
       "                        <td id=\"T_529a5_row10_col7\" class=\"data row10 col7\" >0.064</td>\n",
       "                        <td id=\"T_529a5_row10_col8\" class=\"data row10 col8\" >0.3</td>\n",
       "                        <td id=\"T_529a5_row10_col9\" class=\"data row10 col9\" >0.7</td>\n",
       "                        <td id=\"T_529a5_row10_col10\" class=\"data row10 col10\" >1.0</td>\n",
       "                        <td id=\"T_529a5_row10_col11\" class=\"data row10 col11\" >0.87</td>\n",
       "                        <td id=\"T_529a5_row10_col12\" class=\"data row10 col12\" >0.56</td>\n",
       "                        <td id=\"T_529a5_row10_col13\" class=\"data row10 col13\" >0.18</td>\n",
       "                        <td id=\"T_529a5_row10_col14\" class=\"data row10 col14\" >-0.11</td>\n",
       "                        <td id=\"T_529a5_row10_col15\" class=\"data row10 col15\" >-0.24</td>\n",
       "                        <td id=\"T_529a5_row10_col16\" class=\"data row10 col16\" >-0.22</td>\n",
       "                        <td id=\"T_529a5_row10_col17\" class=\"data row10 col17\" >-0.25</td>\n",
       "            </tr>\n",
       "            <tr>\n",
       "                        <th id=\"T_529a5_level0_row11\" class=\"row_heading level0 row11\" >horizon_W</th>\n",
       "                        <td id=\"T_529a5_row11_col0\" class=\"data row11 col0\" >-0.036</td>\n",
       "                        <td id=\"T_529a5_row11_col1\" class=\"data row11 col1\" >-0.26</td>\n",
       "                        <td id=\"T_529a5_row11_col2\" class=\"data row11 col2\" >-0.039</td>\n",
       "                        <td id=\"T_529a5_row11_col3\" class=\"data row11 col3\" >0.0083</td>\n",
       "                        <td id=\"T_529a5_row11_col4\" class=\"data row11 col4\" >-0.0051</td>\n",
       "                        <td id=\"T_529a5_row11_col5\" class=\"data row11 col5\" >0.011</td>\n",
       "                        <td id=\"T_529a5_row11_col6\" class=\"data row11 col6\" >-0.031</td>\n",
       "                        <td id=\"T_529a5_row11_col7\" class=\"data row11 col7\" >0.094</td>\n",
       "                        <td id=\"T_529a5_row11_col8\" class=\"data row11 col8\" >0.17</td>\n",
       "                        <td id=\"T_529a5_row11_col9\" class=\"data row11 col9\" >0.53</td>\n",
       "                        <td id=\"T_529a5_row11_col10\" class=\"data row11 col10\" >0.87</td>\n",
       "                        <td id=\"T_529a5_row11_col11\" class=\"data row11 col11\" >1.0</td>\n",
       "                        <td id=\"T_529a5_row11_col12\" class=\"data row11 col12\" >0.71</td>\n",
       "                        <td id=\"T_529a5_row11_col13\" class=\"data row11 col13\" >0.073</td>\n",
       "                        <td id=\"T_529a5_row11_col14\" class=\"data row11 col14\" >-0.16</td>\n",
       "                        <td id=\"T_529a5_row11_col15\" class=\"data row11 col15\" >-0.24</td>\n",
       "                        <td id=\"T_529a5_row11_col16\" class=\"data row11 col16\" >-0.21</td>\n",
       "                        <td id=\"T_529a5_row11_col17\" class=\"data row11 col17\" >-0.19</td>\n",
       "            </tr>\n",
       "            <tr>\n",
       "                        <th id=\"T_529a5_level0_row12\" class=\"row_heading level0 row12\" >horizon_NWW</th>\n",
       "                        <td id=\"T_529a5_row12_col0\" class=\"data row12 col0\" >-0.097</td>\n",
       "                        <td id=\"T_529a5_row12_col1\" class=\"data row12 col1\" >-0.13</td>\n",
       "                        <td id=\"T_529a5_row12_col2\" class=\"data row12 col2\" >-0.034</td>\n",
       "                        <td id=\"T_529a5_row12_col3\" class=\"data row12 col3\" >0.02</td>\n",
       "                        <td id=\"T_529a5_row12_col4\" class=\"data row12 col4\" >-0.05</td>\n",
       "                        <td id=\"T_529a5_row12_col5\" class=\"data row12 col5\" >0.059</td>\n",
       "                        <td id=\"T_529a5_row12_col6\" class=\"data row12 col6\" >0.021</td>\n",
       "                        <td id=\"T_529a5_row12_col7\" class=\"data row12 col7\" >0.083</td>\n",
       "                        <td id=\"T_529a5_row12_col8\" class=\"data row12 col8\" >-0.073</td>\n",
       "                        <td id=\"T_529a5_row12_col9\" class=\"data row12 col9\" >0.17</td>\n",
       "                        <td id=\"T_529a5_row12_col10\" class=\"data row12 col10\" >0.56</td>\n",
       "                        <td id=\"T_529a5_row12_col11\" class=\"data row12 col11\" >0.71</td>\n",
       "                        <td id=\"T_529a5_row12_col12\" class=\"data row12 col12\" >1.0</td>\n",
       "                        <td id=\"T_529a5_row12_col13\" class=\"data row12 col13\" >-0.14</td>\n",
       "                        <td id=\"T_529a5_row12_col14\" class=\"data row12 col14\" >-0.2</td>\n",
       "                        <td id=\"T_529a5_row12_col15\" class=\"data row12 col15\" >-0.15</td>\n",
       "                        <td id=\"T_529a5_row12_col16\" class=\"data row12 col16\" >-0.081</td>\n",
       "                        <td id=\"T_529a5_row12_col17\" class=\"data row12 col17\" >-0.014</td>\n",
       "            </tr>\n",
       "            <tr>\n",
       "                        <th id=\"T_529a5_level0_row13\" class=\"row_heading level0 row13\" >horizon_SSE</th>\n",
       "                        <td id=\"T_529a5_row13_col0\" class=\"data row13 col0\" >0.1</td>\n",
       "                        <td id=\"T_529a5_row13_col1\" class=\"data row13 col1\" >0.052</td>\n",
       "                        <td id=\"T_529a5_row13_col2\" class=\"data row13 col2\" >-0.01</td>\n",
       "                        <td id=\"T_529a5_row13_col3\" class=\"data row13 col3\" >-0.13</td>\n",
       "                        <td id=\"T_529a5_row13_col4\" class=\"data row13 col4\" >0.038</td>\n",
       "                        <td id=\"T_529a5_row13_col5\" class=\"data row13 col5\" >-0.089</td>\n",
       "                        <td id=\"T_529a5_row13_col6\" class=\"data row13 col6\" >-0.059</td>\n",
       "                        <td id=\"T_529a5_row13_col7\" class=\"data row13 col7\" >-0.066</td>\n",
       "                        <td id=\"T_529a5_row13_col8\" class=\"data row13 col8\" >0.9</td>\n",
       "                        <td id=\"T_529a5_row13_col9\" class=\"data row13 col9\" >0.57</td>\n",
       "                        <td id=\"T_529a5_row13_col10\" class=\"data row13 col10\" >0.18</td>\n",
       "                        <td id=\"T_529a5_row13_col11\" class=\"data row13 col11\" >0.073</td>\n",
       "                        <td id=\"T_529a5_row13_col12\" class=\"data row13 col12\" >-0.14</td>\n",
       "                        <td id=\"T_529a5_row13_col13\" class=\"data row13 col13\" >1.0</td>\n",
       "                        <td id=\"T_529a5_row13_col14\" class=\"data row13 col14\" >0.7</td>\n",
       "                        <td id=\"T_529a5_row13_col15\" class=\"data row13 col15\" >0.31</td>\n",
       "                        <td id=\"T_529a5_row13_col16\" class=\"data row13 col16\" >0.23</td>\n",
       "                        <td id=\"T_529a5_row13_col17\" class=\"data row13 col17\" >-0.56</td>\n",
       "            </tr>\n",
       "            <tr>\n",
       "                        <th id=\"T_529a5_level0_row14\" class=\"row_heading level0 row14\" >horizon_SEE</th>\n",
       "                        <td id=\"T_529a5_row14_col0\" class=\"data row14 col0\" >0.031</td>\n",
       "                        <td id=\"T_529a5_row14_col1\" class=\"data row14 col1\" >0.31</td>\n",
       "                        <td id=\"T_529a5_row14_col2\" class=\"data row14 col2\" >0.01</td>\n",
       "                        <td id=\"T_529a5_row14_col3\" class=\"data row14 col3\" >-0.11</td>\n",
       "                        <td id=\"T_529a5_row14_col4\" class=\"data row14 col4\" >-0.012</td>\n",
       "                        <td id=\"T_529a5_row14_col5\" class=\"data row14 col5\" >-0.032</td>\n",
       "                        <td id=\"T_529a5_row14_col6\" class=\"data row14 col6\" >-0.015</td>\n",
       "                        <td id=\"T_529a5_row14_col7\" class=\"data row14 col7\" >-0.036</td>\n",
       "                        <td id=\"T_529a5_row14_col8\" class=\"data row14 col8\" >0.55</td>\n",
       "                        <td id=\"T_529a5_row14_col9\" class=\"data row14 col9\" >0.17</td>\n",
       "                        <td id=\"T_529a5_row14_col10\" class=\"data row14 col10\" >-0.11</td>\n",
       "                        <td id=\"T_529a5_row14_col11\" class=\"data row14 col11\" >-0.16</td>\n",
       "                        <td id=\"T_529a5_row14_col12\" class=\"data row14 col12\" >-0.2</td>\n",
       "                        <td id=\"T_529a5_row14_col13\" class=\"data row14 col13\" >0.7</td>\n",
       "                        <td id=\"T_529a5_row14_col14\" class=\"data row14 col14\" >1.0</td>\n",
       "                        <td id=\"T_529a5_row14_col15\" class=\"data row14 col15\" >0.74</td>\n",
       "                        <td id=\"T_529a5_row14_col16\" class=\"data row14 col16\" >0.62</td>\n",
       "                        <td id=\"T_529a5_row14_col17\" class=\"data row14 col17\" >-0.39</td>\n",
       "            </tr>\n",
       "            <tr>\n",
       "                        <th id=\"T_529a5_level0_row15\" class=\"row_heading level0 row15\" >horizon_E</th>\n",
       "                        <td id=\"T_529a5_row15_col0\" class=\"data row15 col0\" >0.047</td>\n",
       "                        <td id=\"T_529a5_row15_col1\" class=\"data row15 col1\" >0.37</td>\n",
       "                        <td id=\"T_529a5_row15_col2\" class=\"data row15 col2\" >-0.0064</td>\n",
       "                        <td id=\"T_529a5_row15_col3\" class=\"data row15 col3\" >-0.11</td>\n",
       "                        <td id=\"T_529a5_row15_col4\" class=\"data row15 col4\" >-0.043</td>\n",
       "                        <td id=\"T_529a5_row15_col5\" class=\"data row15 col5\" >0.0046</td>\n",
       "                        <td id=\"T_529a5_row15_col6\" class=\"data row15 col6\" >0.0087</td>\n",
       "                        <td id=\"T_529a5_row15_col7\" class=\"data row15 col7\" >-0.0093</td>\n",
       "                        <td id=\"T_529a5_row15_col8\" class=\"data row15 col8\" >0.2</td>\n",
       "                        <td id=\"T_529a5_row15_col9\" class=\"data row15 col9\" >-0.086</td>\n",
       "                        <td id=\"T_529a5_row15_col10\" class=\"data row15 col10\" >-0.24</td>\n",
       "                        <td id=\"T_529a5_row15_col11\" class=\"data row15 col11\" >-0.24</td>\n",
       "                        <td id=\"T_529a5_row15_col12\" class=\"data row15 col12\" >-0.15</td>\n",
       "                        <td id=\"T_529a5_row15_col13\" class=\"data row15 col13\" >0.31</td>\n",
       "                        <td id=\"T_529a5_row15_col14\" class=\"data row15 col14\" >0.74</td>\n",
       "                        <td id=\"T_529a5_row15_col15\" class=\"data row15 col15\" >1.0</td>\n",
       "                        <td id=\"T_529a5_row15_col16\" class=\"data row15 col16\" >0.89</td>\n",
       "                        <td id=\"T_529a5_row15_col17\" class=\"data row15 col17\" >-0.13</td>\n",
       "            </tr>\n",
       "            <tr>\n",
       "                        <th id=\"T_529a5_level0_row16\" class=\"row_heading level0 row16\" >horizon_NEE</th>\n",
       "                        <td id=\"T_529a5_row16_col0\" class=\"data row16 col0\" >0.031</td>\n",
       "                        <td id=\"T_529a5_row16_col1\" class=\"data row16 col1\" >0.35</td>\n",
       "                        <td id=\"T_529a5_row16_col2\" class=\"data row16 col2\" >-0.017</td>\n",
       "                        <td id=\"T_529a5_row16_col3\" class=\"data row16 col3\" >-0.12</td>\n",
       "                        <td id=\"T_529a5_row16_col4\" class=\"data row16 col4\" >-0.022</td>\n",
       "                        <td id=\"T_529a5_row16_col5\" class=\"data row16 col5\" >-0.023</td>\n",
       "                        <td id=\"T_529a5_row16_col6\" class=\"data row16 col6\" >-0.01</td>\n",
       "                        <td id=\"T_529a5_row16_col7\" class=\"data row16 col7\" >-0.027</td>\n",
       "                        <td id=\"T_529a5_row16_col8\" class=\"data row16 col8\" >0.14</td>\n",
       "                        <td id=\"T_529a5_row16_col9\" class=\"data row16 col9\" >-0.096</td>\n",
       "                        <td id=\"T_529a5_row16_col10\" class=\"data row16 col10\" >-0.22</td>\n",
       "                        <td id=\"T_529a5_row16_col11\" class=\"data row16 col11\" >-0.21</td>\n",
       "                        <td id=\"T_529a5_row16_col12\" class=\"data row16 col12\" >-0.081</td>\n",
       "                        <td id=\"T_529a5_row16_col13\" class=\"data row16 col13\" >0.23</td>\n",
       "                        <td id=\"T_529a5_row16_col14\" class=\"data row16 col14\" >0.62</td>\n",
       "                        <td id=\"T_529a5_row16_col15\" class=\"data row16 col15\" >0.89</td>\n",
       "                        <td id=\"T_529a5_row16_col16\" class=\"data row16 col16\" >1.0</td>\n",
       "                        <td id=\"T_529a5_row16_col17\" class=\"data row16 col17\" >-0.089</td>\n",
       "            </tr>\n",
       "            <tr>\n",
       "                        <th id=\"T_529a5_level0_row17\" class=\"row_heading level0 row17\" >tilted_radiation</th>\n",
       "                        <td id=\"T_529a5_row17_col0\" class=\"data row17 col0\" >-0.17</td>\n",
       "                        <td id=\"T_529a5_row17_col1\" class=\"data row17 col1\" >-0.036</td>\n",
       "                        <td id=\"T_529a5_row17_col2\" class=\"data row17 col2\" >0.028</td>\n",
       "                        <td id=\"T_529a5_row17_col3\" class=\"data row17 col3\" >0.0088</td>\n",
       "                        <td id=\"T_529a5_row17_col4\" class=\"data row17 col4\" >-0.14</td>\n",
       "                        <td id=\"T_529a5_row17_col5\" class=\"data row17 col5\" >0.22</td>\n",
       "                        <td id=\"T_529a5_row17_col6\" class=\"data row17 col6\" >0.2</td>\n",
       "                        <td id=\"T_529a5_row17_col7\" class=\"data row17 col7\" >0.033</td>\n",
       "                        <td id=\"T_529a5_row17_col8\" class=\"data row17 col8\" >-0.58</td>\n",
       "                        <td id=\"T_529a5_row17_col9\" class=\"data row17 col9\" >-0.48</td>\n",
       "                        <td id=\"T_529a5_row17_col10\" class=\"data row17 col10\" >-0.25</td>\n",
       "                        <td id=\"T_529a5_row17_col11\" class=\"data row17 col11\" >-0.19</td>\n",
       "                        <td id=\"T_529a5_row17_col12\" class=\"data row17 col12\" >-0.014</td>\n",
       "                        <td id=\"T_529a5_row17_col13\" class=\"data row17 col13\" >-0.56</td>\n",
       "                        <td id=\"T_529a5_row17_col14\" class=\"data row17 col14\" >-0.39</td>\n",
       "                        <td id=\"T_529a5_row17_col15\" class=\"data row17 col15\" >-0.13</td>\n",
       "                        <td id=\"T_529a5_row17_col16\" class=\"data row17 col16\" >-0.089</td>\n",
       "                        <td id=\"T_529a5_row17_col17\" class=\"data row17 col17\" >1.0</td>\n",
       "            </tr>\n",
       "    </tbody></table>"
      ],
      "text/plain": [
       "<pandas.io.formats.style.Styler at 0x187cb889880>"
      ]
     },
     "execution_count": 3,
     "metadata": {},
     "output_type": "execute_result"
    }
   ],
   "source": [
    "# Compute the correlation between variables\n",
    "correlation_matrix = data.corr()\n",
    "correlation_matrix.style.background_gradient(cmap='coolwarm', vmin = -1, vmax = 1).format(\"{:.2}\") # Formatting"
   ]
  },
  {
   "cell_type": "markdown",
   "metadata": {},
   "source": [
    "## *Questions*\n",
    "- a. The corrlation matrix shows a strong negative correlation between the y-coordinate of the roof (roof_y) and SIS/SISDIR. Can you explain why? Why do we see no such correlation for roof_x?\n",
    "- b. The correlation matrix also shows two correlated \"blocks\" of the horizon values. What causes these blocks and what does that imply for the model?\n",
    "- c. Which are the five variables with the strongest correlation to the target variable? Which are the five variables with the smallest correlation?"
   ]
  },
  {
   "cell_type": "markdown",
   "metadata": {},
   "source": [
    "### *SOLUTION*\n",
    "- a. The strong correlation is due to the fact that the y-coordinate represents the northern *latitude*, which determines the maximum solar angle and the total daylight hours; this influences the global and direct horizontal radiation - the further north we are, the lower the horizontal radiation. The roof_x is the *longitude*, which impacts the annual radiation to a much lesser extent.\n",
    "- b. The two \"blocks\" are formed around the east and west horizon values, i.e. the horizon values for eastern azimuths are strongly positively correlated, and are slightly negatively correlated to the horizon values for western azimuths. The strong positive correlation suggests that we don't need *all* the horizon values, but a subset would suffice.\n",
    "- c. The strongest correlation with the target is observed for the horizon values for **S, SSE, SSW, SEE and SWW**. The smallest correlation is seen for **roof_x, horizon_NWW, roof_area, DHI and roof_aspect**.<br>**NOTE**: Just because the 5 horizons have the highest correlation, it does not mean that these are the best features to select!"
   ]
  },
  {
   "cell_type": "markdown",
   "metadata": {},
   "source": [
    "## Step 1.3 - Visualising features vs. targets "
   ]
  },
  {
   "cell_type": "markdown",
   "metadata": {},
   "source": [
    "To start, we set up the matplotlib interactive plotting:"
   ]
  },
  {
   "cell_type": "code",
   "execution_count": 4,
   "metadata": {},
   "outputs": [],
   "source": [
    "%matplotlib notebook\n",
    "import matplotlib.pyplot as plt"
   ]
  },
  {
   "cell_type": "markdown",
   "metadata": {},
   "source": [
    "and define the list of features and the target, to know what to plot against each other:"
   ]
  },
  {
   "cell_type": "code",
   "execution_count": 5,
   "metadata": {},
   "outputs": [],
   "source": [
    "target_name   = 'tilted_radiation'\n",
    "features_list = [ 'roof_tilt', 'roof_aspect', 'roof_area', 'roof_x', 'roof_y', 'SIS',\n",
    "                  'SISDIR', 'DHI', 'horizon_S', 'horizon_SSW', 'horizon_SWW', 'horizon_W',\n",
    "                  'horizon_NWW', 'horizon_SSE', 'horizon_SEE', 'horizon_E', 'horizon_NEE',]"
   ]
  },
  {
   "cell_type": "markdown",
   "metadata": {},
   "source": [
    "Now, we can create scatterplots of all features against the target:"
   ]
  },
  {
   "cell_type": "code",
   "execution_count": 6,
   "metadata": {
    "scrolled": false
   },
   "outputs": [
    {
     "data": {
      "application/javascript": "/* Put everything inside the global mpl namespace */\n/* global mpl */\nwindow.mpl = {};\n\nmpl.get_websocket_type = function () {\n    if (typeof WebSocket !== 'undefined') {\n        return WebSocket;\n    } else if (typeof MozWebSocket !== 'undefined') {\n        return MozWebSocket;\n    } else {\n        alert(\n            'Your browser does not have WebSocket support. ' +\n                'Please try Chrome, Safari or Firefox ≥ 6. ' +\n                'Firefox 4 and 5 are also supported but you ' +\n                'have to enable WebSockets in about:config.'\n        );\n    }\n};\n\nmpl.figure = function (figure_id, websocket, ondownload, parent_element) {\n    this.id = figure_id;\n\n    this.ws = websocket;\n\n    this.supports_binary = this.ws.binaryType !== undefined;\n\n    if (!this.supports_binary) {\n        var warnings = document.getElementById('mpl-warnings');\n        if (warnings) {\n            warnings.style.display = 'block';\n            warnings.textContent =\n                'This browser does not support binary websocket messages. ' +\n                'Performance may be slow.';\n        }\n    }\n\n    this.imageObj = new Image();\n\n    this.context = undefined;\n    this.message = undefined;\n    this.canvas = undefined;\n    this.rubberband_canvas = undefined;\n    this.rubberband_context = undefined;\n    this.format_dropdown = undefined;\n\n    this.image_mode = 'full';\n\n    this.root = document.createElement('div');\n    this.root.setAttribute('style', 'display: inline-block');\n    this._root_extra_style(this.root);\n\n    parent_element.appendChild(this.root);\n\n    this._init_header(this);\n    this._init_canvas(this);\n    this._init_toolbar(this);\n\n    var fig = this;\n\n    this.waiting = false;\n\n    this.ws.onopen = function () {\n        fig.send_message('supports_binary', { value: fig.supports_binary });\n        fig.send_message('send_image_mode', {});\n        if (fig.ratio !== 1) {\n            fig.send_message('set_dpi_ratio', { dpi_ratio: fig.ratio });\n        }\n        fig.send_message('refresh', {});\n    };\n\n    this.imageObj.onload = function () {\n        if (fig.image_mode === 'full') {\n            // Full images could contain transparency (where diff images\n            // almost always do), so we need to clear the canvas so that\n            // there is no ghosting.\n            fig.context.clearRect(0, 0, fig.canvas.width, fig.canvas.height);\n        }\n        fig.context.drawImage(fig.imageObj, 0, 0);\n    };\n\n    this.imageObj.onunload = function () {\n        fig.ws.close();\n    };\n\n    this.ws.onmessage = this._make_on_message_function(this);\n\n    this.ondownload = ondownload;\n};\n\nmpl.figure.prototype._init_header = function () {\n    var titlebar = document.createElement('div');\n    titlebar.classList =\n        'ui-dialog-titlebar ui-widget-header ui-corner-all ui-helper-clearfix';\n    var titletext = document.createElement('div');\n    titletext.classList = 'ui-dialog-title';\n    titletext.setAttribute(\n        'style',\n        'width: 100%; text-align: center; padding: 3px;'\n    );\n    titlebar.appendChild(titletext);\n    this.root.appendChild(titlebar);\n    this.header = titletext;\n};\n\nmpl.figure.prototype._canvas_extra_style = function (_canvas_div) {};\n\nmpl.figure.prototype._root_extra_style = function (_canvas_div) {};\n\nmpl.figure.prototype._init_canvas = function () {\n    var fig = this;\n\n    var canvas_div = (this.canvas_div = document.createElement('div'));\n    canvas_div.setAttribute(\n        'style',\n        'border: 1px solid #ddd;' +\n            'box-sizing: content-box;' +\n            'clear: both;' +\n            'min-height: 1px;' +\n            'min-width: 1px;' +\n            'outline: 0;' +\n            'overflow: hidden;' +\n            'position: relative;' +\n            'resize: both;'\n    );\n\n    function on_keyboard_event_closure(name) {\n        return function (event) {\n            return fig.key_event(event, name);\n        };\n    }\n\n    canvas_div.addEventListener(\n        'keydown',\n        on_keyboard_event_closure('key_press')\n    );\n    canvas_div.addEventListener(\n        'keyup',\n        on_keyboard_event_closure('key_release')\n    );\n\n    this._canvas_extra_style(canvas_div);\n    this.root.appendChild(canvas_div);\n\n    var canvas = (this.canvas = document.createElement('canvas'));\n    canvas.classList.add('mpl-canvas');\n    canvas.setAttribute('style', 'box-sizing: content-box;');\n\n    this.context = canvas.getContext('2d');\n\n    var backingStore =\n        this.context.backingStorePixelRatio ||\n        this.context.webkitBackingStorePixelRatio ||\n        this.context.mozBackingStorePixelRatio ||\n        this.context.msBackingStorePixelRatio ||\n        this.context.oBackingStorePixelRatio ||\n        this.context.backingStorePixelRatio ||\n        1;\n\n    this.ratio = (window.devicePixelRatio || 1) / backingStore;\n\n    var rubberband_canvas = (this.rubberband_canvas = document.createElement(\n        'canvas'\n    ));\n    rubberband_canvas.setAttribute(\n        'style',\n        'box-sizing: content-box; position: absolute; left: 0; top: 0; z-index: 1;'\n    );\n\n    // Apply a ponyfill if ResizeObserver is not implemented by browser.\n    if (this.ResizeObserver === undefined) {\n        if (window.ResizeObserver !== undefined) {\n            this.ResizeObserver = window.ResizeObserver;\n        } else {\n            var obs = _JSXTOOLS_RESIZE_OBSERVER({});\n            this.ResizeObserver = obs.ResizeObserver;\n        }\n    }\n\n    this.resizeObserverInstance = new this.ResizeObserver(function (entries) {\n        var nentries = entries.length;\n        for (var i = 0; i < nentries; i++) {\n            var entry = entries[i];\n            var width, height;\n            if (entry.contentBoxSize) {\n                if (entry.contentBoxSize instanceof Array) {\n                    // Chrome 84 implements new version of spec.\n                    width = entry.contentBoxSize[0].inlineSize;\n                    height = entry.contentBoxSize[0].blockSize;\n                } else {\n                    // Firefox implements old version of spec.\n                    width = entry.contentBoxSize.inlineSize;\n                    height = entry.contentBoxSize.blockSize;\n                }\n            } else {\n                // Chrome <84 implements even older version of spec.\n                width = entry.contentRect.width;\n                height = entry.contentRect.height;\n            }\n\n            // Keep the size of the canvas and rubber band canvas in sync with\n            // the canvas container.\n            if (entry.devicePixelContentBoxSize) {\n                // Chrome 84 implements new version of spec.\n                canvas.setAttribute(\n                    'width',\n                    entry.devicePixelContentBoxSize[0].inlineSize\n                );\n                canvas.setAttribute(\n                    'height',\n                    entry.devicePixelContentBoxSize[0].blockSize\n                );\n            } else {\n                canvas.setAttribute('width', width * fig.ratio);\n                canvas.setAttribute('height', height * fig.ratio);\n            }\n            canvas.setAttribute(\n                'style',\n                'width: ' + width + 'px; height: ' + height + 'px;'\n            );\n\n            rubberband_canvas.setAttribute('width', width);\n            rubberband_canvas.setAttribute('height', height);\n\n            // And update the size in Python. We ignore the initial 0/0 size\n            // that occurs as the element is placed into the DOM, which should\n            // otherwise not happen due to the minimum size styling.\n            if (fig.ws.readyState == 1 && width != 0 && height != 0) {\n                fig.request_resize(width, height);\n            }\n        }\n    });\n    this.resizeObserverInstance.observe(canvas_div);\n\n    function on_mouse_event_closure(name) {\n        return function (event) {\n            return fig.mouse_event(event, name);\n        };\n    }\n\n    rubberband_canvas.addEventListener(\n        'mousedown',\n        on_mouse_event_closure('button_press')\n    );\n    rubberband_canvas.addEventListener(\n        'mouseup',\n        on_mouse_event_closure('button_release')\n    );\n    // Throttle sequential mouse events to 1 every 20ms.\n    rubberband_canvas.addEventListener(\n        'mousemove',\n        on_mouse_event_closure('motion_notify')\n    );\n\n    rubberband_canvas.addEventListener(\n        'mouseenter',\n        on_mouse_event_closure('figure_enter')\n    );\n    rubberband_canvas.addEventListener(\n        'mouseleave',\n        on_mouse_event_closure('figure_leave')\n    );\n\n    canvas_div.addEventListener('wheel', function (event) {\n        if (event.deltaY < 0) {\n            event.step = 1;\n        } else {\n            event.step = -1;\n        }\n        on_mouse_event_closure('scroll')(event);\n    });\n\n    canvas_div.appendChild(canvas);\n    canvas_div.appendChild(rubberband_canvas);\n\n    this.rubberband_context = rubberband_canvas.getContext('2d');\n    this.rubberband_context.strokeStyle = '#000000';\n\n    this._resize_canvas = function (width, height, forward) {\n        if (forward) {\n            canvas_div.style.width = width + 'px';\n            canvas_div.style.height = height + 'px';\n        }\n    };\n\n    // Disable right mouse context menu.\n    this.rubberband_canvas.addEventListener('contextmenu', function (_e) {\n        event.preventDefault();\n        return false;\n    });\n\n    function set_focus() {\n        canvas.focus();\n        canvas_div.focus();\n    }\n\n    window.setTimeout(set_focus, 100);\n};\n\nmpl.figure.prototype._init_toolbar = function () {\n    var fig = this;\n\n    var toolbar = document.createElement('div');\n    toolbar.classList = 'mpl-toolbar';\n    this.root.appendChild(toolbar);\n\n    function on_click_closure(name) {\n        return function (_event) {\n            return fig.toolbar_button_onclick(name);\n        };\n    }\n\n    function on_mouseover_closure(tooltip) {\n        return function (event) {\n            if (!event.currentTarget.disabled) {\n                return fig.toolbar_button_onmouseover(tooltip);\n            }\n        };\n    }\n\n    fig.buttons = {};\n    var buttonGroup = document.createElement('div');\n    buttonGroup.classList = 'mpl-button-group';\n    for (var toolbar_ind in mpl.toolbar_items) {\n        var name = mpl.toolbar_items[toolbar_ind][0];\n        var tooltip = mpl.toolbar_items[toolbar_ind][1];\n        var image = mpl.toolbar_items[toolbar_ind][2];\n        var method_name = mpl.toolbar_items[toolbar_ind][3];\n\n        if (!name) {\n            /* Instead of a spacer, we start a new button group. */\n            if (buttonGroup.hasChildNodes()) {\n                toolbar.appendChild(buttonGroup);\n            }\n            buttonGroup = document.createElement('div');\n            buttonGroup.classList = 'mpl-button-group';\n            continue;\n        }\n\n        var button = (fig.buttons[name] = document.createElement('button'));\n        button.classList = 'mpl-widget';\n        button.setAttribute('role', 'button');\n        button.setAttribute('aria-disabled', 'false');\n        button.addEventListener('click', on_click_closure(method_name));\n        button.addEventListener('mouseover', on_mouseover_closure(tooltip));\n\n        var icon_img = document.createElement('img');\n        icon_img.src = '_images/' + image + '.png';\n        icon_img.srcset = '_images/' + image + '_large.png 2x';\n        icon_img.alt = tooltip;\n        button.appendChild(icon_img);\n\n        buttonGroup.appendChild(button);\n    }\n\n    if (buttonGroup.hasChildNodes()) {\n        toolbar.appendChild(buttonGroup);\n    }\n\n    var fmt_picker = document.createElement('select');\n    fmt_picker.classList = 'mpl-widget';\n    toolbar.appendChild(fmt_picker);\n    this.format_dropdown = fmt_picker;\n\n    for (var ind in mpl.extensions) {\n        var fmt = mpl.extensions[ind];\n        var option = document.createElement('option');\n        option.selected = fmt === mpl.default_extension;\n        option.innerHTML = fmt;\n        fmt_picker.appendChild(option);\n    }\n\n    var status_bar = document.createElement('span');\n    status_bar.classList = 'mpl-message';\n    toolbar.appendChild(status_bar);\n    this.message = status_bar;\n};\n\nmpl.figure.prototype.request_resize = function (x_pixels, y_pixels) {\n    // Request matplotlib to resize the figure. Matplotlib will then trigger a resize in the client,\n    // which will in turn request a refresh of the image.\n    this.send_message('resize', { width: x_pixels, height: y_pixels });\n};\n\nmpl.figure.prototype.send_message = function (type, properties) {\n    properties['type'] = type;\n    properties['figure_id'] = this.id;\n    this.ws.send(JSON.stringify(properties));\n};\n\nmpl.figure.prototype.send_draw_message = function () {\n    if (!this.waiting) {\n        this.waiting = true;\n        this.ws.send(JSON.stringify({ type: 'draw', figure_id: this.id }));\n    }\n};\n\nmpl.figure.prototype.handle_save = function (fig, _msg) {\n    var format_dropdown = fig.format_dropdown;\n    var format = format_dropdown.options[format_dropdown.selectedIndex].value;\n    fig.ondownload(fig, format);\n};\n\nmpl.figure.prototype.handle_resize = function (fig, msg) {\n    var size = msg['size'];\n    if (size[0] !== fig.canvas.width || size[1] !== fig.canvas.height) {\n        fig._resize_canvas(size[0], size[1], msg['forward']);\n        fig.send_message('refresh', {});\n    }\n};\n\nmpl.figure.prototype.handle_rubberband = function (fig, msg) {\n    var x0 = msg['x0'] / fig.ratio;\n    var y0 = (fig.canvas.height - msg['y0']) / fig.ratio;\n    var x1 = msg['x1'] / fig.ratio;\n    var y1 = (fig.canvas.height - msg['y1']) / fig.ratio;\n    x0 = Math.floor(x0) + 0.5;\n    y0 = Math.floor(y0) + 0.5;\n    x1 = Math.floor(x1) + 0.5;\n    y1 = Math.floor(y1) + 0.5;\n    var min_x = Math.min(x0, x1);\n    var min_y = Math.min(y0, y1);\n    var width = Math.abs(x1 - x0);\n    var height = Math.abs(y1 - y0);\n\n    fig.rubberband_context.clearRect(\n        0,\n        0,\n        fig.canvas.width / fig.ratio,\n        fig.canvas.height / fig.ratio\n    );\n\n    fig.rubberband_context.strokeRect(min_x, min_y, width, height);\n};\n\nmpl.figure.prototype.handle_figure_label = function (fig, msg) {\n    // Updates the figure title.\n    fig.header.textContent = msg['label'];\n};\n\nmpl.figure.prototype.handle_cursor = function (fig, msg) {\n    var cursor = msg['cursor'];\n    switch (cursor) {\n        case 0:\n            cursor = 'pointer';\n            break;\n        case 1:\n            cursor = 'default';\n            break;\n        case 2:\n            cursor = 'crosshair';\n            break;\n        case 3:\n            cursor = 'move';\n            break;\n    }\n    fig.rubberband_canvas.style.cursor = cursor;\n};\n\nmpl.figure.prototype.handle_message = function (fig, msg) {\n    fig.message.textContent = msg['message'];\n};\n\nmpl.figure.prototype.handle_draw = function (fig, _msg) {\n    // Request the server to send over a new figure.\n    fig.send_draw_message();\n};\n\nmpl.figure.prototype.handle_image_mode = function (fig, msg) {\n    fig.image_mode = msg['mode'];\n};\n\nmpl.figure.prototype.handle_history_buttons = function (fig, msg) {\n    for (var key in msg) {\n        if (!(key in fig.buttons)) {\n            continue;\n        }\n        fig.buttons[key].disabled = !msg[key];\n        fig.buttons[key].setAttribute('aria-disabled', !msg[key]);\n    }\n};\n\nmpl.figure.prototype.handle_navigate_mode = function (fig, msg) {\n    if (msg['mode'] === 'PAN') {\n        fig.buttons['Pan'].classList.add('active');\n        fig.buttons['Zoom'].classList.remove('active');\n    } else if (msg['mode'] === 'ZOOM') {\n        fig.buttons['Pan'].classList.remove('active');\n        fig.buttons['Zoom'].classList.add('active');\n    } else {\n        fig.buttons['Pan'].classList.remove('active');\n        fig.buttons['Zoom'].classList.remove('active');\n    }\n};\n\nmpl.figure.prototype.updated_canvas_event = function () {\n    // Called whenever the canvas gets updated.\n    this.send_message('ack', {});\n};\n\n// A function to construct a web socket function for onmessage handling.\n// Called in the figure constructor.\nmpl.figure.prototype._make_on_message_function = function (fig) {\n    return function socket_on_message(evt) {\n        if (evt.data instanceof Blob) {\n            /* FIXME: We get \"Resource interpreted as Image but\n             * transferred with MIME type text/plain:\" errors on\n             * Chrome.  But how to set the MIME type?  It doesn't seem\n             * to be part of the websocket stream */\n            evt.data.type = 'image/png';\n\n            /* Free the memory for the previous frames */\n            if (fig.imageObj.src) {\n                (window.URL || window.webkitURL).revokeObjectURL(\n                    fig.imageObj.src\n                );\n            }\n\n            fig.imageObj.src = (window.URL || window.webkitURL).createObjectURL(\n                evt.data\n            );\n            fig.updated_canvas_event();\n            fig.waiting = false;\n            return;\n        } else if (\n            typeof evt.data === 'string' &&\n            evt.data.slice(0, 21) === 'data:image/png;base64'\n        ) {\n            fig.imageObj.src = evt.data;\n            fig.updated_canvas_event();\n            fig.waiting = false;\n            return;\n        }\n\n        var msg = JSON.parse(evt.data);\n        var msg_type = msg['type'];\n\n        // Call the  \"handle_{type}\" callback, which takes\n        // the figure and JSON message as its only arguments.\n        try {\n            var callback = fig['handle_' + msg_type];\n        } catch (e) {\n            console.log(\n                \"No handler for the '\" + msg_type + \"' message type: \",\n                msg\n            );\n            return;\n        }\n\n        if (callback) {\n            try {\n                // console.log(\"Handling '\" + msg_type + \"' message: \", msg);\n                callback(fig, msg);\n            } catch (e) {\n                console.log(\n                    \"Exception inside the 'handler_\" + msg_type + \"' callback:\",\n                    e,\n                    e.stack,\n                    msg\n                );\n            }\n        }\n    };\n};\n\n// from http://stackoverflow.com/questions/1114465/getting-mouse-location-in-canvas\nmpl.findpos = function (e) {\n    //this section is from http://www.quirksmode.org/js/events_properties.html\n    var targ;\n    if (!e) {\n        e = window.event;\n    }\n    if (e.target) {\n        targ = e.target;\n    } else if (e.srcElement) {\n        targ = e.srcElement;\n    }\n    if (targ.nodeType === 3) {\n        // defeat Safari bug\n        targ = targ.parentNode;\n    }\n\n    // pageX,Y are the mouse positions relative to the document\n    var boundingRect = targ.getBoundingClientRect();\n    var x = e.pageX - (boundingRect.left + document.body.scrollLeft);\n    var y = e.pageY - (boundingRect.top + document.body.scrollTop);\n\n    return { x: x, y: y };\n};\n\n/*\n * return a copy of an object with only non-object keys\n * we need this to avoid circular references\n * http://stackoverflow.com/a/24161582/3208463\n */\nfunction simpleKeys(original) {\n    return Object.keys(original).reduce(function (obj, key) {\n        if (typeof original[key] !== 'object') {\n            obj[key] = original[key];\n        }\n        return obj;\n    }, {});\n}\n\nmpl.figure.prototype.mouse_event = function (event, name) {\n    var canvas_pos = mpl.findpos(event);\n\n    if (name === 'button_press') {\n        this.canvas.focus();\n        this.canvas_div.focus();\n    }\n\n    var x = canvas_pos.x * this.ratio;\n    var y = canvas_pos.y * this.ratio;\n\n    this.send_message(name, {\n        x: x,\n        y: y,\n        button: event.button,\n        step: event.step,\n        guiEvent: simpleKeys(event),\n    });\n\n    /* This prevents the web browser from automatically changing to\n     * the text insertion cursor when the button is pressed.  We want\n     * to control all of the cursor setting manually through the\n     * 'cursor' event from matplotlib */\n    event.preventDefault();\n    return false;\n};\n\nmpl.figure.prototype._key_event_extra = function (_event, _name) {\n    // Handle any extra behaviour associated with a key event\n};\n\nmpl.figure.prototype.key_event = function (event, name) {\n    // Prevent repeat events\n    if (name === 'key_press') {\n        if (event.which === this._key) {\n            return;\n        } else {\n            this._key = event.which;\n        }\n    }\n    if (name === 'key_release') {\n        this._key = null;\n    }\n\n    var value = '';\n    if (event.ctrlKey && event.which !== 17) {\n        value += 'ctrl+';\n    }\n    if (event.altKey && event.which !== 18) {\n        value += 'alt+';\n    }\n    if (event.shiftKey && event.which !== 16) {\n        value += 'shift+';\n    }\n\n    value += 'k';\n    value += event.which.toString();\n\n    this._key_event_extra(event, name);\n\n    this.send_message(name, { key: value, guiEvent: simpleKeys(event) });\n    return false;\n};\n\nmpl.figure.prototype.toolbar_button_onclick = function (name) {\n    if (name === 'download') {\n        this.handle_save(this, null);\n    } else {\n        this.send_message('toolbar_button', { name: name });\n    }\n};\n\nmpl.figure.prototype.toolbar_button_onmouseover = function (tooltip) {\n    this.message.textContent = tooltip;\n};\n\n///////////////// REMAINING CONTENT GENERATED BY embed_js.py /////////////////\n// prettier-ignore\nvar _JSXTOOLS_RESIZE_OBSERVER=function(A){var t,i=new WeakMap,n=new WeakMap,a=new WeakMap,r=new WeakMap,o=new Set;function s(e){if(!(this instanceof s))throw new TypeError(\"Constructor requires 'new' operator\");i.set(this,e)}function h(){throw new TypeError(\"Function is not a constructor\")}function c(e,t,i,n){e=0 in arguments?Number(arguments[0]):0,t=1 in arguments?Number(arguments[1]):0,i=2 in arguments?Number(arguments[2]):0,n=3 in arguments?Number(arguments[3]):0,this.right=(this.x=this.left=e)+(this.width=i),this.bottom=(this.y=this.top=t)+(this.height=n),Object.freeze(this)}function d(){t=requestAnimationFrame(d);var s=new WeakMap,p=new Set;o.forEach((function(t){r.get(t).forEach((function(i){var r=t instanceof window.SVGElement,o=a.get(t),d=r?0:parseFloat(o.paddingTop),f=r?0:parseFloat(o.paddingRight),l=r?0:parseFloat(o.paddingBottom),u=r?0:parseFloat(o.paddingLeft),g=r?0:parseFloat(o.borderTopWidth),m=r?0:parseFloat(o.borderRightWidth),w=r?0:parseFloat(o.borderBottomWidth),b=u+f,F=d+l,v=(r?0:parseFloat(o.borderLeftWidth))+m,W=g+w,y=r?0:t.offsetHeight-W-t.clientHeight,E=r?0:t.offsetWidth-v-t.clientWidth,R=b+v,z=F+W,M=r?t.width:parseFloat(o.width)-R-E,O=r?t.height:parseFloat(o.height)-z-y;if(n.has(t)){var k=n.get(t);if(k[0]===M&&k[1]===O)return}n.set(t,[M,O]);var S=Object.create(h.prototype);S.target=t,S.contentRect=new c(u,d,M,O),s.has(i)||(s.set(i,[]),p.add(i)),s.get(i).push(S)}))})),p.forEach((function(e){i.get(e).call(e,s.get(e),e)}))}return s.prototype.observe=function(i){if(i instanceof window.Element){r.has(i)||(r.set(i,new Set),o.add(i),a.set(i,window.getComputedStyle(i)));var n=r.get(i);n.has(this)||n.add(this),cancelAnimationFrame(t),t=requestAnimationFrame(d)}},s.prototype.unobserve=function(i){if(i instanceof window.Element&&r.has(i)){var n=r.get(i);n.has(this)&&(n.delete(this),n.size||(r.delete(i),o.delete(i))),n.size||r.delete(i),o.size||cancelAnimationFrame(t)}},A.DOMRectReadOnly=c,A.ResizeObserver=s,A.ResizeObserverEntry=h,A}; // eslint-disable-line\nmpl.toolbar_items = [[\"Home\", \"Reset original view\", \"fa fa-home icon-home\", \"home\"], [\"Back\", \"Back to previous view\", \"fa fa-arrow-left icon-arrow-left\", \"back\"], [\"Forward\", \"Forward to next view\", \"fa fa-arrow-right icon-arrow-right\", \"forward\"], [\"\", \"\", \"\", \"\"], [\"Pan\", \"Left button pans, Right button zooms\\nx/y fixes axis, CTRL fixes aspect\", \"fa fa-arrows icon-move\", \"pan\"], [\"Zoom\", \"Zoom to rectangle\\nx/y fixes axis, CTRL fixes aspect\", \"fa fa-square-o icon-check-empty\", \"zoom\"], [\"\", \"\", \"\", \"\"], [\"Download\", \"Download plot\", \"fa fa-floppy-o icon-save\", \"download\"]];\n\nmpl.extensions = [\"eps\", \"jpeg\", \"pdf\", \"png\", \"ps\", \"raw\", \"svg\", \"tif\"];\n\nmpl.default_extension = \"png\";/* global mpl */\n\nvar comm_websocket_adapter = function (comm) {\n    // Create a \"websocket\"-like object which calls the given IPython comm\n    // object with the appropriate methods. Currently this is a non binary\n    // socket, so there is still some room for performance tuning.\n    var ws = {};\n\n    ws.close = function () {\n        comm.close();\n    };\n    ws.send = function (m) {\n        //console.log('sending', m);\n        comm.send(m);\n    };\n    // Register the callback with on_msg.\n    comm.on_msg(function (msg) {\n        //console.log('receiving', msg['content']['data'], msg);\n        // Pass the mpl event to the overridden (by mpl) onmessage function.\n        ws.onmessage(msg['content']['data']);\n    });\n    return ws;\n};\n\nmpl.mpl_figure_comm = function (comm, msg) {\n    // This is the function which gets called when the mpl process\n    // starts-up an IPython Comm through the \"matplotlib\" channel.\n\n    var id = msg.content.data.id;\n    // Get hold of the div created by the display call when the Comm\n    // socket was opened in Python.\n    var element = document.getElementById(id);\n    var ws_proxy = comm_websocket_adapter(comm);\n\n    function ondownload(figure, _format) {\n        window.open(figure.canvas.toDataURL());\n    }\n\n    var fig = new mpl.figure(id, ws_proxy, ondownload, element);\n\n    // Call onopen now - mpl needs it, as it is assuming we've passed it a real\n    // web socket which is closed, not our websocket->open comm proxy.\n    ws_proxy.onopen();\n\n    fig.parent_element = element;\n    fig.cell_info = mpl.find_output_cell(\"<div id='\" + id + \"'></div>\");\n    if (!fig.cell_info) {\n        console.error('Failed to find cell for figure', id, fig);\n        return;\n    }\n    fig.cell_info[0].output_area.element.on(\n        'cleared',\n        { fig: fig },\n        fig._remove_fig_handler\n    );\n};\n\nmpl.figure.prototype.handle_close = function (fig, msg) {\n    var width = fig.canvas.width / fig.ratio;\n    fig.cell_info[0].output_area.element.off(\n        'cleared',\n        fig._remove_fig_handler\n    );\n    fig.resizeObserverInstance.unobserve(fig.canvas_div);\n\n    // Update the output cell to use the data from the current canvas.\n    fig.push_to_output();\n    var dataURL = fig.canvas.toDataURL();\n    // Re-enable the keyboard manager in IPython - without this line, in FF,\n    // the notebook keyboard shortcuts fail.\n    IPython.keyboard_manager.enable();\n    fig.parent_element.innerHTML =\n        '<img src=\"' + dataURL + '\" width=\"' + width + '\">';\n    fig.close_ws(fig, msg);\n};\n\nmpl.figure.prototype.close_ws = function (fig, msg) {\n    fig.send_message('closing', msg);\n    // fig.ws.close()\n};\n\nmpl.figure.prototype.push_to_output = function (_remove_interactive) {\n    // Turn the data on the canvas into data in the output cell.\n    var width = this.canvas.width / this.ratio;\n    var dataURL = this.canvas.toDataURL();\n    this.cell_info[1]['text/html'] =\n        '<img src=\"' + dataURL + '\" width=\"' + width + '\">';\n};\n\nmpl.figure.prototype.updated_canvas_event = function () {\n    // Tell IPython that the notebook contents must change.\n    IPython.notebook.set_dirty(true);\n    this.send_message('ack', {});\n    var fig = this;\n    // Wait a second, then push the new image to the DOM so\n    // that it is saved nicely (might be nice to debounce this).\n    setTimeout(function () {\n        fig.push_to_output();\n    }, 1000);\n};\n\nmpl.figure.prototype._init_toolbar = function () {\n    var fig = this;\n\n    var toolbar = document.createElement('div');\n    toolbar.classList = 'btn-toolbar';\n    this.root.appendChild(toolbar);\n\n    function on_click_closure(name) {\n        return function (_event) {\n            return fig.toolbar_button_onclick(name);\n        };\n    }\n\n    function on_mouseover_closure(tooltip) {\n        return function (event) {\n            if (!event.currentTarget.disabled) {\n                return fig.toolbar_button_onmouseover(tooltip);\n            }\n        };\n    }\n\n    fig.buttons = {};\n    var buttonGroup = document.createElement('div');\n    buttonGroup.classList = 'btn-group';\n    var button;\n    for (var toolbar_ind in mpl.toolbar_items) {\n        var name = mpl.toolbar_items[toolbar_ind][0];\n        var tooltip = mpl.toolbar_items[toolbar_ind][1];\n        var image = mpl.toolbar_items[toolbar_ind][2];\n        var method_name = mpl.toolbar_items[toolbar_ind][3];\n\n        if (!name) {\n            /* Instead of a spacer, we start a new button group. */\n            if (buttonGroup.hasChildNodes()) {\n                toolbar.appendChild(buttonGroup);\n            }\n            buttonGroup = document.createElement('div');\n            buttonGroup.classList = 'btn-group';\n            continue;\n        }\n\n        button = fig.buttons[name] = document.createElement('button');\n        button.classList = 'btn btn-default';\n        button.href = '#';\n        button.title = name;\n        button.innerHTML = '<i class=\"fa ' + image + ' fa-lg\"></i>';\n        button.addEventListener('click', on_click_closure(method_name));\n        button.addEventListener('mouseover', on_mouseover_closure(tooltip));\n        buttonGroup.appendChild(button);\n    }\n\n    if (buttonGroup.hasChildNodes()) {\n        toolbar.appendChild(buttonGroup);\n    }\n\n    // Add the status bar.\n    var status_bar = document.createElement('span');\n    status_bar.classList = 'mpl-message pull-right';\n    toolbar.appendChild(status_bar);\n    this.message = status_bar;\n\n    // Add the close button to the window.\n    var buttongrp = document.createElement('div');\n    buttongrp.classList = 'btn-group inline pull-right';\n    button = document.createElement('button');\n    button.classList = 'btn btn-mini btn-primary';\n    button.href = '#';\n    button.title = 'Stop Interaction';\n    button.innerHTML = '<i class=\"fa fa-power-off icon-remove icon-large\"></i>';\n    button.addEventListener('click', function (_evt) {\n        fig.handle_close(fig, {});\n    });\n    button.addEventListener(\n        'mouseover',\n        on_mouseover_closure('Stop Interaction')\n    );\n    buttongrp.appendChild(button);\n    var titlebar = this.root.querySelector('.ui-dialog-titlebar');\n    titlebar.insertBefore(buttongrp, titlebar.firstChild);\n};\n\nmpl.figure.prototype._remove_fig_handler = function (event) {\n    var fig = event.data.fig;\n    if (event.target !== this) {\n        // Ignore bubbled events from children.\n        return;\n    }\n    fig.close_ws(fig, {});\n};\n\nmpl.figure.prototype._root_extra_style = function (el) {\n    el.style.boxSizing = 'content-box'; // override notebook setting of border-box.\n};\n\nmpl.figure.prototype._canvas_extra_style = function (el) {\n    // this is important to make the div 'focusable\n    el.setAttribute('tabindex', 0);\n    // reach out to IPython and tell the keyboard manager to turn it's self\n    // off when our div gets focus\n\n    // location in version 3\n    if (IPython.notebook.keyboard_manager) {\n        IPython.notebook.keyboard_manager.register_events(el);\n    } else {\n        // location in version 2\n        IPython.keyboard_manager.register_events(el);\n    }\n};\n\nmpl.figure.prototype._key_event_extra = function (event, _name) {\n    var manager = IPython.notebook.keyboard_manager;\n    if (!manager) {\n        manager = IPython.keyboard_manager;\n    }\n\n    // Check for shift+enter\n    if (event.shiftKey && event.which === 13) {\n        this.canvas_div.blur();\n        // select the cell after this one\n        var index = IPython.notebook.find_cell_index(this.cell_info[0]);\n        IPython.notebook.select(index + 1);\n    }\n};\n\nmpl.figure.prototype.handle_save = function (fig, _msg) {\n    fig.ondownload(fig, null);\n};\n\nmpl.find_output_cell = function (html_output) {\n    // Return the cell and output element which can be found *uniquely* in the notebook.\n    // Note - this is a bit hacky, but it is done because the \"notebook_saving.Notebook\"\n    // IPython event is triggered only after the cells have been serialised, which for\n    // our purposes (turning an active figure into a static one), is too late.\n    var cells = IPython.notebook.get_cells();\n    var ncells = cells.length;\n    for (var i = 0; i < ncells; i++) {\n        var cell = cells[i];\n        if (cell.cell_type === 'code') {\n            for (var j = 0; j < cell.output_area.outputs.length; j++) {\n                var data = cell.output_area.outputs[j];\n                if (data.data) {\n                    // IPython >= 3 moved mimebundle to data attribute of output\n                    data = data.data;\n                }\n                if (data['text/html'] === html_output) {\n                    return [cell, data, j];\n                }\n            }\n        }\n    }\n};\n\n// Register the function which deals with the matplotlib target/channel.\n// The kernel may be null if the page has been refreshed.\nif (IPython.notebook.kernel !== null) {\n    IPython.notebook.kernel.comm_manager.register_target(\n        'matplotlib',\n        mpl.mpl_figure_comm\n    );\n}\n",
      "text/plain": [
       "<IPython.core.display.Javascript object>"
      ]
     },
     "metadata": {},
     "output_type": "display_data"
    },
    {
     "data": {
      "text/html": [
       "<div id='84a0d36b-36f5-4188-b55b-dcb285f20cd5'></div>"
      ],
      "text/plain": [
       "<IPython.core.display.HTML object>"
      ]
     },
     "metadata": {},
     "output_type": "display_data"
    }
   ],
   "source": [
    "# Create figure\n",
    "fig, axes = plt.subplots(5,4, sharey = True, figsize = (10,10))\n",
    "ax = axes.flatten()\n",
    "for i, feature in enumerate(features_list):\n",
    "    data.plot.scatter(x = feature, y = target_name, ax = ax[i], s = 2) # Plot feature against target\n",
    "    # Format figure:\n",
    "    ax[i].set_xlabel('')\n",
    "    ax[i].set_title(feature)\n",
    "    ax[i].grid(ls = '--')\n",
    "    \n",
    "    # For the roof area only, show the x-axis with logarithmic values:\n",
    "    if feature == 'roof_area': ax[i].set_xscale('log')\n",
    "for j in range(i+1, len(ax)): ax[j].axis('off') # deactivate unused sub-axes\n",
    "plt.tight_layout()"
   ]
  },
  {
   "cell_type": "markdown",
   "metadata": {},
   "source": [
    "## *Questions*\n",
    "- a. Based on the scatterplots, which variable shows the strongest relatioship with the target?\n",
    "- b. What is the correlation coefficient between this varialbe and the target?\n",
    "- c. How do you explain the discrepancy, and what does this mean for the modelling?\n",
    "- d. Can you think of a way to transform this variable in order to increase its correlation coefficient?\n",
    "- e. For the other 4 features with the smallest correlation to the target from Step 1.2, do you observe a similar discrepancy or are the correlation coefficients confirmed by the plots?"
   ]
  },
  {
   "cell_type": "markdown",
   "metadata": {},
   "source": [
    "### *SOLUTION*\n",
    "- a. The scatterplots suggests that the tilted radiation depends strongly on the *__roof aspect__*. This does not come as a surprise; north-facing roofs receive less solar radiation than south-facing roofs.\n",
    "- b. The correlation coefficient of the roof aspect is **-0.036**, making it one of the *lowest* coefficients in the dataset.\n",
    "- c. The relationship of the roof_aspect to the tilted radiation is highly **non-linear** (rather quadratic). Consequently, the measure of *linear correlation* is low. This is an important pitfall of using correlation coefficients to measure the importance of features for the modelling. We should hence always cross-check the scatterplots.\n",
    "- d. We could transform the roof aspect by dividing it into two features: *abs(roof_aspect)* and *sign(roof_aspect)*. This would help to *linearize* thia feature, and can significantly improve the performance of the linear regression that we have seen in Tutorial 1. Some estimators do not require linear features, but in some cases this kind of **feature transformation** can significantly improve model performance.\n",
    "- e. In the other 4 cases (roof_x, horizon_NWW, roof_area, DHI), the low correlation coefficient is confirmed by a near-random scatterplot."
   ]
  },
  {
   "cell_type": "markdown",
   "metadata": {},
   "source": [
    "## Step 1.4 - Feature transformation\n",
    "Let's transform the data in this way by computing first the sign and then replacing the roof aspect by it's absolute value:"
   ]
  },
  {
   "cell_type": "code",
   "execution_count": 7,
   "metadata": {},
   "outputs": [],
   "source": [
    "# SOLUTION\n",
    "data['aspect_sign'] = np.sign(data['roof_aspect']) ## Compute the sign of the roof_aspect\n",
    "data['roof_aspect'] = abs(data['roof_aspect']) ## Compute the absolute value of the roof_aspect"
   ]
  },
  {
   "cell_type": "markdown",
   "metadata": {},
   "source": [
    "We can check the correlation coefficient of the new features with the tilted radiation by using the `corrwith` function, and will see that it is much improved and that the roof_aspect becomes the *most important feature*:"
   ]
  },
  {
   "cell_type": "code",
   "execution_count": 8,
   "metadata": {
    "scrolled": false
   },
   "outputs": [
    {
     "data": {
      "text/plain": [
       "roof_aspect   -0.648147\n",
       "aspect_sign   -0.037462\n",
       "dtype: float64"
      ]
     },
     "execution_count": 8,
     "metadata": {},
     "output_type": "execute_result"
    }
   ],
   "source": [
    "data[['roof_aspect', 'aspect_sign']].corrwith(data['tilted_radiation'])"
   ]
  },
  {
   "cell_type": "markdown",
   "metadata": {},
   "source": [
    "Finally, we need to add the new feature `aspect_sign` to the feature list:"
   ]
  },
  {
   "cell_type": "code",
   "execution_count": 9,
   "metadata": {},
   "outputs": [],
   "source": [
    "# SOLUTION\n",
    "features_list = [ 'roof_tilt', 'roof_aspect', 'roof_area', 'roof_x', 'roof_y', 'aspect_sign', 'SIS',\n",
    "                  'SISDIR', 'DHI', 'horizon_S', 'horizon_SSW', 'horizon_SWW', 'horizon_W',\n",
    "                  'horizon_NWW', 'horizon_SSE', 'horizon_SEE', 'horizon_E', 'horizon_NEE',]"
   ]
  },
  {
   "cell_type": "markdown",
   "metadata": {},
   "source": [
    "## Step 1.5 - Mutual information"
   ]
  },
  {
   "cell_type": "code",
   "execution_count": 10,
   "metadata": {},
   "outputs": [],
   "source": [
    "from sklearn.feature_selection import mutual_info_regression"
   ]
  },
  {
   "cell_type": "markdown",
   "metadata": {},
   "source": [
    "By splitting the data into target (y) and features (X), we can call the function and display it as a pandas dataframe:"
   ]
  },
  {
   "cell_type": "code",
   "execution_count": 11,
   "metadata": {},
   "outputs": [],
   "source": [
    "# SOLUTION\n",
    "y = data[ target_name ]   # Extract the target column\n",
    "X = data[ features_list ] # Extract the list of all features "
   ]
  },
  {
   "cell_type": "code",
   "execution_count": 12,
   "metadata": {},
   "outputs": [
    {
     "data": {
      "text/html": [
       "<div>\n",
       "<style scoped>\n",
       "    .dataframe tbody tr th:only-of-type {\n",
       "        vertical-align: middle;\n",
       "    }\n",
       "\n",
       "    .dataframe tbody tr th {\n",
       "        vertical-align: top;\n",
       "    }\n",
       "\n",
       "    .dataframe thead th {\n",
       "        text-align: right;\n",
       "    }\n",
       "</style>\n",
       "<table border=\"1\" class=\"dataframe\">\n",
       "  <thead>\n",
       "    <tr style=\"text-align: right;\">\n",
       "      <th></th>\n",
       "      <th>Mutual_info</th>\n",
       "    </tr>\n",
       "  </thead>\n",
       "  <tbody>\n",
       "    <tr>\n",
       "      <th>roof_aspect</th>\n",
       "      <td>0.605175</td>\n",
       "    </tr>\n",
       "    <tr>\n",
       "      <th>horizon_S</th>\n",
       "      <td>0.221153</td>\n",
       "    </tr>\n",
       "    <tr>\n",
       "      <th>roof_tilt</th>\n",
       "      <td>0.193899</td>\n",
       "    </tr>\n",
       "    <tr>\n",
       "      <th>horizon_SSW</th>\n",
       "      <td>0.172842</td>\n",
       "    </tr>\n",
       "    <tr>\n",
       "      <th>horizon_SSE</th>\n",
       "      <td>0.166318</td>\n",
       "    </tr>\n",
       "    <tr>\n",
       "      <th>SIS</th>\n",
       "      <td>0.066277</td>\n",
       "    </tr>\n",
       "    <tr>\n",
       "      <th>horizon_SEE</th>\n",
       "      <td>0.052925</td>\n",
       "    </tr>\n",
       "    <tr>\n",
       "      <th>aspect_sign</th>\n",
       "      <td>0.045374</td>\n",
       "    </tr>\n",
       "    <tr>\n",
       "      <th>SISDIR</th>\n",
       "      <td>0.038397</td>\n",
       "    </tr>\n",
       "    <tr>\n",
       "      <th>horizon_SWW</th>\n",
       "      <td>0.037294</td>\n",
       "    </tr>\n",
       "    <tr>\n",
       "      <th>roof_y</th>\n",
       "      <td>0.029919</td>\n",
       "    </tr>\n",
       "    <tr>\n",
       "      <th>DHI</th>\n",
       "      <td>0.020938</td>\n",
       "    </tr>\n",
       "    <tr>\n",
       "      <th>horizon_NWW</th>\n",
       "      <td>0.017212</td>\n",
       "    </tr>\n",
       "    <tr>\n",
       "      <th>roof_area</th>\n",
       "      <td>0.016732</td>\n",
       "    </tr>\n",
       "    <tr>\n",
       "      <th>roof_x</th>\n",
       "      <td>0.015849</td>\n",
       "    </tr>\n",
       "    <tr>\n",
       "      <th>horizon_W</th>\n",
       "      <td>0.000000</td>\n",
       "    </tr>\n",
       "    <tr>\n",
       "      <th>horizon_E</th>\n",
       "      <td>0.000000</td>\n",
       "    </tr>\n",
       "    <tr>\n",
       "      <th>horizon_NEE</th>\n",
       "      <td>0.000000</td>\n",
       "    </tr>\n",
       "  </tbody>\n",
       "</table>\n",
       "</div>"
      ],
      "text/plain": [
       "             Mutual_info\n",
       "roof_aspect     0.605175\n",
       "horizon_S       0.221153\n",
       "roof_tilt       0.193899\n",
       "horizon_SSW     0.172842\n",
       "horizon_SSE     0.166318\n",
       "SIS             0.066277\n",
       "horizon_SEE     0.052925\n",
       "aspect_sign     0.045374\n",
       "SISDIR          0.038397\n",
       "horizon_SWW     0.037294\n",
       "roof_y          0.029919\n",
       "DHI             0.020938\n",
       "horizon_NWW     0.017212\n",
       "roof_area       0.016732\n",
       "roof_x          0.015849\n",
       "horizon_W       0.000000\n",
       "horizon_E       0.000000\n",
       "horizon_NEE     0.000000"
      ]
     },
     "execution_count": 12,
     "metadata": {},
     "output_type": "execute_result"
    }
   ],
   "source": [
    "(pd.DataFrame(mutual_info_regression(X, y), index = X.columns, columns = ['Mutual_info'])\n",
    "     .sort_values('Mutual_info', ascending = False))"
   ]
  },
  {
   "cell_type": "markdown",
   "metadata": {},
   "source": [
    "## *Questions*\n",
    "- a. Based on mutual information, which are the most important features?\n",
    "- b. How does this answer change compared to the answers from Step 1.2?"
   ]
  },
  {
   "cell_type": "markdown",
   "metadata": {},
   "source": [
    "### *SOLUTION*\n",
    "- a. The most important features now are **roof aspect, horizon_S, roof_tilt, horizon_SSW and horizon_SSE**.\n",
    "- b. The roof aspect and roof tilt have replaced the horizon values for SEE and SWW amongst the most important features. \n"
   ]
  },
  {
   "cell_type": "markdown",
   "metadata": {},
   "source": [
    "# Part 2 - Feature preprocessing and k-fold cross-validation<"
   ]
  },
  {
   "cell_type": "markdown",
   "metadata": {},
   "source": [
    "The required packages are:"
   ]
  },
  {
   "cell_type": "code",
   "execution_count": 13,
   "metadata": {},
   "outputs": [],
   "source": [
    "from sklearn.preprocessing   import scale\n",
    "from sklearn.model_selection import KFold\n",
    "\n",
    "from lib_file import *    # Functions in the file lib_file.py, which should be in the same directory as your notebook"
   ]
  },
  {
   "cell_type": "markdown",
   "metadata": {},
   "source": [
    "## Step 2.1: k-fold cross-validation\n",
    "Throughout this tutorial we will work with 5-fold cross-validation, which is the default in all of scikit's `cross_val`-functions:"
   ]
  },
  {
   "cell_type": "code",
   "execution_count": 14,
   "metadata": {},
   "outputs": [],
   "source": [
    "N_FOLDS = 5 # Define the number of folds"
   ]
  },
  {
   "cell_type": "markdown",
   "metadata": {},
   "source": [
    "We can declare a 5-fold cross-validation and plot the resulting splits for our data:"
   ]
  },
  {
   "cell_type": "code",
   "execution_count": 15,
   "metadata": {
    "scrolled": false
   },
   "outputs": [
    {
     "data": {
      "text/plain": [
       "KFold(n_splits=5, random_state=None, shuffle=False)"
      ]
     },
     "execution_count": 15,
     "metadata": {},
     "output_type": "execute_result"
    }
   ],
   "source": [
    "cv = KFold(n_splits = N_FOLDS)\n",
    "cv"
   ]
  },
  {
   "cell_type": "code",
   "execution_count": 16,
   "metadata": {
    "scrolled": false
   },
   "outputs": [
    {
     "data": {
      "application/javascript": "/* Put everything inside the global mpl namespace */\n/* global mpl */\nwindow.mpl = {};\n\nmpl.get_websocket_type = function () {\n    if (typeof WebSocket !== 'undefined') {\n        return WebSocket;\n    } else if (typeof MozWebSocket !== 'undefined') {\n        return MozWebSocket;\n    } else {\n        alert(\n            'Your browser does not have WebSocket support. ' +\n                'Please try Chrome, Safari or Firefox ≥ 6. ' +\n                'Firefox 4 and 5 are also supported but you ' +\n                'have to enable WebSockets in about:config.'\n        );\n    }\n};\n\nmpl.figure = function (figure_id, websocket, ondownload, parent_element) {\n    this.id = figure_id;\n\n    this.ws = websocket;\n\n    this.supports_binary = this.ws.binaryType !== undefined;\n\n    if (!this.supports_binary) {\n        var warnings = document.getElementById('mpl-warnings');\n        if (warnings) {\n            warnings.style.display = 'block';\n            warnings.textContent =\n                'This browser does not support binary websocket messages. ' +\n                'Performance may be slow.';\n        }\n    }\n\n    this.imageObj = new Image();\n\n    this.context = undefined;\n    this.message = undefined;\n    this.canvas = undefined;\n    this.rubberband_canvas = undefined;\n    this.rubberband_context = undefined;\n    this.format_dropdown = undefined;\n\n    this.image_mode = 'full';\n\n    this.root = document.createElement('div');\n    this.root.setAttribute('style', 'display: inline-block');\n    this._root_extra_style(this.root);\n\n    parent_element.appendChild(this.root);\n\n    this._init_header(this);\n    this._init_canvas(this);\n    this._init_toolbar(this);\n\n    var fig = this;\n\n    this.waiting = false;\n\n    this.ws.onopen = function () {\n        fig.send_message('supports_binary', { value: fig.supports_binary });\n        fig.send_message('send_image_mode', {});\n        if (fig.ratio !== 1) {\n            fig.send_message('set_dpi_ratio', { dpi_ratio: fig.ratio });\n        }\n        fig.send_message('refresh', {});\n    };\n\n    this.imageObj.onload = function () {\n        if (fig.image_mode === 'full') {\n            // Full images could contain transparency (where diff images\n            // almost always do), so we need to clear the canvas so that\n            // there is no ghosting.\n            fig.context.clearRect(0, 0, fig.canvas.width, fig.canvas.height);\n        }\n        fig.context.drawImage(fig.imageObj, 0, 0);\n    };\n\n    this.imageObj.onunload = function () {\n        fig.ws.close();\n    };\n\n    this.ws.onmessage = this._make_on_message_function(this);\n\n    this.ondownload = ondownload;\n};\n\nmpl.figure.prototype._init_header = function () {\n    var titlebar = document.createElement('div');\n    titlebar.classList =\n        'ui-dialog-titlebar ui-widget-header ui-corner-all ui-helper-clearfix';\n    var titletext = document.createElement('div');\n    titletext.classList = 'ui-dialog-title';\n    titletext.setAttribute(\n        'style',\n        'width: 100%; text-align: center; padding: 3px;'\n    );\n    titlebar.appendChild(titletext);\n    this.root.appendChild(titlebar);\n    this.header = titletext;\n};\n\nmpl.figure.prototype._canvas_extra_style = function (_canvas_div) {};\n\nmpl.figure.prototype._root_extra_style = function (_canvas_div) {};\n\nmpl.figure.prototype._init_canvas = function () {\n    var fig = this;\n\n    var canvas_div = (this.canvas_div = document.createElement('div'));\n    canvas_div.setAttribute(\n        'style',\n        'border: 1px solid #ddd;' +\n            'box-sizing: content-box;' +\n            'clear: both;' +\n            'min-height: 1px;' +\n            'min-width: 1px;' +\n            'outline: 0;' +\n            'overflow: hidden;' +\n            'position: relative;' +\n            'resize: both;'\n    );\n\n    function on_keyboard_event_closure(name) {\n        return function (event) {\n            return fig.key_event(event, name);\n        };\n    }\n\n    canvas_div.addEventListener(\n        'keydown',\n        on_keyboard_event_closure('key_press')\n    );\n    canvas_div.addEventListener(\n        'keyup',\n        on_keyboard_event_closure('key_release')\n    );\n\n    this._canvas_extra_style(canvas_div);\n    this.root.appendChild(canvas_div);\n\n    var canvas = (this.canvas = document.createElement('canvas'));\n    canvas.classList.add('mpl-canvas');\n    canvas.setAttribute('style', 'box-sizing: content-box;');\n\n    this.context = canvas.getContext('2d');\n\n    var backingStore =\n        this.context.backingStorePixelRatio ||\n        this.context.webkitBackingStorePixelRatio ||\n        this.context.mozBackingStorePixelRatio ||\n        this.context.msBackingStorePixelRatio ||\n        this.context.oBackingStorePixelRatio ||\n        this.context.backingStorePixelRatio ||\n        1;\n\n    this.ratio = (window.devicePixelRatio || 1) / backingStore;\n\n    var rubberband_canvas = (this.rubberband_canvas = document.createElement(\n        'canvas'\n    ));\n    rubberband_canvas.setAttribute(\n        'style',\n        'box-sizing: content-box; position: absolute; left: 0; top: 0; z-index: 1;'\n    );\n\n    // Apply a ponyfill if ResizeObserver is not implemented by browser.\n    if (this.ResizeObserver === undefined) {\n        if (window.ResizeObserver !== undefined) {\n            this.ResizeObserver = window.ResizeObserver;\n        } else {\n            var obs = _JSXTOOLS_RESIZE_OBSERVER({});\n            this.ResizeObserver = obs.ResizeObserver;\n        }\n    }\n\n    this.resizeObserverInstance = new this.ResizeObserver(function (entries) {\n        var nentries = entries.length;\n        for (var i = 0; i < nentries; i++) {\n            var entry = entries[i];\n            var width, height;\n            if (entry.contentBoxSize) {\n                if (entry.contentBoxSize instanceof Array) {\n                    // Chrome 84 implements new version of spec.\n                    width = entry.contentBoxSize[0].inlineSize;\n                    height = entry.contentBoxSize[0].blockSize;\n                } else {\n                    // Firefox implements old version of spec.\n                    width = entry.contentBoxSize.inlineSize;\n                    height = entry.contentBoxSize.blockSize;\n                }\n            } else {\n                // Chrome <84 implements even older version of spec.\n                width = entry.contentRect.width;\n                height = entry.contentRect.height;\n            }\n\n            // Keep the size of the canvas and rubber band canvas in sync with\n            // the canvas container.\n            if (entry.devicePixelContentBoxSize) {\n                // Chrome 84 implements new version of spec.\n                canvas.setAttribute(\n                    'width',\n                    entry.devicePixelContentBoxSize[0].inlineSize\n                );\n                canvas.setAttribute(\n                    'height',\n                    entry.devicePixelContentBoxSize[0].blockSize\n                );\n            } else {\n                canvas.setAttribute('width', width * fig.ratio);\n                canvas.setAttribute('height', height * fig.ratio);\n            }\n            canvas.setAttribute(\n                'style',\n                'width: ' + width + 'px; height: ' + height + 'px;'\n            );\n\n            rubberband_canvas.setAttribute('width', width);\n            rubberband_canvas.setAttribute('height', height);\n\n            // And update the size in Python. We ignore the initial 0/0 size\n            // that occurs as the element is placed into the DOM, which should\n            // otherwise not happen due to the minimum size styling.\n            if (fig.ws.readyState == 1 && width != 0 && height != 0) {\n                fig.request_resize(width, height);\n            }\n        }\n    });\n    this.resizeObserverInstance.observe(canvas_div);\n\n    function on_mouse_event_closure(name) {\n        return function (event) {\n            return fig.mouse_event(event, name);\n        };\n    }\n\n    rubberband_canvas.addEventListener(\n        'mousedown',\n        on_mouse_event_closure('button_press')\n    );\n    rubberband_canvas.addEventListener(\n        'mouseup',\n        on_mouse_event_closure('button_release')\n    );\n    // Throttle sequential mouse events to 1 every 20ms.\n    rubberband_canvas.addEventListener(\n        'mousemove',\n        on_mouse_event_closure('motion_notify')\n    );\n\n    rubberband_canvas.addEventListener(\n        'mouseenter',\n        on_mouse_event_closure('figure_enter')\n    );\n    rubberband_canvas.addEventListener(\n        'mouseleave',\n        on_mouse_event_closure('figure_leave')\n    );\n\n    canvas_div.addEventListener('wheel', function (event) {\n        if (event.deltaY < 0) {\n            event.step = 1;\n        } else {\n            event.step = -1;\n        }\n        on_mouse_event_closure('scroll')(event);\n    });\n\n    canvas_div.appendChild(canvas);\n    canvas_div.appendChild(rubberband_canvas);\n\n    this.rubberband_context = rubberband_canvas.getContext('2d');\n    this.rubberband_context.strokeStyle = '#000000';\n\n    this._resize_canvas = function (width, height, forward) {\n        if (forward) {\n            canvas_div.style.width = width + 'px';\n            canvas_div.style.height = height + 'px';\n        }\n    };\n\n    // Disable right mouse context menu.\n    this.rubberband_canvas.addEventListener('contextmenu', function (_e) {\n        event.preventDefault();\n        return false;\n    });\n\n    function set_focus() {\n        canvas.focus();\n        canvas_div.focus();\n    }\n\n    window.setTimeout(set_focus, 100);\n};\n\nmpl.figure.prototype._init_toolbar = function () {\n    var fig = this;\n\n    var toolbar = document.createElement('div');\n    toolbar.classList = 'mpl-toolbar';\n    this.root.appendChild(toolbar);\n\n    function on_click_closure(name) {\n        return function (_event) {\n            return fig.toolbar_button_onclick(name);\n        };\n    }\n\n    function on_mouseover_closure(tooltip) {\n        return function (event) {\n            if (!event.currentTarget.disabled) {\n                return fig.toolbar_button_onmouseover(tooltip);\n            }\n        };\n    }\n\n    fig.buttons = {};\n    var buttonGroup = document.createElement('div');\n    buttonGroup.classList = 'mpl-button-group';\n    for (var toolbar_ind in mpl.toolbar_items) {\n        var name = mpl.toolbar_items[toolbar_ind][0];\n        var tooltip = mpl.toolbar_items[toolbar_ind][1];\n        var image = mpl.toolbar_items[toolbar_ind][2];\n        var method_name = mpl.toolbar_items[toolbar_ind][3];\n\n        if (!name) {\n            /* Instead of a spacer, we start a new button group. */\n            if (buttonGroup.hasChildNodes()) {\n                toolbar.appendChild(buttonGroup);\n            }\n            buttonGroup = document.createElement('div');\n            buttonGroup.classList = 'mpl-button-group';\n            continue;\n        }\n\n        var button = (fig.buttons[name] = document.createElement('button'));\n        button.classList = 'mpl-widget';\n        button.setAttribute('role', 'button');\n        button.setAttribute('aria-disabled', 'false');\n        button.addEventListener('click', on_click_closure(method_name));\n        button.addEventListener('mouseover', on_mouseover_closure(tooltip));\n\n        var icon_img = document.createElement('img');\n        icon_img.src = '_images/' + image + '.png';\n        icon_img.srcset = '_images/' + image + '_large.png 2x';\n        icon_img.alt = tooltip;\n        button.appendChild(icon_img);\n\n        buttonGroup.appendChild(button);\n    }\n\n    if (buttonGroup.hasChildNodes()) {\n        toolbar.appendChild(buttonGroup);\n    }\n\n    var fmt_picker = document.createElement('select');\n    fmt_picker.classList = 'mpl-widget';\n    toolbar.appendChild(fmt_picker);\n    this.format_dropdown = fmt_picker;\n\n    for (var ind in mpl.extensions) {\n        var fmt = mpl.extensions[ind];\n        var option = document.createElement('option');\n        option.selected = fmt === mpl.default_extension;\n        option.innerHTML = fmt;\n        fmt_picker.appendChild(option);\n    }\n\n    var status_bar = document.createElement('span');\n    status_bar.classList = 'mpl-message';\n    toolbar.appendChild(status_bar);\n    this.message = status_bar;\n};\n\nmpl.figure.prototype.request_resize = function (x_pixels, y_pixels) {\n    // Request matplotlib to resize the figure. Matplotlib will then trigger a resize in the client,\n    // which will in turn request a refresh of the image.\n    this.send_message('resize', { width: x_pixels, height: y_pixels });\n};\n\nmpl.figure.prototype.send_message = function (type, properties) {\n    properties['type'] = type;\n    properties['figure_id'] = this.id;\n    this.ws.send(JSON.stringify(properties));\n};\n\nmpl.figure.prototype.send_draw_message = function () {\n    if (!this.waiting) {\n        this.waiting = true;\n        this.ws.send(JSON.stringify({ type: 'draw', figure_id: this.id }));\n    }\n};\n\nmpl.figure.prototype.handle_save = function (fig, _msg) {\n    var format_dropdown = fig.format_dropdown;\n    var format = format_dropdown.options[format_dropdown.selectedIndex].value;\n    fig.ondownload(fig, format);\n};\n\nmpl.figure.prototype.handle_resize = function (fig, msg) {\n    var size = msg['size'];\n    if (size[0] !== fig.canvas.width || size[1] !== fig.canvas.height) {\n        fig._resize_canvas(size[0], size[1], msg['forward']);\n        fig.send_message('refresh', {});\n    }\n};\n\nmpl.figure.prototype.handle_rubberband = function (fig, msg) {\n    var x0 = msg['x0'] / fig.ratio;\n    var y0 = (fig.canvas.height - msg['y0']) / fig.ratio;\n    var x1 = msg['x1'] / fig.ratio;\n    var y1 = (fig.canvas.height - msg['y1']) / fig.ratio;\n    x0 = Math.floor(x0) + 0.5;\n    y0 = Math.floor(y0) + 0.5;\n    x1 = Math.floor(x1) + 0.5;\n    y1 = Math.floor(y1) + 0.5;\n    var min_x = Math.min(x0, x1);\n    var min_y = Math.min(y0, y1);\n    var width = Math.abs(x1 - x0);\n    var height = Math.abs(y1 - y0);\n\n    fig.rubberband_context.clearRect(\n        0,\n        0,\n        fig.canvas.width / fig.ratio,\n        fig.canvas.height / fig.ratio\n    );\n\n    fig.rubberband_context.strokeRect(min_x, min_y, width, height);\n};\n\nmpl.figure.prototype.handle_figure_label = function (fig, msg) {\n    // Updates the figure title.\n    fig.header.textContent = msg['label'];\n};\n\nmpl.figure.prototype.handle_cursor = function (fig, msg) {\n    var cursor = msg['cursor'];\n    switch (cursor) {\n        case 0:\n            cursor = 'pointer';\n            break;\n        case 1:\n            cursor = 'default';\n            break;\n        case 2:\n            cursor = 'crosshair';\n            break;\n        case 3:\n            cursor = 'move';\n            break;\n    }\n    fig.rubberband_canvas.style.cursor = cursor;\n};\n\nmpl.figure.prototype.handle_message = function (fig, msg) {\n    fig.message.textContent = msg['message'];\n};\n\nmpl.figure.prototype.handle_draw = function (fig, _msg) {\n    // Request the server to send over a new figure.\n    fig.send_draw_message();\n};\n\nmpl.figure.prototype.handle_image_mode = function (fig, msg) {\n    fig.image_mode = msg['mode'];\n};\n\nmpl.figure.prototype.handle_history_buttons = function (fig, msg) {\n    for (var key in msg) {\n        if (!(key in fig.buttons)) {\n            continue;\n        }\n        fig.buttons[key].disabled = !msg[key];\n        fig.buttons[key].setAttribute('aria-disabled', !msg[key]);\n    }\n};\n\nmpl.figure.prototype.handle_navigate_mode = function (fig, msg) {\n    if (msg['mode'] === 'PAN') {\n        fig.buttons['Pan'].classList.add('active');\n        fig.buttons['Zoom'].classList.remove('active');\n    } else if (msg['mode'] === 'ZOOM') {\n        fig.buttons['Pan'].classList.remove('active');\n        fig.buttons['Zoom'].classList.add('active');\n    } else {\n        fig.buttons['Pan'].classList.remove('active');\n        fig.buttons['Zoom'].classList.remove('active');\n    }\n};\n\nmpl.figure.prototype.updated_canvas_event = function () {\n    // Called whenever the canvas gets updated.\n    this.send_message('ack', {});\n};\n\n// A function to construct a web socket function for onmessage handling.\n// Called in the figure constructor.\nmpl.figure.prototype._make_on_message_function = function (fig) {\n    return function socket_on_message(evt) {\n        if (evt.data instanceof Blob) {\n            /* FIXME: We get \"Resource interpreted as Image but\n             * transferred with MIME type text/plain:\" errors on\n             * Chrome.  But how to set the MIME type?  It doesn't seem\n             * to be part of the websocket stream */\n            evt.data.type = 'image/png';\n\n            /* Free the memory for the previous frames */\n            if (fig.imageObj.src) {\n                (window.URL || window.webkitURL).revokeObjectURL(\n                    fig.imageObj.src\n                );\n            }\n\n            fig.imageObj.src = (window.URL || window.webkitURL).createObjectURL(\n                evt.data\n            );\n            fig.updated_canvas_event();\n            fig.waiting = false;\n            return;\n        } else if (\n            typeof evt.data === 'string' &&\n            evt.data.slice(0, 21) === 'data:image/png;base64'\n        ) {\n            fig.imageObj.src = evt.data;\n            fig.updated_canvas_event();\n            fig.waiting = false;\n            return;\n        }\n\n        var msg = JSON.parse(evt.data);\n        var msg_type = msg['type'];\n\n        // Call the  \"handle_{type}\" callback, which takes\n        // the figure and JSON message as its only arguments.\n        try {\n            var callback = fig['handle_' + msg_type];\n        } catch (e) {\n            console.log(\n                \"No handler for the '\" + msg_type + \"' message type: \",\n                msg\n            );\n            return;\n        }\n\n        if (callback) {\n            try {\n                // console.log(\"Handling '\" + msg_type + \"' message: \", msg);\n                callback(fig, msg);\n            } catch (e) {\n                console.log(\n                    \"Exception inside the 'handler_\" + msg_type + \"' callback:\",\n                    e,\n                    e.stack,\n                    msg\n                );\n            }\n        }\n    };\n};\n\n// from http://stackoverflow.com/questions/1114465/getting-mouse-location-in-canvas\nmpl.findpos = function (e) {\n    //this section is from http://www.quirksmode.org/js/events_properties.html\n    var targ;\n    if (!e) {\n        e = window.event;\n    }\n    if (e.target) {\n        targ = e.target;\n    } else if (e.srcElement) {\n        targ = e.srcElement;\n    }\n    if (targ.nodeType === 3) {\n        // defeat Safari bug\n        targ = targ.parentNode;\n    }\n\n    // pageX,Y are the mouse positions relative to the document\n    var boundingRect = targ.getBoundingClientRect();\n    var x = e.pageX - (boundingRect.left + document.body.scrollLeft);\n    var y = e.pageY - (boundingRect.top + document.body.scrollTop);\n\n    return { x: x, y: y };\n};\n\n/*\n * return a copy of an object with only non-object keys\n * we need this to avoid circular references\n * http://stackoverflow.com/a/24161582/3208463\n */\nfunction simpleKeys(original) {\n    return Object.keys(original).reduce(function (obj, key) {\n        if (typeof original[key] !== 'object') {\n            obj[key] = original[key];\n        }\n        return obj;\n    }, {});\n}\n\nmpl.figure.prototype.mouse_event = function (event, name) {\n    var canvas_pos = mpl.findpos(event);\n\n    if (name === 'button_press') {\n        this.canvas.focus();\n        this.canvas_div.focus();\n    }\n\n    var x = canvas_pos.x * this.ratio;\n    var y = canvas_pos.y * this.ratio;\n\n    this.send_message(name, {\n        x: x,\n        y: y,\n        button: event.button,\n        step: event.step,\n        guiEvent: simpleKeys(event),\n    });\n\n    /* This prevents the web browser from automatically changing to\n     * the text insertion cursor when the button is pressed.  We want\n     * to control all of the cursor setting manually through the\n     * 'cursor' event from matplotlib */\n    event.preventDefault();\n    return false;\n};\n\nmpl.figure.prototype._key_event_extra = function (_event, _name) {\n    // Handle any extra behaviour associated with a key event\n};\n\nmpl.figure.prototype.key_event = function (event, name) {\n    // Prevent repeat events\n    if (name === 'key_press') {\n        if (event.which === this._key) {\n            return;\n        } else {\n            this._key = event.which;\n        }\n    }\n    if (name === 'key_release') {\n        this._key = null;\n    }\n\n    var value = '';\n    if (event.ctrlKey && event.which !== 17) {\n        value += 'ctrl+';\n    }\n    if (event.altKey && event.which !== 18) {\n        value += 'alt+';\n    }\n    if (event.shiftKey && event.which !== 16) {\n        value += 'shift+';\n    }\n\n    value += 'k';\n    value += event.which.toString();\n\n    this._key_event_extra(event, name);\n\n    this.send_message(name, { key: value, guiEvent: simpleKeys(event) });\n    return false;\n};\n\nmpl.figure.prototype.toolbar_button_onclick = function (name) {\n    if (name === 'download') {\n        this.handle_save(this, null);\n    } else {\n        this.send_message('toolbar_button', { name: name });\n    }\n};\n\nmpl.figure.prototype.toolbar_button_onmouseover = function (tooltip) {\n    this.message.textContent = tooltip;\n};\n\n///////////////// REMAINING CONTENT GENERATED BY embed_js.py /////////////////\n// prettier-ignore\nvar _JSXTOOLS_RESIZE_OBSERVER=function(A){var t,i=new WeakMap,n=new WeakMap,a=new WeakMap,r=new WeakMap,o=new Set;function s(e){if(!(this instanceof s))throw new TypeError(\"Constructor requires 'new' operator\");i.set(this,e)}function h(){throw new TypeError(\"Function is not a constructor\")}function c(e,t,i,n){e=0 in arguments?Number(arguments[0]):0,t=1 in arguments?Number(arguments[1]):0,i=2 in arguments?Number(arguments[2]):0,n=3 in arguments?Number(arguments[3]):0,this.right=(this.x=this.left=e)+(this.width=i),this.bottom=(this.y=this.top=t)+(this.height=n),Object.freeze(this)}function d(){t=requestAnimationFrame(d);var s=new WeakMap,p=new Set;o.forEach((function(t){r.get(t).forEach((function(i){var r=t instanceof window.SVGElement,o=a.get(t),d=r?0:parseFloat(o.paddingTop),f=r?0:parseFloat(o.paddingRight),l=r?0:parseFloat(o.paddingBottom),u=r?0:parseFloat(o.paddingLeft),g=r?0:parseFloat(o.borderTopWidth),m=r?0:parseFloat(o.borderRightWidth),w=r?0:parseFloat(o.borderBottomWidth),b=u+f,F=d+l,v=(r?0:parseFloat(o.borderLeftWidth))+m,W=g+w,y=r?0:t.offsetHeight-W-t.clientHeight,E=r?0:t.offsetWidth-v-t.clientWidth,R=b+v,z=F+W,M=r?t.width:parseFloat(o.width)-R-E,O=r?t.height:parseFloat(o.height)-z-y;if(n.has(t)){var k=n.get(t);if(k[0]===M&&k[1]===O)return}n.set(t,[M,O]);var S=Object.create(h.prototype);S.target=t,S.contentRect=new c(u,d,M,O),s.has(i)||(s.set(i,[]),p.add(i)),s.get(i).push(S)}))})),p.forEach((function(e){i.get(e).call(e,s.get(e),e)}))}return s.prototype.observe=function(i){if(i instanceof window.Element){r.has(i)||(r.set(i,new Set),o.add(i),a.set(i,window.getComputedStyle(i)));var n=r.get(i);n.has(this)||n.add(this),cancelAnimationFrame(t),t=requestAnimationFrame(d)}},s.prototype.unobserve=function(i){if(i instanceof window.Element&&r.has(i)){var n=r.get(i);n.has(this)&&(n.delete(this),n.size||(r.delete(i),o.delete(i))),n.size||r.delete(i),o.size||cancelAnimationFrame(t)}},A.DOMRectReadOnly=c,A.ResizeObserver=s,A.ResizeObserverEntry=h,A}; // eslint-disable-line\nmpl.toolbar_items = [[\"Home\", \"Reset original view\", \"fa fa-home icon-home\", \"home\"], [\"Back\", \"Back to previous view\", \"fa fa-arrow-left icon-arrow-left\", \"back\"], [\"Forward\", \"Forward to next view\", \"fa fa-arrow-right icon-arrow-right\", \"forward\"], [\"\", \"\", \"\", \"\"], [\"Pan\", \"Left button pans, Right button zooms\\nx/y fixes axis, CTRL fixes aspect\", \"fa fa-arrows icon-move\", \"pan\"], [\"Zoom\", \"Zoom to rectangle\\nx/y fixes axis, CTRL fixes aspect\", \"fa fa-square-o icon-check-empty\", \"zoom\"], [\"\", \"\", \"\", \"\"], [\"Download\", \"Download plot\", \"fa fa-floppy-o icon-save\", \"download\"]];\n\nmpl.extensions = [\"eps\", \"jpeg\", \"pdf\", \"png\", \"ps\", \"raw\", \"svg\", \"tif\"];\n\nmpl.default_extension = \"png\";/* global mpl */\n\nvar comm_websocket_adapter = function (comm) {\n    // Create a \"websocket\"-like object which calls the given IPython comm\n    // object with the appropriate methods. Currently this is a non binary\n    // socket, so there is still some room for performance tuning.\n    var ws = {};\n\n    ws.close = function () {\n        comm.close();\n    };\n    ws.send = function (m) {\n        //console.log('sending', m);\n        comm.send(m);\n    };\n    // Register the callback with on_msg.\n    comm.on_msg(function (msg) {\n        //console.log('receiving', msg['content']['data'], msg);\n        // Pass the mpl event to the overridden (by mpl) onmessage function.\n        ws.onmessage(msg['content']['data']);\n    });\n    return ws;\n};\n\nmpl.mpl_figure_comm = function (comm, msg) {\n    // This is the function which gets called when the mpl process\n    // starts-up an IPython Comm through the \"matplotlib\" channel.\n\n    var id = msg.content.data.id;\n    // Get hold of the div created by the display call when the Comm\n    // socket was opened in Python.\n    var element = document.getElementById(id);\n    var ws_proxy = comm_websocket_adapter(comm);\n\n    function ondownload(figure, _format) {\n        window.open(figure.canvas.toDataURL());\n    }\n\n    var fig = new mpl.figure(id, ws_proxy, ondownload, element);\n\n    // Call onopen now - mpl needs it, as it is assuming we've passed it a real\n    // web socket which is closed, not our websocket->open comm proxy.\n    ws_proxy.onopen();\n\n    fig.parent_element = element;\n    fig.cell_info = mpl.find_output_cell(\"<div id='\" + id + \"'></div>\");\n    if (!fig.cell_info) {\n        console.error('Failed to find cell for figure', id, fig);\n        return;\n    }\n    fig.cell_info[0].output_area.element.on(\n        'cleared',\n        { fig: fig },\n        fig._remove_fig_handler\n    );\n};\n\nmpl.figure.prototype.handle_close = function (fig, msg) {\n    var width = fig.canvas.width / fig.ratio;\n    fig.cell_info[0].output_area.element.off(\n        'cleared',\n        fig._remove_fig_handler\n    );\n    fig.resizeObserverInstance.unobserve(fig.canvas_div);\n\n    // Update the output cell to use the data from the current canvas.\n    fig.push_to_output();\n    var dataURL = fig.canvas.toDataURL();\n    // Re-enable the keyboard manager in IPython - without this line, in FF,\n    // the notebook keyboard shortcuts fail.\n    IPython.keyboard_manager.enable();\n    fig.parent_element.innerHTML =\n        '<img src=\"' + dataURL + '\" width=\"' + width + '\">';\n    fig.close_ws(fig, msg);\n};\n\nmpl.figure.prototype.close_ws = function (fig, msg) {\n    fig.send_message('closing', msg);\n    // fig.ws.close()\n};\n\nmpl.figure.prototype.push_to_output = function (_remove_interactive) {\n    // Turn the data on the canvas into data in the output cell.\n    var width = this.canvas.width / this.ratio;\n    var dataURL = this.canvas.toDataURL();\n    this.cell_info[1]['text/html'] =\n        '<img src=\"' + dataURL + '\" width=\"' + width + '\">';\n};\n\nmpl.figure.prototype.updated_canvas_event = function () {\n    // Tell IPython that the notebook contents must change.\n    IPython.notebook.set_dirty(true);\n    this.send_message('ack', {});\n    var fig = this;\n    // Wait a second, then push the new image to the DOM so\n    // that it is saved nicely (might be nice to debounce this).\n    setTimeout(function () {\n        fig.push_to_output();\n    }, 1000);\n};\n\nmpl.figure.prototype._init_toolbar = function () {\n    var fig = this;\n\n    var toolbar = document.createElement('div');\n    toolbar.classList = 'btn-toolbar';\n    this.root.appendChild(toolbar);\n\n    function on_click_closure(name) {\n        return function (_event) {\n            return fig.toolbar_button_onclick(name);\n        };\n    }\n\n    function on_mouseover_closure(tooltip) {\n        return function (event) {\n            if (!event.currentTarget.disabled) {\n                return fig.toolbar_button_onmouseover(tooltip);\n            }\n        };\n    }\n\n    fig.buttons = {};\n    var buttonGroup = document.createElement('div');\n    buttonGroup.classList = 'btn-group';\n    var button;\n    for (var toolbar_ind in mpl.toolbar_items) {\n        var name = mpl.toolbar_items[toolbar_ind][0];\n        var tooltip = mpl.toolbar_items[toolbar_ind][1];\n        var image = mpl.toolbar_items[toolbar_ind][2];\n        var method_name = mpl.toolbar_items[toolbar_ind][3];\n\n        if (!name) {\n            /* Instead of a spacer, we start a new button group. */\n            if (buttonGroup.hasChildNodes()) {\n                toolbar.appendChild(buttonGroup);\n            }\n            buttonGroup = document.createElement('div');\n            buttonGroup.classList = 'btn-group';\n            continue;\n        }\n\n        button = fig.buttons[name] = document.createElement('button');\n        button.classList = 'btn btn-default';\n        button.href = '#';\n        button.title = name;\n        button.innerHTML = '<i class=\"fa ' + image + ' fa-lg\"></i>';\n        button.addEventListener('click', on_click_closure(method_name));\n        button.addEventListener('mouseover', on_mouseover_closure(tooltip));\n        buttonGroup.appendChild(button);\n    }\n\n    if (buttonGroup.hasChildNodes()) {\n        toolbar.appendChild(buttonGroup);\n    }\n\n    // Add the status bar.\n    var status_bar = document.createElement('span');\n    status_bar.classList = 'mpl-message pull-right';\n    toolbar.appendChild(status_bar);\n    this.message = status_bar;\n\n    // Add the close button to the window.\n    var buttongrp = document.createElement('div');\n    buttongrp.classList = 'btn-group inline pull-right';\n    button = document.createElement('button');\n    button.classList = 'btn btn-mini btn-primary';\n    button.href = '#';\n    button.title = 'Stop Interaction';\n    button.innerHTML = '<i class=\"fa fa-power-off icon-remove icon-large\"></i>';\n    button.addEventListener('click', function (_evt) {\n        fig.handle_close(fig, {});\n    });\n    button.addEventListener(\n        'mouseover',\n        on_mouseover_closure('Stop Interaction')\n    );\n    buttongrp.appendChild(button);\n    var titlebar = this.root.querySelector('.ui-dialog-titlebar');\n    titlebar.insertBefore(buttongrp, titlebar.firstChild);\n};\n\nmpl.figure.prototype._remove_fig_handler = function (event) {\n    var fig = event.data.fig;\n    if (event.target !== this) {\n        // Ignore bubbled events from children.\n        return;\n    }\n    fig.close_ws(fig, {});\n};\n\nmpl.figure.prototype._root_extra_style = function (el) {\n    el.style.boxSizing = 'content-box'; // override notebook setting of border-box.\n};\n\nmpl.figure.prototype._canvas_extra_style = function (el) {\n    // this is important to make the div 'focusable\n    el.setAttribute('tabindex', 0);\n    // reach out to IPython and tell the keyboard manager to turn it's self\n    // off when our div gets focus\n\n    // location in version 3\n    if (IPython.notebook.keyboard_manager) {\n        IPython.notebook.keyboard_manager.register_events(el);\n    } else {\n        // location in version 2\n        IPython.keyboard_manager.register_events(el);\n    }\n};\n\nmpl.figure.prototype._key_event_extra = function (event, _name) {\n    var manager = IPython.notebook.keyboard_manager;\n    if (!manager) {\n        manager = IPython.keyboard_manager;\n    }\n\n    // Check for shift+enter\n    if (event.shiftKey && event.which === 13) {\n        this.canvas_div.blur();\n        // select the cell after this one\n        var index = IPython.notebook.find_cell_index(this.cell_info[0]);\n        IPython.notebook.select(index + 1);\n    }\n};\n\nmpl.figure.prototype.handle_save = function (fig, _msg) {\n    fig.ondownload(fig, null);\n};\n\nmpl.find_output_cell = function (html_output) {\n    // Return the cell and output element which can be found *uniquely* in the notebook.\n    // Note - this is a bit hacky, but it is done because the \"notebook_saving.Notebook\"\n    // IPython event is triggered only after the cells have been serialised, which for\n    // our purposes (turning an active figure into a static one), is too late.\n    var cells = IPython.notebook.get_cells();\n    var ncells = cells.length;\n    for (var i = 0; i < ncells; i++) {\n        var cell = cells[i];\n        if (cell.cell_type === 'code') {\n            for (var j = 0; j < cell.output_area.outputs.length; j++) {\n                var data = cell.output_area.outputs[j];\n                if (data.data) {\n                    // IPython >= 3 moved mimebundle to data attribute of output\n                    data = data.data;\n                }\n                if (data['text/html'] === html_output) {\n                    return [cell, data, j];\n                }\n            }\n        }\n    }\n};\n\n// Register the function which deals with the matplotlib target/channel.\n// The kernel may be null if the page has been refreshed.\nif (IPython.notebook.kernel !== null) {\n    IPython.notebook.kernel.comm_manager.register_target(\n        'matplotlib',\n        mpl.mpl_figure_comm\n    );\n}\n",
      "text/plain": [
       "<IPython.core.display.Javascript object>"
      ]
     },
     "metadata": {},
     "output_type": "display_data"
    },
    {
     "data": {
      "text/html": [
       "<div id='57ab297a-a790-4190-bb5a-183bfad529a8'></div>"
      ],
      "text/plain": [
       "<IPython.core.display.HTML object>"
      ]
     },
     "metadata": {},
     "output_type": "display_data"
    }
   ],
   "source": [
    "plt.figure(figsize = (7, 3))\n",
    "plot_cv_indices(cv, X, y, ax = plt.gca(), n_splits = N_FOLDS, cmap_cv = 'coolwarm')\n",
    "plt.tight_layout()"
   ]
  },
  {
   "cell_type": "markdown",
   "metadata": {},
   "source": [
    "## Step 2.2: Prepare features and target\n",
    "To avoid having always the same (and potentially biased) subsets of the data in the cross-validation, let's shuffle the entire dataset randomly:"
   ]
  },
  {
   "cell_type": "code",
   "execution_count": 17,
   "metadata": {},
   "outputs": [],
   "source": [
    "data_shuffled = data.sample( frac = 1 ) # Randomly sample from the entire dataset (i.e. reshuffle the data)"
   ]
  },
  {
   "cell_type": "markdown",
   "metadata": {},
   "source": [
    "**NOTE**: This step introduces additional randomness in the modelling, and means that your results will vary every time you run the script."
   ]
  },
  {
   "cell_type": "markdown",
   "metadata": {},
   "source": [
    "Now, we need to extract the features and targets again, from the shuffled dataset:"
   ]
  },
  {
   "cell_type": "code",
   "execution_count": 18,
   "metadata": {},
   "outputs": [],
   "source": [
    "# SOLUTION\n",
    "y = data_shuffled[ target_name ]   # Extract the target column\n",
    "X = data_shuffled[ features_list ] # Extract the list of features (later, we may reduce this list)"
   ]
  },
  {
   "cell_type": "markdown",
   "metadata": {},
   "source": [
    "Finally, we should standardize the data using the `scale` function:"
   ]
  },
  {
   "cell_type": "code",
   "execution_count": 19,
   "metadata": {},
   "outputs": [],
   "source": [
    "X_scaled = scale(X)"
   ]
  },
  {
   "cell_type": "markdown",
   "metadata": {},
   "source": [
    "Later, we will need to know the total number of features, so let's assign this value to the variable `n_features_all`:"
   ]
  },
  {
   "cell_type": "code",
   "execution_count": 20,
   "metadata": {},
   "outputs": [
    {
     "data": {
      "text/plain": [
       "18"
      ]
     },
     "execution_count": 20,
     "metadata": {},
     "output_type": "execute_result"
    }
   ],
   "source": [
    "n_features_all = X_scaled.shape[1]\n",
    "n_features_all"
   ]
  },
  {
   "cell_type": "markdown",
   "metadata": {},
   "source": [
    "## Step 2.3: Save new datasets"
   ]
  },
  {
   "cell_type": "code",
   "execution_count": 21,
   "metadata": {},
   "outputs": [],
   "source": [
    "data_shuffled.to_csv('training_shuffled.csv')"
   ]
  },
  {
   "cell_type": "code",
   "execution_count": 22,
   "metadata": {},
   "outputs": [],
   "source": [
    "data_scaled = pd.concat([ pd.DataFrame(X_scaled, columns = X.columns, index = X.index), # Dataframe for X_scaled\n",
    "                          y ], axis = 1)                                                # Append y horizontally"
   ]
  },
  {
   "cell_type": "code",
   "execution_count": 23,
   "metadata": {},
   "outputs": [],
   "source": [
    "# SOLUTION\n",
    "data_scaled.to_csv('training_scaled.csv')"
   ]
  },
  {
   "cell_type": "markdown",
   "metadata": {},
   "source": [
    "# Part 3 - Feature selection using KNN"
   ]
  },
  {
   "cell_type": "markdown",
   "metadata": {},
   "source": [
    "For the feature selection using KNN the following functions are needed:"
   ]
  },
  {
   "cell_type": "code",
   "execution_count": 24,
   "metadata": {},
   "outputs": [],
   "source": [
    "from sklearn.feature_selection import SelectKBest          # The feature selection module\n",
    "from sklearn.neighbors         import KNeighborsRegressor  # The KNN regression model\n",
    "from sklearn.model_selection   import cross_val_score      # The cross-validation function"
   ]
  },
  {
   "cell_type": "markdown",
   "metadata": {},
   "source": [
    "## Step 3.1: Feature selection - a first glance"
   ]
  },
  {
   "cell_type": "code",
   "execution_count": 25,
   "metadata": {},
   "outputs": [],
   "source": [
    "# Set up a SelectKBest instance with mutual information as decision criterion to return the 8 best features\n",
    "mutual_info = SelectKBest(mutual_info_regression, k = 8 )          # Initialise\n",
    "X_reduced   = mutual_info.fit_transform(X_scaled, y)               # Extract the best features"
   ]
  },
  {
   "cell_type": "code",
   "execution_count": 26,
   "metadata": {},
   "outputs": [
    {
     "data": {
      "text/plain": [
       "array([0.69914982, 0.77101024, 0.72083147, 0.73852281, 0.76932203])"
      ]
     },
     "execution_count": 26,
     "metadata": {},
     "output_type": "execute_result"
    }
   ],
   "source": [
    "knn      = KNeighborsRegressor() # Initiate model\n",
    "cv_score = cross_val_score(knn, X_reduced, y, cv = N_FOLDS)\n",
    "cv_score"
   ]
  },
  {
   "cell_type": "markdown",
   "metadata": {},
   "source": [
    "The `cv_score` shows the results for all folds, but often it is more informative to obtain the *mean* and *standard deviation* instead:"
   ]
  },
  {
   "cell_type": "code",
   "execution_count": 27,
   "metadata": {
    "scrolled": false
   },
   "outputs": [
    {
     "name": "stdout",
     "output_type": "stream",
     "text": [
      "0.7397672753774541\n",
      "0.027783078270940394\n"
     ]
    }
   ],
   "source": [
    "print( cv_score.mean() )\n",
    "print( cv_score.std() )"
   ]
  },
  {
   "cell_type": "markdown",
   "metadata": {},
   "source": [
    "##### Comparison with all features\n",
    "As a comparison, let's look at the score obtained from the default knn with *all* features:"
   ]
  },
  {
   "cell_type": "code",
   "execution_count": 28,
   "metadata": {},
   "outputs": [
    {
     "name": "stdout",
     "output_type": "stream",
     "text": [
      "0.6728433813934359\n",
      "0.017495786135978953\n"
     ]
    }
   ],
   "source": [
    "# Solution\n",
    "knn      = KNeighborsRegressor() # Initiate model\n",
    "cv_score = cross_val_score(knn, X_scaled, y, cv = N_FOLDS)\n",
    "\n",
    "print( cv_score.mean() )\n",
    "print( cv_score.std() )"
   ]
  },
  {
   "cell_type": "markdown",
   "metadata": {},
   "source": [
    "##### Comparison with default feature set (before feature transformation)\n",
    "Another comparison that we can perform is to the default dataset, i.e. before applying the feature transformation from Step 1.4. We have wrapped this analysis in the function `cross_val_score_default_knn()` (found in the lib_file.py). The default CV score (all features, no transformation) is:"
   ]
  },
  {
   "cell_type": "code",
   "execution_count": 29,
   "metadata": {},
   "outputs": [
    {
     "name": "stdout",
     "output_type": "stream",
     "text": [
      "0.505666303468904\n",
      "0.03045349442565308\n"
     ]
    }
   ],
   "source": [
    "cv_score = cross_val_score_default_knn()\n",
    "print( cv_score.mean() )\n",
    "print( cv_score.std() )"
   ]
  },
  {
   "cell_type": "markdown",
   "metadata": {},
   "source": [
    "## *Questions*\n",
    "- a. Which performance metric is used in the `cross_val_score` method? What does a score of 1 represent? What about a score of 0?\n",
    "- b. How is the performance of the model with the default feature set improved through feature transformation (with all features) and subsequently feature selection (keeping 8 features)?\n",
    "- c. What does this very first glance suggest about the importance of feature engineering (transformation, selection, etc.)?"
   ]
  },
  {
   "cell_type": "markdown",
   "metadata": {},
   "source": [
    "### *SOLUTION*\n",
    "- a. The cross_val_score uses the default `score`-method of the passed algorithm, i.e. the R2-coefficient of determination, which characterises the model's goodness of fit (i.e. the percentage of variance explained). A score of 1 represents a perfect model, with all variance explained. A score of 0 (or near-zero) represents complete randomness.\n",
    "- b. By feature transformation, the score is improved from around 0.5 to around 0.65, and by feature selection, it is further improved to above 0.75 - this is a significant improvement, **just by improving the data used for modelling, not by changing the model itself.**\n",
    "- c. Feature engineering is at least as important as the modelling process itself!"
   ]
  },
  {
   "cell_type": "markdown",
   "metadata": {},
   "source": [
    "## Step 3.2: Systematic feature selection"
   ]
  },
  {
   "cell_type": "code",
   "execution_count": 30,
   "metadata": {},
   "outputs": [
    {
     "data": {
      "text/plain": [
       "array([ 1,  2,  3,  4,  5,  6,  7,  8,  9, 10, 11, 12, 13, 14, 15, 16, 17,\n",
       "       18])"
      ]
     },
     "execution_count": 30,
     "metadata": {},
     "output_type": "execute_result"
    }
   ],
   "source": [
    "n_features = np.arange(1, n_features_all + 1) # Construct a list of all possible number of features\n",
    "n_features"
   ]
  },
  {
   "cell_type": "markdown",
   "metadata": {},
   "source": [
    "We next declare an empty dataframe that contains the k folds as rows, and the different number of features as columns:"
   ]
  },
  {
   "cell_type": "code",
   "execution_count": 31,
   "metadata": {},
   "outputs": [],
   "source": [
    "cv_featureSelect = pd.DataFrame(index = range(N_FOLDS), columns = n_features).fillna(0)\n",
    "cv_featureSelect.index.name   = 'CV iteration'\n",
    "cv_featureSelect.columns.name = 'Number of features'"
   ]
  },
  {
   "cell_type": "markdown",
   "metadata": {},
   "source": [
    "By iterating over all possible number of features, we compute the cross-validation scores for the default knn:"
   ]
  },
  {
   "cell_type": "code",
   "execution_count": 32,
   "metadata": {},
   "outputs": [],
   "source": [
    "# Iterate over all possible numbers of features\n",
    "for n in n_features: \n",
    "    # Extract the n best features\n",
    "    mutual_info = SelectKBest(mutual_info_regression, k = n )\n",
    "    X_reduced   = mutual_info.fit_transform(X_scaled, y)\n",
    "    \n",
    "    # Train a knn and score the performance with 5-fold cross-validation\n",
    "    knn = KNeighborsRegressor() # Initiate model\n",
    "    cv_featureSelect.loc[:,n] = cross_val_score(knn, X_reduced, y, cv = N_FOLDS)   "
   ]
  },
  {
   "cell_type": "markdown",
   "metadata": {},
   "source": [
    "This is the resulting dataframe:"
   ]
  },
  {
   "cell_type": "code",
   "execution_count": 33,
   "metadata": {},
   "outputs": [
    {
     "data": {
      "text/html": [
       "<div>\n",
       "<style scoped>\n",
       "    .dataframe tbody tr th:only-of-type {\n",
       "        vertical-align: middle;\n",
       "    }\n",
       "\n",
       "    .dataframe tbody tr th {\n",
       "        vertical-align: top;\n",
       "    }\n",
       "\n",
       "    .dataframe thead th {\n",
       "        text-align: right;\n",
       "    }\n",
       "</style>\n",
       "<table border=\"1\" class=\"dataframe\">\n",
       "  <thead>\n",
       "    <tr style=\"text-align: right;\">\n",
       "      <th>Number of features</th>\n",
       "      <th>1</th>\n",
       "      <th>2</th>\n",
       "      <th>3</th>\n",
       "      <th>4</th>\n",
       "      <th>5</th>\n",
       "      <th>6</th>\n",
       "      <th>7</th>\n",
       "      <th>8</th>\n",
       "      <th>9</th>\n",
       "      <th>10</th>\n",
       "      <th>11</th>\n",
       "      <th>12</th>\n",
       "      <th>13</th>\n",
       "      <th>14</th>\n",
       "      <th>15</th>\n",
       "      <th>16</th>\n",
       "      <th>17</th>\n",
       "      <th>18</th>\n",
       "    </tr>\n",
       "    <tr>\n",
       "      <th>CV iteration</th>\n",
       "      <th></th>\n",
       "      <th></th>\n",
       "      <th></th>\n",
       "      <th></th>\n",
       "      <th></th>\n",
       "      <th></th>\n",
       "      <th></th>\n",
       "      <th></th>\n",
       "      <th></th>\n",
       "      <th></th>\n",
       "      <th></th>\n",
       "      <th></th>\n",
       "      <th></th>\n",
       "      <th></th>\n",
       "      <th></th>\n",
       "      <th></th>\n",
       "      <th></th>\n",
       "      <th></th>\n",
       "    </tr>\n",
       "  </thead>\n",
       "  <tbody>\n",
       "    <tr>\n",
       "      <th>0</th>\n",
       "      <td>0.527</td>\n",
       "      <td>0.515</td>\n",
       "      <td>0.637</td>\n",
       "      <td>0.687</td>\n",
       "      <td>0.674</td>\n",
       "      <td>0.694</td>\n",
       "      <td>0.711</td>\n",
       "      <td>0.715</td>\n",
       "      <td>0.719</td>\n",
       "      <td>0.688</td>\n",
       "      <td>0.671</td>\n",
       "      <td>0.663</td>\n",
       "      <td>0.659</td>\n",
       "      <td>0.639</td>\n",
       "      <td>0.638</td>\n",
       "      <td>0.666</td>\n",
       "      <td>0.658</td>\n",
       "      <td>0.657</td>\n",
       "    </tr>\n",
       "    <tr>\n",
       "      <th>1</th>\n",
       "      <td>0.459</td>\n",
       "      <td>0.664</td>\n",
       "      <td>0.751</td>\n",
       "      <td>0.770</td>\n",
       "      <td>0.741</td>\n",
       "      <td>0.796</td>\n",
       "      <td>0.757</td>\n",
       "      <td>0.778</td>\n",
       "      <td>0.772</td>\n",
       "      <td>0.785</td>\n",
       "      <td>0.788</td>\n",
       "      <td>0.765</td>\n",
       "      <td>0.723</td>\n",
       "      <td>0.716</td>\n",
       "      <td>0.718</td>\n",
       "      <td>0.685</td>\n",
       "      <td>0.685</td>\n",
       "      <td>0.679</td>\n",
       "    </tr>\n",
       "    <tr>\n",
       "      <th>2</th>\n",
       "      <td>0.518</td>\n",
       "      <td>0.653</td>\n",
       "      <td>0.755</td>\n",
       "      <td>0.773</td>\n",
       "      <td>0.792</td>\n",
       "      <td>0.766</td>\n",
       "      <td>0.754</td>\n",
       "      <td>0.766</td>\n",
       "      <td>0.726</td>\n",
       "      <td>0.736</td>\n",
       "      <td>0.735</td>\n",
       "      <td>0.721</td>\n",
       "      <td>0.703</td>\n",
       "      <td>0.696</td>\n",
       "      <td>0.706</td>\n",
       "      <td>0.669</td>\n",
       "      <td>0.655</td>\n",
       "      <td>0.657</td>\n",
       "    </tr>\n",
       "    <tr>\n",
       "      <th>3</th>\n",
       "      <td>0.533</td>\n",
       "      <td>0.601</td>\n",
       "      <td>0.773</td>\n",
       "      <td>0.788</td>\n",
       "      <td>0.762</td>\n",
       "      <td>0.779</td>\n",
       "      <td>0.778</td>\n",
       "      <td>0.772</td>\n",
       "      <td>0.768</td>\n",
       "      <td>0.771</td>\n",
       "      <td>0.750</td>\n",
       "      <td>0.720</td>\n",
       "      <td>0.729</td>\n",
       "      <td>0.751</td>\n",
       "      <td>0.741</td>\n",
       "      <td>0.732</td>\n",
       "      <td>0.730</td>\n",
       "      <td>0.704</td>\n",
       "    </tr>\n",
       "    <tr>\n",
       "      <th>4</th>\n",
       "      <td>0.571</td>\n",
       "      <td>0.623</td>\n",
       "      <td>0.773</td>\n",
       "      <td>0.816</td>\n",
       "      <td>0.803</td>\n",
       "      <td>0.826</td>\n",
       "      <td>0.780</td>\n",
       "      <td>0.800</td>\n",
       "      <td>0.771</td>\n",
       "      <td>0.785</td>\n",
       "      <td>0.756</td>\n",
       "      <td>0.720</td>\n",
       "      <td>0.690</td>\n",
       "      <td>0.681</td>\n",
       "      <td>0.675</td>\n",
       "      <td>0.668</td>\n",
       "      <td>0.684</td>\n",
       "      <td>0.668</td>\n",
       "    </tr>\n",
       "  </tbody>\n",
       "</table>\n",
       "</div>"
      ],
      "text/plain": [
       "Number of features     1      2      3      4      5      6      7      8   \\\n",
       "CV iteration                                                                 \n",
       "0                   0.527  0.515  0.637  0.687  0.674  0.694  0.711  0.715   \n",
       "1                   0.459  0.664  0.751  0.770  0.741  0.796  0.757  0.778   \n",
       "2                   0.518  0.653  0.755  0.773  0.792  0.766  0.754  0.766   \n",
       "3                   0.533  0.601  0.773  0.788  0.762  0.779  0.778  0.772   \n",
       "4                   0.571  0.623  0.773  0.816  0.803  0.826  0.780  0.800   \n",
       "\n",
       "Number of features     9      10     11     12     13     14     15     16  \\\n",
       "CV iteration                                                                 \n",
       "0                   0.719  0.688  0.671  0.663  0.659  0.639  0.638  0.666   \n",
       "1                   0.772  0.785  0.788  0.765  0.723  0.716  0.718  0.685   \n",
       "2                   0.726  0.736  0.735  0.721  0.703  0.696  0.706  0.669   \n",
       "3                   0.768  0.771  0.750  0.720  0.729  0.751  0.741  0.732   \n",
       "4                   0.771  0.785  0.756  0.720  0.690  0.681  0.675  0.668   \n",
       "\n",
       "Number of features     17     18  \n",
       "CV iteration                      \n",
       "0                   0.658  0.657  \n",
       "1                   0.685  0.679  \n",
       "2                   0.655  0.657  \n",
       "3                   0.730  0.704  \n",
       "4                   0.684  0.668  "
      ]
     },
     "execution_count": 33,
     "metadata": {},
     "output_type": "execute_result"
    }
   ],
   "source": [
    "# Display the data\n",
    "cv_featureSelect.round(3)"
   ]
  },
  {
   "cell_type": "markdown",
   "metadata": {},
   "source": [
    "**NOTE**: Since the data is randomly shuffled before splitting, the results will deviate between different runs and from the solution!"
   ]
  },
  {
   "cell_type": "markdown",
   "metadata": {},
   "source": [
    "Let's compute, for each number of features, the mean and standard deviation, which we can visualise as a pandas dataframe:"
   ]
  },
  {
   "cell_type": "code",
   "execution_count": 34,
   "metadata": {},
   "outputs": [],
   "source": [
    "# Obtain cross-validation statistics\n",
    "cv_stats = pd.DataFrame( [ cv_featureSelect.mean().rename('mean'),    # compute mean across the k folds\n",
    "                           cv_featureSelect.std() .rename('std') ] )  # compute std. deviaiton across the k folds"
   ]
  },
  {
   "cell_type": "code",
   "execution_count": 35,
   "metadata": {},
   "outputs": [
    {
     "data": {
      "text/html": [
       "<style  type=\"text/css\" >\n",
       "#T_6e0c0_row0_col0{\n",
       "            background-color:  #379e54;\n",
       "            color:  #000000;\n",
       "        }#T_6e0c0_row0_col1{\n",
       "            background-color:  #187b3f;\n",
       "            color:  #f1f1f1;\n",
       "        }#T_6e0c0_row0_col2{\n",
       "            background-color:  #00512e;\n",
       "            color:  #f1f1f1;\n",
       "        }#T_6e0c0_row0_col3,#T_6e0c0_row0_col7{\n",
       "            background-color:  #004629;\n",
       "            color:  #f1f1f1;\n",
       "        }#T_6e0c0_row0_col4,#T_6e0c0_row0_col6{\n",
       "            background-color:  #004a2b;\n",
       "            color:  #f1f1f1;\n",
       "        }#T_6e0c0_row0_col5{\n",
       "            background-color:  #004529;\n",
       "            color:  #f1f1f1;\n",
       "        }#T_6e0c0_row0_col8{\n",
       "            background-color:  #004d2c;\n",
       "            color:  #f1f1f1;\n",
       "        }#T_6e0c0_row0_col9{\n",
       "            background-color:  #004c2c;\n",
       "            color:  #f1f1f1;\n",
       "        }#T_6e0c0_row0_col10{\n",
       "            background-color:  #00502d;\n",
       "            color:  #f1f1f1;\n",
       "        }#T_6e0c0_row0_col11{\n",
       "            background-color:  #005931;\n",
       "            color:  #f1f1f1;\n",
       "        }#T_6e0c0_row0_col12{\n",
       "            background-color:  #005f34;\n",
       "            color:  #f1f1f1;\n",
       "        }#T_6e0c0_row0_col13,#T_6e0c0_row0_col14{\n",
       "            background-color:  #006034;\n",
       "            color:  #f1f1f1;\n",
       "        }#T_6e0c0_row0_col15{\n",
       "            background-color:  #006536;\n",
       "            color:  #f1f1f1;\n",
       "        }#T_6e0c0_row0_col16{\n",
       "            background-color:  #006636;\n",
       "            color:  #f1f1f1;\n",
       "        }#T_6e0c0_row0_col17{\n",
       "            background-color:  #016937;\n",
       "            color:  #f1f1f1;\n",
       "        }#T_6e0c0_row1_col0,#T_6e0c0_row1_col9,#T_6e0c0_row1_col10,#T_6e0c0_row1_col13{\n",
       "            background-color:  #fdfedb;\n",
       "            color:  #000000;\n",
       "        }#T_6e0c0_row1_col1{\n",
       "            background-color:  #fcfed3;\n",
       "            color:  #000000;\n",
       "        }#T_6e0c0_row1_col2{\n",
       "            background-color:  #fcfed4;\n",
       "            color:  #000000;\n",
       "        }#T_6e0c0_row1_col3{\n",
       "            background-color:  #fdfed9;\n",
       "            color:  #000000;\n",
       "        }#T_6e0c0_row1_col4,#T_6e0c0_row1_col5{\n",
       "            background-color:  #fcfed7;\n",
       "            color:  #000000;\n",
       "        }#T_6e0c0_row1_col6,#T_6e0c0_row1_col8,#T_6e0c0_row1_col12,#T_6e0c0_row1_col15{\n",
       "            background-color:  #feffe2;\n",
       "            color:  #000000;\n",
       "        }#T_6e0c0_row1_col7,#T_6e0c0_row1_col16{\n",
       "            background-color:  #feffe1;\n",
       "            color:  #000000;\n",
       "        }#T_6e0c0_row1_col11{\n",
       "            background-color:  #feffde;\n",
       "            color:  #000000;\n",
       "        }#T_6e0c0_row1_col14{\n",
       "            background-color:  #fdfedd;\n",
       "            color:  #000000;\n",
       "        }#T_6e0c0_row1_col17{\n",
       "            background-color:  #ffffe5;\n",
       "            color:  #000000;\n",
       "        }</style><table id=\"T_6e0c0_\" ><thead>    <tr>        <th class=\"index_name level0\" >Number of features</th>        <th class=\"col_heading level0 col0\" >1</th>        <th class=\"col_heading level0 col1\" >2</th>        <th class=\"col_heading level0 col2\" >3</th>        <th class=\"col_heading level0 col3\" >4</th>        <th class=\"col_heading level0 col4\" >5</th>        <th class=\"col_heading level0 col5\" >6</th>        <th class=\"col_heading level0 col6\" >7</th>        <th class=\"col_heading level0 col7\" >8</th>        <th class=\"col_heading level0 col8\" >9</th>        <th class=\"col_heading level0 col9\" >10</th>        <th class=\"col_heading level0 col10\" >11</th>        <th class=\"col_heading level0 col11\" >12</th>        <th class=\"col_heading level0 col12\" >13</th>        <th class=\"col_heading level0 col13\" >14</th>        <th class=\"col_heading level0 col14\" >15</th>        <th class=\"col_heading level0 col15\" >16</th>        <th class=\"col_heading level0 col16\" >17</th>        <th class=\"col_heading level0 col17\" >18</th>    </tr></thead><tbody>\n",
       "                <tr>\n",
       "                        <th id=\"T_6e0c0_level0_row0\" class=\"row_heading level0 row0\" >mean</th>\n",
       "                        <td id=\"T_6e0c0_row0_col0\" class=\"data row0 col0\" >0.522</td>\n",
       "                        <td id=\"T_6e0c0_row0_col1\" class=\"data row0 col1\" >0.611</td>\n",
       "                        <td id=\"T_6e0c0_row0_col2\" class=\"data row0 col2\" >0.738</td>\n",
       "                        <td id=\"T_6e0c0_row0_col3\" class=\"data row0 col3\" >0.767</td>\n",
       "                        <td id=\"T_6e0c0_row0_col4\" class=\"data row0 col4\" >0.754</td>\n",
       "                        <td id=\"T_6e0c0_row0_col5\" class=\"data row0 col5\" >0.772</td>\n",
       "                        <td id=\"T_6e0c0_row0_col6\" class=\"data row0 col6\" >0.756</td>\n",
       "                        <td id=\"T_6e0c0_row0_col7\" class=\"data row0 col7\" >0.766</td>\n",
       "                        <td id=\"T_6e0c0_row0_col8\" class=\"data row0 col8\" >0.751</td>\n",
       "                        <td id=\"T_6e0c0_row0_col9\" class=\"data row0 col9\" >0.753</td>\n",
       "                        <td id=\"T_6e0c0_row0_col10\" class=\"data row0 col10\" >0.74</td>\n",
       "                        <td id=\"T_6e0c0_row0_col11\" class=\"data row0 col11\" >0.718</td>\n",
       "                        <td id=\"T_6e0c0_row0_col12\" class=\"data row0 col12\" >0.701</td>\n",
       "                        <td id=\"T_6e0c0_row0_col13\" class=\"data row0 col13\" >0.697</td>\n",
       "                        <td id=\"T_6e0c0_row0_col14\" class=\"data row0 col14\" >0.696</td>\n",
       "                        <td id=\"T_6e0c0_row0_col15\" class=\"data row0 col15\" >0.684</td>\n",
       "                        <td id=\"T_6e0c0_row0_col16\" class=\"data row0 col16\" >0.682</td>\n",
       "                        <td id=\"T_6e0c0_row0_col17\" class=\"data row0 col17\" >0.673</td>\n",
       "            </tr>\n",
       "            <tr>\n",
       "                        <th id=\"T_6e0c0_level0_row1\" class=\"row_heading level0 row1\" >std</th>\n",
       "                        <td id=\"T_6e0c0_row1_col0\" class=\"data row1 col0\" >0.0404</td>\n",
       "                        <td id=\"T_6e0c0_row1_col1\" class=\"data row1 col1\" >0.0594</td>\n",
       "                        <td id=\"T_6e0c0_row1_col2\" class=\"data row1 col2\" >0.0575</td>\n",
       "                        <td id=\"T_6e0c0_row1_col3\" class=\"data row1 col3\" >0.048</td>\n",
       "                        <td id=\"T_6e0c0_row1_col4\" class=\"data row1 col4\" >0.0513</td>\n",
       "                        <td id=\"T_6e0c0_row1_col5\" class=\"data row1 col5\" >0.0491</td>\n",
       "                        <td id=\"T_6e0c0_row1_col6\" class=\"data row1 col6\" >0.0277</td>\n",
       "                        <td id=\"T_6e0c0_row1_col7\" class=\"data row1 col7\" >0.0312</td>\n",
       "                        <td id=\"T_6e0c0_row1_col8\" class=\"data row1 col8\" >0.0265</td>\n",
       "                        <td id=\"T_6e0c0_row1_col9\" class=\"data row1 col9\" >0.0416</td>\n",
       "                        <td id=\"T_6e0c0_row1_col10\" class=\"data row1 col10\" >0.0429</td>\n",
       "                        <td id=\"T_6e0c0_row1_col11\" class=\"data row1 col11\" >0.036</td>\n",
       "                        <td id=\"T_6e0c0_row1_col12\" class=\"data row1 col12\" >0.0282</td>\n",
       "                        <td id=\"T_6e0c0_row1_col13\" class=\"data row1 col13\" >0.0417</td>\n",
       "                        <td id=\"T_6e0c0_row1_col14\" class=\"data row1 col14\" >0.0401</td>\n",
       "                        <td id=\"T_6e0c0_row1_col15\" class=\"data row1 col15\" >0.0277</td>\n",
       "                        <td id=\"T_6e0c0_row1_col16\" class=\"data row1 col16\" >0.03</td>\n",
       "                        <td id=\"T_6e0c0_row1_col17\" class=\"data row1 col17\" >0.0196</td>\n",
       "            </tr>\n",
       "    </tbody></table>"
      ],
      "text/plain": [
       "<pandas.io.formats.style.Styler at 0x187d06a6a30>"
      ]
     },
     "execution_count": 35,
     "metadata": {},
     "output_type": "execute_result"
    }
   ],
   "source": [
    "# Visualise dataframe with formatting\n",
    "format_df( cv_stats, cmap='YlGn', decimals = 3)"
   ]
  },
  {
   "cell_type": "markdown",
   "metadata": {},
   "source": [
    "The performance of the KNN can also be visualised as a plot with errorbars:"
   ]
  },
  {
   "cell_type": "code",
   "execution_count": 36,
   "metadata": {},
   "outputs": [
    {
     "data": {
      "application/javascript": "/* Put everything inside the global mpl namespace */\n/* global mpl */\nwindow.mpl = {};\n\nmpl.get_websocket_type = function () {\n    if (typeof WebSocket !== 'undefined') {\n        return WebSocket;\n    } else if (typeof MozWebSocket !== 'undefined') {\n        return MozWebSocket;\n    } else {\n        alert(\n            'Your browser does not have WebSocket support. ' +\n                'Please try Chrome, Safari or Firefox ≥ 6. ' +\n                'Firefox 4 and 5 are also supported but you ' +\n                'have to enable WebSockets in about:config.'\n        );\n    }\n};\n\nmpl.figure = function (figure_id, websocket, ondownload, parent_element) {\n    this.id = figure_id;\n\n    this.ws = websocket;\n\n    this.supports_binary = this.ws.binaryType !== undefined;\n\n    if (!this.supports_binary) {\n        var warnings = document.getElementById('mpl-warnings');\n        if (warnings) {\n            warnings.style.display = 'block';\n            warnings.textContent =\n                'This browser does not support binary websocket messages. ' +\n                'Performance may be slow.';\n        }\n    }\n\n    this.imageObj = new Image();\n\n    this.context = undefined;\n    this.message = undefined;\n    this.canvas = undefined;\n    this.rubberband_canvas = undefined;\n    this.rubberband_context = undefined;\n    this.format_dropdown = undefined;\n\n    this.image_mode = 'full';\n\n    this.root = document.createElement('div');\n    this.root.setAttribute('style', 'display: inline-block');\n    this._root_extra_style(this.root);\n\n    parent_element.appendChild(this.root);\n\n    this._init_header(this);\n    this._init_canvas(this);\n    this._init_toolbar(this);\n\n    var fig = this;\n\n    this.waiting = false;\n\n    this.ws.onopen = function () {\n        fig.send_message('supports_binary', { value: fig.supports_binary });\n        fig.send_message('send_image_mode', {});\n        if (fig.ratio !== 1) {\n            fig.send_message('set_dpi_ratio', { dpi_ratio: fig.ratio });\n        }\n        fig.send_message('refresh', {});\n    };\n\n    this.imageObj.onload = function () {\n        if (fig.image_mode === 'full') {\n            // Full images could contain transparency (where diff images\n            // almost always do), so we need to clear the canvas so that\n            // there is no ghosting.\n            fig.context.clearRect(0, 0, fig.canvas.width, fig.canvas.height);\n        }\n        fig.context.drawImage(fig.imageObj, 0, 0);\n    };\n\n    this.imageObj.onunload = function () {\n        fig.ws.close();\n    };\n\n    this.ws.onmessage = this._make_on_message_function(this);\n\n    this.ondownload = ondownload;\n};\n\nmpl.figure.prototype._init_header = function () {\n    var titlebar = document.createElement('div');\n    titlebar.classList =\n        'ui-dialog-titlebar ui-widget-header ui-corner-all ui-helper-clearfix';\n    var titletext = document.createElement('div');\n    titletext.classList = 'ui-dialog-title';\n    titletext.setAttribute(\n        'style',\n        'width: 100%; text-align: center; padding: 3px;'\n    );\n    titlebar.appendChild(titletext);\n    this.root.appendChild(titlebar);\n    this.header = titletext;\n};\n\nmpl.figure.prototype._canvas_extra_style = function (_canvas_div) {};\n\nmpl.figure.prototype._root_extra_style = function (_canvas_div) {};\n\nmpl.figure.prototype._init_canvas = function () {\n    var fig = this;\n\n    var canvas_div = (this.canvas_div = document.createElement('div'));\n    canvas_div.setAttribute(\n        'style',\n        'border: 1px solid #ddd;' +\n            'box-sizing: content-box;' +\n            'clear: both;' +\n            'min-height: 1px;' +\n            'min-width: 1px;' +\n            'outline: 0;' +\n            'overflow: hidden;' +\n            'position: relative;' +\n            'resize: both;'\n    );\n\n    function on_keyboard_event_closure(name) {\n        return function (event) {\n            return fig.key_event(event, name);\n        };\n    }\n\n    canvas_div.addEventListener(\n        'keydown',\n        on_keyboard_event_closure('key_press')\n    );\n    canvas_div.addEventListener(\n        'keyup',\n        on_keyboard_event_closure('key_release')\n    );\n\n    this._canvas_extra_style(canvas_div);\n    this.root.appendChild(canvas_div);\n\n    var canvas = (this.canvas = document.createElement('canvas'));\n    canvas.classList.add('mpl-canvas');\n    canvas.setAttribute('style', 'box-sizing: content-box;');\n\n    this.context = canvas.getContext('2d');\n\n    var backingStore =\n        this.context.backingStorePixelRatio ||\n        this.context.webkitBackingStorePixelRatio ||\n        this.context.mozBackingStorePixelRatio ||\n        this.context.msBackingStorePixelRatio ||\n        this.context.oBackingStorePixelRatio ||\n        this.context.backingStorePixelRatio ||\n        1;\n\n    this.ratio = (window.devicePixelRatio || 1) / backingStore;\n\n    var rubberband_canvas = (this.rubberband_canvas = document.createElement(\n        'canvas'\n    ));\n    rubberband_canvas.setAttribute(\n        'style',\n        'box-sizing: content-box; position: absolute; left: 0; top: 0; z-index: 1;'\n    );\n\n    // Apply a ponyfill if ResizeObserver is not implemented by browser.\n    if (this.ResizeObserver === undefined) {\n        if (window.ResizeObserver !== undefined) {\n            this.ResizeObserver = window.ResizeObserver;\n        } else {\n            var obs = _JSXTOOLS_RESIZE_OBSERVER({});\n            this.ResizeObserver = obs.ResizeObserver;\n        }\n    }\n\n    this.resizeObserverInstance = new this.ResizeObserver(function (entries) {\n        var nentries = entries.length;\n        for (var i = 0; i < nentries; i++) {\n            var entry = entries[i];\n            var width, height;\n            if (entry.contentBoxSize) {\n                if (entry.contentBoxSize instanceof Array) {\n                    // Chrome 84 implements new version of spec.\n                    width = entry.contentBoxSize[0].inlineSize;\n                    height = entry.contentBoxSize[0].blockSize;\n                } else {\n                    // Firefox implements old version of spec.\n                    width = entry.contentBoxSize.inlineSize;\n                    height = entry.contentBoxSize.blockSize;\n                }\n            } else {\n                // Chrome <84 implements even older version of spec.\n                width = entry.contentRect.width;\n                height = entry.contentRect.height;\n            }\n\n            // Keep the size of the canvas and rubber band canvas in sync with\n            // the canvas container.\n            if (entry.devicePixelContentBoxSize) {\n                // Chrome 84 implements new version of spec.\n                canvas.setAttribute(\n                    'width',\n                    entry.devicePixelContentBoxSize[0].inlineSize\n                );\n                canvas.setAttribute(\n                    'height',\n                    entry.devicePixelContentBoxSize[0].blockSize\n                );\n            } else {\n                canvas.setAttribute('width', width * fig.ratio);\n                canvas.setAttribute('height', height * fig.ratio);\n            }\n            canvas.setAttribute(\n                'style',\n                'width: ' + width + 'px; height: ' + height + 'px;'\n            );\n\n            rubberband_canvas.setAttribute('width', width);\n            rubberband_canvas.setAttribute('height', height);\n\n            // And update the size in Python. We ignore the initial 0/0 size\n            // that occurs as the element is placed into the DOM, which should\n            // otherwise not happen due to the minimum size styling.\n            if (fig.ws.readyState == 1 && width != 0 && height != 0) {\n                fig.request_resize(width, height);\n            }\n        }\n    });\n    this.resizeObserverInstance.observe(canvas_div);\n\n    function on_mouse_event_closure(name) {\n        return function (event) {\n            return fig.mouse_event(event, name);\n        };\n    }\n\n    rubberband_canvas.addEventListener(\n        'mousedown',\n        on_mouse_event_closure('button_press')\n    );\n    rubberband_canvas.addEventListener(\n        'mouseup',\n        on_mouse_event_closure('button_release')\n    );\n    // Throttle sequential mouse events to 1 every 20ms.\n    rubberband_canvas.addEventListener(\n        'mousemove',\n        on_mouse_event_closure('motion_notify')\n    );\n\n    rubberband_canvas.addEventListener(\n        'mouseenter',\n        on_mouse_event_closure('figure_enter')\n    );\n    rubberband_canvas.addEventListener(\n        'mouseleave',\n        on_mouse_event_closure('figure_leave')\n    );\n\n    canvas_div.addEventListener('wheel', function (event) {\n        if (event.deltaY < 0) {\n            event.step = 1;\n        } else {\n            event.step = -1;\n        }\n        on_mouse_event_closure('scroll')(event);\n    });\n\n    canvas_div.appendChild(canvas);\n    canvas_div.appendChild(rubberband_canvas);\n\n    this.rubberband_context = rubberband_canvas.getContext('2d');\n    this.rubberband_context.strokeStyle = '#000000';\n\n    this._resize_canvas = function (width, height, forward) {\n        if (forward) {\n            canvas_div.style.width = width + 'px';\n            canvas_div.style.height = height + 'px';\n        }\n    };\n\n    // Disable right mouse context menu.\n    this.rubberband_canvas.addEventListener('contextmenu', function (_e) {\n        event.preventDefault();\n        return false;\n    });\n\n    function set_focus() {\n        canvas.focus();\n        canvas_div.focus();\n    }\n\n    window.setTimeout(set_focus, 100);\n};\n\nmpl.figure.prototype._init_toolbar = function () {\n    var fig = this;\n\n    var toolbar = document.createElement('div');\n    toolbar.classList = 'mpl-toolbar';\n    this.root.appendChild(toolbar);\n\n    function on_click_closure(name) {\n        return function (_event) {\n            return fig.toolbar_button_onclick(name);\n        };\n    }\n\n    function on_mouseover_closure(tooltip) {\n        return function (event) {\n            if (!event.currentTarget.disabled) {\n                return fig.toolbar_button_onmouseover(tooltip);\n            }\n        };\n    }\n\n    fig.buttons = {};\n    var buttonGroup = document.createElement('div');\n    buttonGroup.classList = 'mpl-button-group';\n    for (var toolbar_ind in mpl.toolbar_items) {\n        var name = mpl.toolbar_items[toolbar_ind][0];\n        var tooltip = mpl.toolbar_items[toolbar_ind][1];\n        var image = mpl.toolbar_items[toolbar_ind][2];\n        var method_name = mpl.toolbar_items[toolbar_ind][3];\n\n        if (!name) {\n            /* Instead of a spacer, we start a new button group. */\n            if (buttonGroup.hasChildNodes()) {\n                toolbar.appendChild(buttonGroup);\n            }\n            buttonGroup = document.createElement('div');\n            buttonGroup.classList = 'mpl-button-group';\n            continue;\n        }\n\n        var button = (fig.buttons[name] = document.createElement('button'));\n        button.classList = 'mpl-widget';\n        button.setAttribute('role', 'button');\n        button.setAttribute('aria-disabled', 'false');\n        button.addEventListener('click', on_click_closure(method_name));\n        button.addEventListener('mouseover', on_mouseover_closure(tooltip));\n\n        var icon_img = document.createElement('img');\n        icon_img.src = '_images/' + image + '.png';\n        icon_img.srcset = '_images/' + image + '_large.png 2x';\n        icon_img.alt = tooltip;\n        button.appendChild(icon_img);\n\n        buttonGroup.appendChild(button);\n    }\n\n    if (buttonGroup.hasChildNodes()) {\n        toolbar.appendChild(buttonGroup);\n    }\n\n    var fmt_picker = document.createElement('select');\n    fmt_picker.classList = 'mpl-widget';\n    toolbar.appendChild(fmt_picker);\n    this.format_dropdown = fmt_picker;\n\n    for (var ind in mpl.extensions) {\n        var fmt = mpl.extensions[ind];\n        var option = document.createElement('option');\n        option.selected = fmt === mpl.default_extension;\n        option.innerHTML = fmt;\n        fmt_picker.appendChild(option);\n    }\n\n    var status_bar = document.createElement('span');\n    status_bar.classList = 'mpl-message';\n    toolbar.appendChild(status_bar);\n    this.message = status_bar;\n};\n\nmpl.figure.prototype.request_resize = function (x_pixels, y_pixels) {\n    // Request matplotlib to resize the figure. Matplotlib will then trigger a resize in the client,\n    // which will in turn request a refresh of the image.\n    this.send_message('resize', { width: x_pixels, height: y_pixels });\n};\n\nmpl.figure.prototype.send_message = function (type, properties) {\n    properties['type'] = type;\n    properties['figure_id'] = this.id;\n    this.ws.send(JSON.stringify(properties));\n};\n\nmpl.figure.prototype.send_draw_message = function () {\n    if (!this.waiting) {\n        this.waiting = true;\n        this.ws.send(JSON.stringify({ type: 'draw', figure_id: this.id }));\n    }\n};\n\nmpl.figure.prototype.handle_save = function (fig, _msg) {\n    var format_dropdown = fig.format_dropdown;\n    var format = format_dropdown.options[format_dropdown.selectedIndex].value;\n    fig.ondownload(fig, format);\n};\n\nmpl.figure.prototype.handle_resize = function (fig, msg) {\n    var size = msg['size'];\n    if (size[0] !== fig.canvas.width || size[1] !== fig.canvas.height) {\n        fig._resize_canvas(size[0], size[1], msg['forward']);\n        fig.send_message('refresh', {});\n    }\n};\n\nmpl.figure.prototype.handle_rubberband = function (fig, msg) {\n    var x0 = msg['x0'] / fig.ratio;\n    var y0 = (fig.canvas.height - msg['y0']) / fig.ratio;\n    var x1 = msg['x1'] / fig.ratio;\n    var y1 = (fig.canvas.height - msg['y1']) / fig.ratio;\n    x0 = Math.floor(x0) + 0.5;\n    y0 = Math.floor(y0) + 0.5;\n    x1 = Math.floor(x1) + 0.5;\n    y1 = Math.floor(y1) + 0.5;\n    var min_x = Math.min(x0, x1);\n    var min_y = Math.min(y0, y1);\n    var width = Math.abs(x1 - x0);\n    var height = Math.abs(y1 - y0);\n\n    fig.rubberband_context.clearRect(\n        0,\n        0,\n        fig.canvas.width / fig.ratio,\n        fig.canvas.height / fig.ratio\n    );\n\n    fig.rubberband_context.strokeRect(min_x, min_y, width, height);\n};\n\nmpl.figure.prototype.handle_figure_label = function (fig, msg) {\n    // Updates the figure title.\n    fig.header.textContent = msg['label'];\n};\n\nmpl.figure.prototype.handle_cursor = function (fig, msg) {\n    var cursor = msg['cursor'];\n    switch (cursor) {\n        case 0:\n            cursor = 'pointer';\n            break;\n        case 1:\n            cursor = 'default';\n            break;\n        case 2:\n            cursor = 'crosshair';\n            break;\n        case 3:\n            cursor = 'move';\n            break;\n    }\n    fig.rubberband_canvas.style.cursor = cursor;\n};\n\nmpl.figure.prototype.handle_message = function (fig, msg) {\n    fig.message.textContent = msg['message'];\n};\n\nmpl.figure.prototype.handle_draw = function (fig, _msg) {\n    // Request the server to send over a new figure.\n    fig.send_draw_message();\n};\n\nmpl.figure.prototype.handle_image_mode = function (fig, msg) {\n    fig.image_mode = msg['mode'];\n};\n\nmpl.figure.prototype.handle_history_buttons = function (fig, msg) {\n    for (var key in msg) {\n        if (!(key in fig.buttons)) {\n            continue;\n        }\n        fig.buttons[key].disabled = !msg[key];\n        fig.buttons[key].setAttribute('aria-disabled', !msg[key]);\n    }\n};\n\nmpl.figure.prototype.handle_navigate_mode = function (fig, msg) {\n    if (msg['mode'] === 'PAN') {\n        fig.buttons['Pan'].classList.add('active');\n        fig.buttons['Zoom'].classList.remove('active');\n    } else if (msg['mode'] === 'ZOOM') {\n        fig.buttons['Pan'].classList.remove('active');\n        fig.buttons['Zoom'].classList.add('active');\n    } else {\n        fig.buttons['Pan'].classList.remove('active');\n        fig.buttons['Zoom'].classList.remove('active');\n    }\n};\n\nmpl.figure.prototype.updated_canvas_event = function () {\n    // Called whenever the canvas gets updated.\n    this.send_message('ack', {});\n};\n\n// A function to construct a web socket function for onmessage handling.\n// Called in the figure constructor.\nmpl.figure.prototype._make_on_message_function = function (fig) {\n    return function socket_on_message(evt) {\n        if (evt.data instanceof Blob) {\n            /* FIXME: We get \"Resource interpreted as Image but\n             * transferred with MIME type text/plain:\" errors on\n             * Chrome.  But how to set the MIME type?  It doesn't seem\n             * to be part of the websocket stream */\n            evt.data.type = 'image/png';\n\n            /* Free the memory for the previous frames */\n            if (fig.imageObj.src) {\n                (window.URL || window.webkitURL).revokeObjectURL(\n                    fig.imageObj.src\n                );\n            }\n\n            fig.imageObj.src = (window.URL || window.webkitURL).createObjectURL(\n                evt.data\n            );\n            fig.updated_canvas_event();\n            fig.waiting = false;\n            return;\n        } else if (\n            typeof evt.data === 'string' &&\n            evt.data.slice(0, 21) === 'data:image/png;base64'\n        ) {\n            fig.imageObj.src = evt.data;\n            fig.updated_canvas_event();\n            fig.waiting = false;\n            return;\n        }\n\n        var msg = JSON.parse(evt.data);\n        var msg_type = msg['type'];\n\n        // Call the  \"handle_{type}\" callback, which takes\n        // the figure and JSON message as its only arguments.\n        try {\n            var callback = fig['handle_' + msg_type];\n        } catch (e) {\n            console.log(\n                \"No handler for the '\" + msg_type + \"' message type: \",\n                msg\n            );\n            return;\n        }\n\n        if (callback) {\n            try {\n                // console.log(\"Handling '\" + msg_type + \"' message: \", msg);\n                callback(fig, msg);\n            } catch (e) {\n                console.log(\n                    \"Exception inside the 'handler_\" + msg_type + \"' callback:\",\n                    e,\n                    e.stack,\n                    msg\n                );\n            }\n        }\n    };\n};\n\n// from http://stackoverflow.com/questions/1114465/getting-mouse-location-in-canvas\nmpl.findpos = function (e) {\n    //this section is from http://www.quirksmode.org/js/events_properties.html\n    var targ;\n    if (!e) {\n        e = window.event;\n    }\n    if (e.target) {\n        targ = e.target;\n    } else if (e.srcElement) {\n        targ = e.srcElement;\n    }\n    if (targ.nodeType === 3) {\n        // defeat Safari bug\n        targ = targ.parentNode;\n    }\n\n    // pageX,Y are the mouse positions relative to the document\n    var boundingRect = targ.getBoundingClientRect();\n    var x = e.pageX - (boundingRect.left + document.body.scrollLeft);\n    var y = e.pageY - (boundingRect.top + document.body.scrollTop);\n\n    return { x: x, y: y };\n};\n\n/*\n * return a copy of an object with only non-object keys\n * we need this to avoid circular references\n * http://stackoverflow.com/a/24161582/3208463\n */\nfunction simpleKeys(original) {\n    return Object.keys(original).reduce(function (obj, key) {\n        if (typeof original[key] !== 'object') {\n            obj[key] = original[key];\n        }\n        return obj;\n    }, {});\n}\n\nmpl.figure.prototype.mouse_event = function (event, name) {\n    var canvas_pos = mpl.findpos(event);\n\n    if (name === 'button_press') {\n        this.canvas.focus();\n        this.canvas_div.focus();\n    }\n\n    var x = canvas_pos.x * this.ratio;\n    var y = canvas_pos.y * this.ratio;\n\n    this.send_message(name, {\n        x: x,\n        y: y,\n        button: event.button,\n        step: event.step,\n        guiEvent: simpleKeys(event),\n    });\n\n    /* This prevents the web browser from automatically changing to\n     * the text insertion cursor when the button is pressed.  We want\n     * to control all of the cursor setting manually through the\n     * 'cursor' event from matplotlib */\n    event.preventDefault();\n    return false;\n};\n\nmpl.figure.prototype._key_event_extra = function (_event, _name) {\n    // Handle any extra behaviour associated with a key event\n};\n\nmpl.figure.prototype.key_event = function (event, name) {\n    // Prevent repeat events\n    if (name === 'key_press') {\n        if (event.which === this._key) {\n            return;\n        } else {\n            this._key = event.which;\n        }\n    }\n    if (name === 'key_release') {\n        this._key = null;\n    }\n\n    var value = '';\n    if (event.ctrlKey && event.which !== 17) {\n        value += 'ctrl+';\n    }\n    if (event.altKey && event.which !== 18) {\n        value += 'alt+';\n    }\n    if (event.shiftKey && event.which !== 16) {\n        value += 'shift+';\n    }\n\n    value += 'k';\n    value += event.which.toString();\n\n    this._key_event_extra(event, name);\n\n    this.send_message(name, { key: value, guiEvent: simpleKeys(event) });\n    return false;\n};\n\nmpl.figure.prototype.toolbar_button_onclick = function (name) {\n    if (name === 'download') {\n        this.handle_save(this, null);\n    } else {\n        this.send_message('toolbar_button', { name: name });\n    }\n};\n\nmpl.figure.prototype.toolbar_button_onmouseover = function (tooltip) {\n    this.message.textContent = tooltip;\n};\n\n///////////////// REMAINING CONTENT GENERATED BY embed_js.py /////////////////\n// prettier-ignore\nvar _JSXTOOLS_RESIZE_OBSERVER=function(A){var t,i=new WeakMap,n=new WeakMap,a=new WeakMap,r=new WeakMap,o=new Set;function s(e){if(!(this instanceof s))throw new TypeError(\"Constructor requires 'new' operator\");i.set(this,e)}function h(){throw new TypeError(\"Function is not a constructor\")}function c(e,t,i,n){e=0 in arguments?Number(arguments[0]):0,t=1 in arguments?Number(arguments[1]):0,i=2 in arguments?Number(arguments[2]):0,n=3 in arguments?Number(arguments[3]):0,this.right=(this.x=this.left=e)+(this.width=i),this.bottom=(this.y=this.top=t)+(this.height=n),Object.freeze(this)}function d(){t=requestAnimationFrame(d);var s=new WeakMap,p=new Set;o.forEach((function(t){r.get(t).forEach((function(i){var r=t instanceof window.SVGElement,o=a.get(t),d=r?0:parseFloat(o.paddingTop),f=r?0:parseFloat(o.paddingRight),l=r?0:parseFloat(o.paddingBottom),u=r?0:parseFloat(o.paddingLeft),g=r?0:parseFloat(o.borderTopWidth),m=r?0:parseFloat(o.borderRightWidth),w=r?0:parseFloat(o.borderBottomWidth),b=u+f,F=d+l,v=(r?0:parseFloat(o.borderLeftWidth))+m,W=g+w,y=r?0:t.offsetHeight-W-t.clientHeight,E=r?0:t.offsetWidth-v-t.clientWidth,R=b+v,z=F+W,M=r?t.width:parseFloat(o.width)-R-E,O=r?t.height:parseFloat(o.height)-z-y;if(n.has(t)){var k=n.get(t);if(k[0]===M&&k[1]===O)return}n.set(t,[M,O]);var S=Object.create(h.prototype);S.target=t,S.contentRect=new c(u,d,M,O),s.has(i)||(s.set(i,[]),p.add(i)),s.get(i).push(S)}))})),p.forEach((function(e){i.get(e).call(e,s.get(e),e)}))}return s.prototype.observe=function(i){if(i instanceof window.Element){r.has(i)||(r.set(i,new Set),o.add(i),a.set(i,window.getComputedStyle(i)));var n=r.get(i);n.has(this)||n.add(this),cancelAnimationFrame(t),t=requestAnimationFrame(d)}},s.prototype.unobserve=function(i){if(i instanceof window.Element&&r.has(i)){var n=r.get(i);n.has(this)&&(n.delete(this),n.size||(r.delete(i),o.delete(i))),n.size||r.delete(i),o.size||cancelAnimationFrame(t)}},A.DOMRectReadOnly=c,A.ResizeObserver=s,A.ResizeObserverEntry=h,A}; // eslint-disable-line\nmpl.toolbar_items = [[\"Home\", \"Reset original view\", \"fa fa-home icon-home\", \"home\"], [\"Back\", \"Back to previous view\", \"fa fa-arrow-left icon-arrow-left\", \"back\"], [\"Forward\", \"Forward to next view\", \"fa fa-arrow-right icon-arrow-right\", \"forward\"], [\"\", \"\", \"\", \"\"], [\"Pan\", \"Left button pans, Right button zooms\\nx/y fixes axis, CTRL fixes aspect\", \"fa fa-arrows icon-move\", \"pan\"], [\"Zoom\", \"Zoom to rectangle\\nx/y fixes axis, CTRL fixes aspect\", \"fa fa-square-o icon-check-empty\", \"zoom\"], [\"\", \"\", \"\", \"\"], [\"Download\", \"Download plot\", \"fa fa-floppy-o icon-save\", \"download\"]];\n\nmpl.extensions = [\"eps\", \"jpeg\", \"pdf\", \"png\", \"ps\", \"raw\", \"svg\", \"tif\"];\n\nmpl.default_extension = \"png\";/* global mpl */\n\nvar comm_websocket_adapter = function (comm) {\n    // Create a \"websocket\"-like object which calls the given IPython comm\n    // object with the appropriate methods. Currently this is a non binary\n    // socket, so there is still some room for performance tuning.\n    var ws = {};\n\n    ws.close = function () {\n        comm.close();\n    };\n    ws.send = function (m) {\n        //console.log('sending', m);\n        comm.send(m);\n    };\n    // Register the callback with on_msg.\n    comm.on_msg(function (msg) {\n        //console.log('receiving', msg['content']['data'], msg);\n        // Pass the mpl event to the overridden (by mpl) onmessage function.\n        ws.onmessage(msg['content']['data']);\n    });\n    return ws;\n};\n\nmpl.mpl_figure_comm = function (comm, msg) {\n    // This is the function which gets called when the mpl process\n    // starts-up an IPython Comm through the \"matplotlib\" channel.\n\n    var id = msg.content.data.id;\n    // Get hold of the div created by the display call when the Comm\n    // socket was opened in Python.\n    var element = document.getElementById(id);\n    var ws_proxy = comm_websocket_adapter(comm);\n\n    function ondownload(figure, _format) {\n        window.open(figure.canvas.toDataURL());\n    }\n\n    var fig = new mpl.figure(id, ws_proxy, ondownload, element);\n\n    // Call onopen now - mpl needs it, as it is assuming we've passed it a real\n    // web socket which is closed, not our websocket->open comm proxy.\n    ws_proxy.onopen();\n\n    fig.parent_element = element;\n    fig.cell_info = mpl.find_output_cell(\"<div id='\" + id + \"'></div>\");\n    if (!fig.cell_info) {\n        console.error('Failed to find cell for figure', id, fig);\n        return;\n    }\n    fig.cell_info[0].output_area.element.on(\n        'cleared',\n        { fig: fig },\n        fig._remove_fig_handler\n    );\n};\n\nmpl.figure.prototype.handle_close = function (fig, msg) {\n    var width = fig.canvas.width / fig.ratio;\n    fig.cell_info[0].output_area.element.off(\n        'cleared',\n        fig._remove_fig_handler\n    );\n    fig.resizeObserverInstance.unobserve(fig.canvas_div);\n\n    // Update the output cell to use the data from the current canvas.\n    fig.push_to_output();\n    var dataURL = fig.canvas.toDataURL();\n    // Re-enable the keyboard manager in IPython - without this line, in FF,\n    // the notebook keyboard shortcuts fail.\n    IPython.keyboard_manager.enable();\n    fig.parent_element.innerHTML =\n        '<img src=\"' + dataURL + '\" width=\"' + width + '\">';\n    fig.close_ws(fig, msg);\n};\n\nmpl.figure.prototype.close_ws = function (fig, msg) {\n    fig.send_message('closing', msg);\n    // fig.ws.close()\n};\n\nmpl.figure.prototype.push_to_output = function (_remove_interactive) {\n    // Turn the data on the canvas into data in the output cell.\n    var width = this.canvas.width / this.ratio;\n    var dataURL = this.canvas.toDataURL();\n    this.cell_info[1]['text/html'] =\n        '<img src=\"' + dataURL + '\" width=\"' + width + '\">';\n};\n\nmpl.figure.prototype.updated_canvas_event = function () {\n    // Tell IPython that the notebook contents must change.\n    IPython.notebook.set_dirty(true);\n    this.send_message('ack', {});\n    var fig = this;\n    // Wait a second, then push the new image to the DOM so\n    // that it is saved nicely (might be nice to debounce this).\n    setTimeout(function () {\n        fig.push_to_output();\n    }, 1000);\n};\n\nmpl.figure.prototype._init_toolbar = function () {\n    var fig = this;\n\n    var toolbar = document.createElement('div');\n    toolbar.classList = 'btn-toolbar';\n    this.root.appendChild(toolbar);\n\n    function on_click_closure(name) {\n        return function (_event) {\n            return fig.toolbar_button_onclick(name);\n        };\n    }\n\n    function on_mouseover_closure(tooltip) {\n        return function (event) {\n            if (!event.currentTarget.disabled) {\n                return fig.toolbar_button_onmouseover(tooltip);\n            }\n        };\n    }\n\n    fig.buttons = {};\n    var buttonGroup = document.createElement('div');\n    buttonGroup.classList = 'btn-group';\n    var button;\n    for (var toolbar_ind in mpl.toolbar_items) {\n        var name = mpl.toolbar_items[toolbar_ind][0];\n        var tooltip = mpl.toolbar_items[toolbar_ind][1];\n        var image = mpl.toolbar_items[toolbar_ind][2];\n        var method_name = mpl.toolbar_items[toolbar_ind][3];\n\n        if (!name) {\n            /* Instead of a spacer, we start a new button group. */\n            if (buttonGroup.hasChildNodes()) {\n                toolbar.appendChild(buttonGroup);\n            }\n            buttonGroup = document.createElement('div');\n            buttonGroup.classList = 'btn-group';\n            continue;\n        }\n\n        button = fig.buttons[name] = document.createElement('button');\n        button.classList = 'btn btn-default';\n        button.href = '#';\n        button.title = name;\n        button.innerHTML = '<i class=\"fa ' + image + ' fa-lg\"></i>';\n        button.addEventListener('click', on_click_closure(method_name));\n        button.addEventListener('mouseover', on_mouseover_closure(tooltip));\n        buttonGroup.appendChild(button);\n    }\n\n    if (buttonGroup.hasChildNodes()) {\n        toolbar.appendChild(buttonGroup);\n    }\n\n    // Add the status bar.\n    var status_bar = document.createElement('span');\n    status_bar.classList = 'mpl-message pull-right';\n    toolbar.appendChild(status_bar);\n    this.message = status_bar;\n\n    // Add the close button to the window.\n    var buttongrp = document.createElement('div');\n    buttongrp.classList = 'btn-group inline pull-right';\n    button = document.createElement('button');\n    button.classList = 'btn btn-mini btn-primary';\n    button.href = '#';\n    button.title = 'Stop Interaction';\n    button.innerHTML = '<i class=\"fa fa-power-off icon-remove icon-large\"></i>';\n    button.addEventListener('click', function (_evt) {\n        fig.handle_close(fig, {});\n    });\n    button.addEventListener(\n        'mouseover',\n        on_mouseover_closure('Stop Interaction')\n    );\n    buttongrp.appendChild(button);\n    var titlebar = this.root.querySelector('.ui-dialog-titlebar');\n    titlebar.insertBefore(buttongrp, titlebar.firstChild);\n};\n\nmpl.figure.prototype._remove_fig_handler = function (event) {\n    var fig = event.data.fig;\n    if (event.target !== this) {\n        // Ignore bubbled events from children.\n        return;\n    }\n    fig.close_ws(fig, {});\n};\n\nmpl.figure.prototype._root_extra_style = function (el) {\n    el.style.boxSizing = 'content-box'; // override notebook setting of border-box.\n};\n\nmpl.figure.prototype._canvas_extra_style = function (el) {\n    // this is important to make the div 'focusable\n    el.setAttribute('tabindex', 0);\n    // reach out to IPython and tell the keyboard manager to turn it's self\n    // off when our div gets focus\n\n    // location in version 3\n    if (IPython.notebook.keyboard_manager) {\n        IPython.notebook.keyboard_manager.register_events(el);\n    } else {\n        // location in version 2\n        IPython.keyboard_manager.register_events(el);\n    }\n};\n\nmpl.figure.prototype._key_event_extra = function (event, _name) {\n    var manager = IPython.notebook.keyboard_manager;\n    if (!manager) {\n        manager = IPython.keyboard_manager;\n    }\n\n    // Check for shift+enter\n    if (event.shiftKey && event.which === 13) {\n        this.canvas_div.blur();\n        // select the cell after this one\n        var index = IPython.notebook.find_cell_index(this.cell_info[0]);\n        IPython.notebook.select(index + 1);\n    }\n};\n\nmpl.figure.prototype.handle_save = function (fig, _msg) {\n    fig.ondownload(fig, null);\n};\n\nmpl.find_output_cell = function (html_output) {\n    // Return the cell and output element which can be found *uniquely* in the notebook.\n    // Note - this is a bit hacky, but it is done because the \"notebook_saving.Notebook\"\n    // IPython event is triggered only after the cells have been serialised, which for\n    // our purposes (turning an active figure into a static one), is too late.\n    var cells = IPython.notebook.get_cells();\n    var ncells = cells.length;\n    for (var i = 0; i < ncells; i++) {\n        var cell = cells[i];\n        if (cell.cell_type === 'code') {\n            for (var j = 0; j < cell.output_area.outputs.length; j++) {\n                var data = cell.output_area.outputs[j];\n                if (data.data) {\n                    // IPython >= 3 moved mimebundle to data attribute of output\n                    data = data.data;\n                }\n                if (data['text/html'] === html_output) {\n                    return [cell, data, j];\n                }\n            }\n        }\n    }\n};\n\n// Register the function which deals with the matplotlib target/channel.\n// The kernel may be null if the page has been refreshed.\nif (IPython.notebook.kernel !== null) {\n    IPython.notebook.kernel.comm_manager.register_target(\n        'matplotlib',\n        mpl.mpl_figure_comm\n    );\n}\n",
      "text/plain": [
       "<IPython.core.display.Javascript object>"
      ]
     },
     "metadata": {},
     "output_type": "display_data"
    },
    {
     "data": {
      "text/html": [
       "<div id='ffd79fbb-41cc-4635-b830-712e757faeec'></div>"
      ],
      "text/plain": [
       "<IPython.core.display.HTML object>"
      ]
     },
     "metadata": {},
     "output_type": "display_data"
    }
   ],
   "source": [
    "plt.figure(figsize = (8,3))\n",
    "cv_stats.loc['mean'].plot(yerr = cv_stats.loc['std'], ax = plt.gca())\n",
    "plt.ylabel('Cross-validation score ($R^2$)')\n",
    "plt.grid()\n",
    "plt.tight_layout()"
   ]
  },
  {
   "cell_type": "markdown",
   "metadata": {},
   "source": [
    "## *Questions*\n",
    "- a. What is the optimal number of features? **NOTE**: These results can vary due to the re-shuffling of the data!\n",
    "- b. How much of the improvement compared to the default model from tutorial 2 can be attributed to the feature transformation of the `roof_aspect`? How do you measure that?\n",
    "- c. How much of the improvement can be attributed to the feature selection?"
   ]
  },
  {
   "cell_type": "markdown",
   "metadata": {},
   "source": [
    "### *SOLUTION*\n",
    "- a. The optimal number of features should lie somewhere between 4 - 9 features.\n",
    "- b. If we compare the results with all features, we see that the score is increased from around 0.4 to 0.65, simply by transforming the `roof_aspect`.\n",
    "- c. If we compare the score for the optimal number of features (around 0.75-0.8) to the score for all features, we see that the feature selection increases the average cv-score by another +0.1 approximately."
   ]
  },
  {
   "cell_type": "code",
   "execution_count": null,
   "metadata": {},
   "outputs": [],
   "source": []
  },
  {
   "cell_type": "code",
   "execution_count": null,
   "metadata": {},
   "outputs": [],
   "source": []
  }
 ],
 "metadata": {
  "kernelspec": {
   "display_name": "Python 3",
   "language": "python",
   "name": "python3"
  },
  "language_info": {
   "codemirror_mode": {
    "name": "ipython",
    "version": 3
   },
   "file_extension": ".py",
   "mimetype": "text/x-python",
   "name": "python",
   "nbconvert_exporter": "python",
   "pygments_lexer": "ipython3",
   "version": "3.9.2"
  }
 },
 "nbformat": 4,
 "nbformat_minor": 4
}
